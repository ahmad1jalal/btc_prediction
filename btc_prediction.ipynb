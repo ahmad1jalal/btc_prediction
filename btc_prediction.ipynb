{
 "cells": [
  {
   "cell_type": "markdown",
   "id": "3baea97d",
   "metadata": {},
   "source": [
    "## Importing libraries...."
   ]
  },
  {
   "cell_type": "code",
   "execution_count": 64,
   "id": "90ea1175",
   "metadata": {},
   "outputs": [],
   "source": [
    "# importing libraries....\n",
    "import numpy as np\n",
    "import pandas as pd\n",
    "import matplotlib.pyplot as plt\n",
    "import tensorflow as tf\n",
    "import datetime\n",
    "from tensorflow.keras.callbacks import TensorBoard\n",
    "from tensorflow.keras import Sequential,layers"
   ]
  },
  {
   "cell_type": "markdown",
   "id": "bf3e27a4",
   "metadata": {},
   "source": [
    "In this notebook we're going to predict the prize of the Bitcoin💰.\n",
    "We'll build a series of model for prediction.\n",
    "\n",
    "What we're going to cover....???\n",
    "    ~ Get the data\n",
    "    ~ Format the data\n",
    "    ~ Visualize the data\n",
    "    ~ Prepare data into window size\n",
    "    ~ Setup a series of model\n",
    "    ~ Make Prdiction"
   ]
  },
  {
   "cell_type": "code",
   "execution_count": 22,
   "id": "991c85a5",
   "metadata": {},
   "outputs": [
    {
     "name": "stdout",
     "output_type": "stream",
     "text": [
      "btc_data.csv         btc_prediction.ipynb\r\n"
     ]
    }
   ],
   "source": [
    "# getting the data...\n",
    "!ls"
   ]
  },
  {
   "cell_type": "code",
   "execution_count": 23,
   "id": "67b2eff1",
   "metadata": {},
   "outputs": [
    {
     "data": {
      "text/html": [
       "<div>\n",
       "<style scoped>\n",
       "    .dataframe tbody tr th:only-of-type {\n",
       "        vertical-align: middle;\n",
       "    }\n",
       "\n",
       "    .dataframe tbody tr th {\n",
       "        vertical-align: top;\n",
       "    }\n",
       "\n",
       "    .dataframe thead th {\n",
       "        text-align: right;\n",
       "    }\n",
       "</style>\n",
       "<table border=\"1\" class=\"dataframe\">\n",
       "  <thead>\n",
       "    <tr style=\"text-align: right;\">\n",
       "      <th></th>\n",
       "      <th>Currency</th>\n",
       "      <th>Closing Price (USD)</th>\n",
       "      <th>24h Open (USD)</th>\n",
       "      <th>24h High (USD)</th>\n",
       "      <th>24h Low (USD)</th>\n",
       "    </tr>\n",
       "    <tr>\n",
       "      <th>Date</th>\n",
       "      <th></th>\n",
       "      <th></th>\n",
       "      <th></th>\n",
       "      <th></th>\n",
       "      <th></th>\n",
       "    </tr>\n",
       "  </thead>\n",
       "  <tbody>\n",
       "    <tr>\n",
       "      <th>2013-10-01</th>\n",
       "      <td>BTC</td>\n",
       "      <td>123.65499</td>\n",
       "      <td>124.30466</td>\n",
       "      <td>124.75166</td>\n",
       "      <td>122.56349</td>\n",
       "    </tr>\n",
       "    <tr>\n",
       "      <th>2013-10-02</th>\n",
       "      <td>BTC</td>\n",
       "      <td>125.45500</td>\n",
       "      <td>123.65499</td>\n",
       "      <td>125.75850</td>\n",
       "      <td>123.63383</td>\n",
       "    </tr>\n",
       "    <tr>\n",
       "      <th>2013-10-03</th>\n",
       "      <td>BTC</td>\n",
       "      <td>108.58483</td>\n",
       "      <td>125.45500</td>\n",
       "      <td>125.66566</td>\n",
       "      <td>83.32833</td>\n",
       "    </tr>\n",
       "    <tr>\n",
       "      <th>2013-10-04</th>\n",
       "      <td>BTC</td>\n",
       "      <td>118.67466</td>\n",
       "      <td>108.58483</td>\n",
       "      <td>118.67500</td>\n",
       "      <td>107.05816</td>\n",
       "    </tr>\n",
       "    <tr>\n",
       "      <th>2013-10-05</th>\n",
       "      <td>BTC</td>\n",
       "      <td>121.33866</td>\n",
       "      <td>118.67466</td>\n",
       "      <td>121.93633</td>\n",
       "      <td>118.00566</td>\n",
       "    </tr>\n",
       "  </tbody>\n",
       "</table>\n",
       "</div>"
      ],
      "text/plain": [
       "           Currency  Closing Price (USD)  24h Open (USD)  24h High (USD)  \\\n",
       "Date                                                                       \n",
       "2013-10-01      BTC            123.65499       124.30466       124.75166   \n",
       "2013-10-02      BTC            125.45500       123.65499       125.75850   \n",
       "2013-10-03      BTC            108.58483       125.45500       125.66566   \n",
       "2013-10-04      BTC            118.67466       108.58483       118.67500   \n",
       "2013-10-05      BTC            121.33866       118.67466       121.93633   \n",
       "\n",
       "            24h Low (USD)  \n",
       "Date                       \n",
       "2013-10-01      122.56349  \n",
       "2013-10-02      123.63383  \n",
       "2013-10-03       83.32833  \n",
       "2013-10-04      107.05816  \n",
       "2013-10-05      118.00566  "
      ]
     },
     "execution_count": 23,
     "metadata": {},
     "output_type": "execute_result"
    }
   ],
   "source": [
    "df = pd.read_csv(\"btc_data.csv\",parse_dates=[\"Date\"],index_col=[\"Date\"])\n",
    "df.head()"
   ]
  },
  {
   "cell_type": "code",
   "execution_count": 24,
   "id": "70244d6e",
   "metadata": {},
   "outputs": [
    {
     "name": "stdout",
     "output_type": "stream",
     "text": [
      "<class 'pandas.core.frame.DataFrame'>\n",
      "DatetimeIndex: 2787 entries, 2013-10-01 to 2021-05-18\n",
      "Data columns (total 5 columns):\n",
      " #   Column               Non-Null Count  Dtype  \n",
      "---  ------               --------------  -----  \n",
      " 0   Currency             2787 non-null   object \n",
      " 1   Closing Price (USD)  2787 non-null   float64\n",
      " 2   24h Open (USD)       2787 non-null   float64\n",
      " 3   24h High (USD)       2787 non-null   float64\n",
      " 4   24h Low (USD)        2787 non-null   float64\n",
      "dtypes: float64(4), object(1)\n",
      "memory usage: 130.6+ KB\n"
     ]
    }
   ],
   "source": [
    "# get some data info\n",
    "df.info()"
   ]
  },
  {
   "cell_type": "code",
   "execution_count": 25,
   "id": "e4bfb92a",
   "metadata": {},
   "outputs": [
    {
     "data": {
      "text/plain": [
       "(2787, 5)"
      ]
     },
     "execution_count": 25,
     "metadata": {},
     "output_type": "execute_result"
    }
   ],
   "source": [
    "df.shape"
   ]
  },
  {
   "cell_type": "code",
   "execution_count": 26,
   "id": "f64ac5aa",
   "metadata": {},
   "outputs": [
    {
     "data": {
      "text/html": [
       "<div>\n",
       "<style scoped>\n",
       "    .dataframe tbody tr th:only-of-type {\n",
       "        vertical-align: middle;\n",
       "    }\n",
       "\n",
       "    .dataframe tbody tr th {\n",
       "        vertical-align: top;\n",
       "    }\n",
       "\n",
       "    .dataframe thead th {\n",
       "        text-align: right;\n",
       "    }\n",
       "</style>\n",
       "<table border=\"1\" class=\"dataframe\">\n",
       "  <thead>\n",
       "    <tr style=\"text-align: right;\">\n",
       "      <th></th>\n",
       "      <th>Price</th>\n",
       "    </tr>\n",
       "    <tr>\n",
       "      <th>Date</th>\n",
       "      <th></th>\n",
       "    </tr>\n",
       "  </thead>\n",
       "  <tbody>\n",
       "    <tr>\n",
       "      <th>2013-10-01</th>\n",
       "      <td>123.65499</td>\n",
       "    </tr>\n",
       "    <tr>\n",
       "      <th>2013-10-02</th>\n",
       "      <td>125.45500</td>\n",
       "    </tr>\n",
       "    <tr>\n",
       "      <th>2013-10-03</th>\n",
       "      <td>108.58483</td>\n",
       "    </tr>\n",
       "    <tr>\n",
       "      <th>2013-10-04</th>\n",
       "      <td>118.67466</td>\n",
       "    </tr>\n",
       "    <tr>\n",
       "      <th>2013-10-05</th>\n",
       "      <td>121.33866</td>\n",
       "    </tr>\n",
       "  </tbody>\n",
       "</table>\n",
       "</div>"
      ],
      "text/plain": [
       "                Price\n",
       "Date                 \n",
       "2013-10-01  123.65499\n",
       "2013-10-02  125.45500\n",
       "2013-10-03  108.58483\n",
       "2013-10-04  118.67466\n",
       "2013-10-05  121.33866"
      ]
     },
     "execution_count": 26,
     "metadata": {},
     "output_type": "execute_result"
    }
   ],
   "source": [
    "# get the btc price for each day\n",
    "btc_prices = pd.DataFrame(df[\"Closing Price (USD)\"]).rename(columns={\"Closing Price (USD)\": \"Price\"})\n",
    "btc_prices.head()"
   ]
  },
  {
   "cell_type": "code",
   "execution_count": 27,
   "id": "ef669b55",
   "metadata": {},
   "outputs": [
    {
     "data": {
      "image/png": "[encoded data removed]",
      "text/plain": [
       "<Figure size 720x576 with 1 Axes>"
      ]
     },
     "metadata": {
      "needs_background": "light"
     },
     "output_type": "display_data"
    }
   ],
   "source": [
    "# let's visualize the data...\n",
    "btc_prices.plot(figsize=(10,8))\n",
    "plt.ylabel(\"BTC_Price\")\n",
    "plt.title(\"BTC Price over the years!\")\n",
    "plt.show()"
   ]
  },
  {
   "cell_type": "markdown",
   "id": "ab6b0bb9",
   "metadata": {},
   "source": [
    "## Format the data for training and testing..."
   ]
  },
  {
   "cell_type": "code",
   "execution_count": 28,
   "id": "dd301dc4",
   "metadata": {},
   "outputs": [],
   "source": [
    "prices = btc_prices[\"Price\"].to_numpy()\n",
    "timestamps = btc_prices.index.to_numpy()"
   ]
  },
  {
   "cell_type": "code",
   "execution_count": 29,
   "id": "19e57832",
   "metadata": {},
   "outputs": [
    {
     "data": {
      "text/plain": [
       "(2229, 2229, 558, 558)"
      ]
     },
     "execution_count": 29,
     "metadata": {},
     "output_type": "execute_result"
    }
   ],
   "source": [
    "# create train and test split 80% for training and 20% testing.....\n",
    "split_size = int(0.8 * len(btc_prices))\n",
    "\n",
    "# create train data splits...\n",
    "X_train,y_train = timestamps[:split_size],prices[:split_size]\n",
    "\n",
    "# create test data split....\n",
    "X_test,y_test = timestamps[split_size:],prices[split_size:]\n",
    "\n",
    "len(X_train),len(y_train),len(X_test),len(y_test)"
   ]
  },
  {
   "cell_type": "code",
   "execution_count": 30,
   "id": "4f6312d1",
   "metadata": {},
   "outputs": [],
   "source": [
    "# let's make a plotting function\n",
    "def plot_time_series(timestamps,value,format=\".\",start=0,end=None,label=None):\n",
    "    plt.plot(timestamps[start:end],value[start:end],format,label=label)\n",
    "    plt.xlabel(\"Time\")\n",
    "    plt.ylabel(\"Price\")\n",
    "    if label:\n",
    "        plt.legend(fontsize=10)\n",
    "    plt.grid(True)"
   ]
  },
  {
   "cell_type": "code",
   "execution_count": 31,
   "id": "9ea3b232",
   "metadata": {},
   "outputs": [
    {
     "data": {
      "image/png": "[encoded data removed]",
      "text/plain": [
       "<Figure size 720x576 with 1 Axes>"
      ]
     },
     "metadata": {
      "needs_background": "light"
     },
     "output_type": "display_data"
    }
   ],
   "source": [
    "plt.figure(figsize=(10,8))\n",
    "plot_time_series(X_train,y_train,label=\"training_data\")\n",
    "plot_time_series(X_test,y_test,label=\"testing_data\")"
   ]
  },
  {
   "cell_type": "markdown",
   "id": "498a88dd",
   "metadata": {},
   "source": [
    "## Modelling Experiments:\n",
    "\n",
    "We're going to build a plenty of models that will predict the bitcoin price using historical data."
   ]
  },
  {
   "cell_type": "markdown",
   "id": "91db94eb",
   "metadata": {},
   "source": [
    "## Model 0 : Naive Forecast\n",
    "\n",
    "Naive model is one of the most common model for time series probles. It predicts the price by y(pred) = y(t-1)."
   ]
  },
  {
   "cell_type": "code",
   "execution_count": 32,
   "id": "b00b5e1c",
   "metadata": {},
   "outputs": [
    {
     "data": {
      "text/plain": [
       "(array([9226.48582088, 8794.35864452, 8798.04205463, 9081.18687849,\n",
       "        8711.53433917, 8760.89271814, 8749.52059102, 8656.97092235,\n",
       "        8500.64355816, 8469.2608989 ]),\n",
       " array([57107.12067189, 58788.20967893, 58102.19142623, 55715.54665129,\n",
       "        56573.5554719 , 52147.82118698, 49764.1320816 , 50032.69313676,\n",
       "        47885.62525472, 45604.61575361]))"
      ]
     },
     "execution_count": 32,
     "metadata": {},
     "output_type": "execute_result"
    }
   ],
   "source": [
    "# create a naive forecast...\n",
    "naive_forecast = y_test[:-1]\n",
    "\n",
    "naive_forecast[:10] , naive_forecast[-10:]"
   ]
  },
  {
   "cell_type": "code",
   "execution_count": 33,
   "id": "3d78831f",
   "metadata": {},
   "outputs": [
    {
     "data": {
      "image/png": "[encoded data removed]",
      "text/plain": [
       "<Figure size 720x576 with 1 Axes>"
      ]
     },
     "metadata": {
      "needs_background": "light"
     },
     "output_type": "display_data"
    }
   ],
   "source": [
    "# plot naive forecast....\n",
    "plt.figure(figsize=(10,8))\n",
    "plot_time_series(X_train,y_train,label=\"Train_data\")\n",
    "plot_time_series(X_test,y_test,label=\"Test_data\")\n",
    "plot_time_series(X_test[1:],naive_forecast,format=\"-\",label=\"Forecast\")"
   ]
  },
  {
   "cell_type": "markdown",
   "id": "6dd4b571",
   "metadata": {},
   "source": [
    "## Evaluate a time series model..."
   ]
  },
  {
   "cell_type": "code",
   "execution_count": 39,
   "id": "2a8fee1c",
   "metadata": {},
   "outputs": [],
   "source": [
    "def mean_absolute_scaled_error(y_true,y_pred):\n",
    "    \n",
    "    import tensorflow as tf\n",
    "    mae = tf.reduce_mean(tf.abs(y_true - y_pred))\n",
    "    \n",
    "#     find mae for naive forecast\n",
    "    mae_navie_no_season = tf.reduce_mean(tf.abs(y_true[1:] - y_true[:-1]))\n",
    "    return mae / mae_navie_no_season\n",
    "\n",
    "# let's make a function that will evaluate our predictions....\n",
    "\n",
    "def evaluate_preds(y_true,y_pred):\n",
    "#     make sure they're in float 32\n",
    "    import tensorflow as tf\n",
    "    y_true = tf.cast(y_true,dtype=tf.float32)\n",
    "    y_pred = tf.cast(y_pred,dtype=tf.float32)\n",
    "    \n",
    "    \n",
    "#     calculate various metrics....\n",
    "    mae = tf.keras.metrics.mean_absolute_error(y_true,y_pred)\n",
    "    mse = tf.keras.metrics.mean_squared_error(y_true,y_pred)\n",
    "    rmse = tf.sqrt(mse)\n",
    "    mape = tf.keras.metrics.mean_absolute_percentage_error(y_true,y_pred)\n",
    "    mase = mean_absolute_scaled_error(y_true,y_pred)\n",
    "    \n",
    "    results = {\n",
    "        \"MAE\" : mae.numpy(),\n",
    "        \"MSE\" : mse.numpy(),\n",
    "        \"RMSE\" : rmse.numpy(),\n",
    "        \"MAPE\" : mape.numpy(),\n",
    "        \"MASE\" : mase.numpy(),\n",
    "    }\n",
    "    return results"
   ]
  },
  {
   "cell_type": "code",
   "execution_count": 41,
   "id": "f45e28ec",
   "metadata": {},
   "outputs": [
    {
     "data": {
      "text/plain": [
       "{'MAE': 567.9803,\n",
       " 'MSE': 1147547.1,\n",
       " 'RMSE': 1071.2362,\n",
       " 'MAPE': 2.516525,\n",
       " 'MASE': 0.99957013}"
      ]
     },
     "execution_count": 41,
     "metadata": {},
     "output_type": "execute_result"
    }
   ],
   "source": [
    "naive_results = evaluate_preds(y_test[1:],naive_forecast)\n",
    "naive_results"
   ]
  },
  {
   "cell_type": "markdown",
   "id": "36cec510",
   "metadata": {},
   "source": [
    "## Format Data into window\n",
    "\n",
    "Now we're turning our data into window and horizon. Window is a method to turn time series dataset for machine learning modelling. For example window = 7 and horizon =1 means we're using past 7 days data to predict 1 day btc price. let's see in action"
   ]
  },
  {
   "cell_type": "code",
   "execution_count": 42,
   "id": "34869f62",
   "metadata": {},
   "outputs": [],
   "source": [
    "# setup window and horizon size\n",
    "HORIZON = 1\n",
    "WINDOW = 7 "
   ]
  },
  {
   "cell_type": "code",
   "execution_count": 44,
   "id": "e6e4c5a9",
   "metadata": {},
   "outputs": [],
   "source": [
    "def get_label_window(x,horizon):\n",
    "    \n",
    "    return x[:,:-horizon], x[:,-horizon:]"
   ]
  },
  {
   "cell_type": "code",
   "execution_count": 52,
   "id": "c56a8b28",
   "metadata": {},
   "outputs": [
    {
     "data": {
      "text/plain": [
       "(array([], shape=(8, 0), dtype=int32),\n",
       " array([[1],\n",
       "        [2],\n",
       "        [3],\n",
       "        [4],\n",
       "        [5],\n",
       "        [6],\n",
       "        [7],\n",
       "        [8]], dtype=int32))"
      ]
     },
     "execution_count": 52,
     "metadata": {},
     "output_type": "execute_result"
    }
   ],
   "source": [
    "# test it out \n",
    "test_window, test_label = get_label_window(tf.expand_dims(tf.range(8)+1,axis=1),1)\n",
    "test_window.numpy(),test_label.numpy()"
   ]
  },
  {
   "cell_type": "code",
   "execution_count": 55,
   "id": "4b611a7b",
   "metadata": {},
   "outputs": [],
   "source": [
    "def make_windows(x,windows = 7,horizon = 1):\n",
    "    \n",
    "    window_step = np.expand_dims(np.arange(windows+horizon),axis=0)\n",
    "    \n",
    "    window_indexes = window_step + np.expand_dims(np.arange(len(x) - (windows+horizon - 1)), axis = 0 ).T\n",
    "    \n",
    "    windowed_array = x[window_indexes]\n",
    "    \n",
    "    windows,label = get_label_window(windowed_array,horizon)\n",
    "    \n",
    "    return windows,label"
   ]
  },
  {
   "cell_type": "code",
   "execution_count": 57,
   "id": "69aba3ae",
   "metadata": {},
   "outputs": [
    {
     "data": {
      "text/plain": [
       "(2780, 2780)"
      ]
     },
     "execution_count": 57,
     "metadata": {},
     "output_type": "execute_result"
    }
   ],
   "source": [
    "# check it out....\n",
    "full_windows,full_labels = make_windows(prices,)\n",
    "len(full_windows),len(full_labels)"
   ]
  },
  {
   "cell_type": "code",
   "execution_count": 58,
   "id": "9bb1770d",
   "metadata": {},
   "outputs": [
    {
     "name": "stdout",
     "output_type": "stream",
     "text": [
      "[123.65499 125.455   108.58483 118.67466 121.33866 120.65533 121.795  ] [123.033]\n",
      "[125.455   108.58483 118.67466 121.33866 120.65533 121.795   123.033  ] [124.049]\n",
      "[108.58483 118.67466 121.33866 120.65533 121.795   123.033   124.049  ] [125.96116]\n"
     ]
    }
   ],
   "source": [
    "for i in range(3):\n",
    "    print(full_windows[i],full_labels[i])"
   ]
  },
  {
   "cell_type": "code",
   "execution_count": 60,
   "id": "8f3567ef",
   "metadata": {},
   "outputs": [],
   "source": [
    "# make a function for train and test split\n",
    "def train_test_split(window,label,):\n",
    "    split_size = int(len(window) * 0.8)\n",
    "    train_windows = window[:split_size]\n",
    "    train_labels = label[:split_size]\n",
    "    test_windows = window[split_size:]\n",
    "    test_labels = label[split_size:]\n",
    "    return train_windows,test_windows,train_labels,test_labels"
   ]
  },
  {
   "cell_type": "code",
   "execution_count": 61,
   "id": "aacdf981",
   "metadata": {},
   "outputs": [
    {
     "data": {
      "text/plain": [
       "(2224, 2224, 556, 556)"
      ]
     },
     "execution_count": 61,
     "metadata": {},
     "output_type": "execute_result"
    }
   ],
   "source": [
    "train_windows,test_windows,train_labels,test_labels = train_test_split(full_windows,full_labels)\n",
    "len(train_windows),len(train_labels),len(test_windows),len(test_labels)"
   ]
  },
  {
   "cell_type": "code",
   "execution_count": 63,
   "id": "b4f6f5d1",
   "metadata": {},
   "outputs": [],
   "source": [
    "# make model check point..\n",
    "def create_model_checkpoint(model_name,path=\"model_experiments\"):\n",
    "    data_dir = path + \"/\" + model_name + \"/\" + datetime.datetime.now().strftime(\"%Y%m%d%H%M\")\n",
    "    check_p = TensorBoard(data_dir)\n",
    "    print(f\"Model Saving to : {data_dir}\")\n",
    "    return check_p"
   ]
  },
  {
   "cell_type": "markdown",
   "id": "0db863ba",
   "metadata": {},
   "source": [
    "## Model 1 : Dense Model \n",
    "we're going to build our first dense model with window size = 7 and horizon = 1."
   ]
  },
  {
   "cell_type": "code",
   "execution_count": 71,
   "id": "f3b70a80",
   "metadata": {},
   "outputs": [
    {
     "name": "stdout",
     "output_type": "stream",
     "text": [
      "Model Saving to : model_experiments/model_1/202208222303\n",
      "Epoch 1/100\n"
     ]
    },
    {
     "name": "stderr",
     "output_type": "stream",
     "text": [
      "2022-08-22 23:03:54.067975: W tensorflow/core/platform/profile_utils/cpu_utils.cc:128] Failed to get CPU frequency: 0 Hz\n",
      "2022-08-22 23:03:54.255656: I tensorflow/core/grappler/optimizers/custom_graph_optimizer_registry.cc:113] Plugin optimizer for device_type GPU is enabled.\n"
     ]
    },
    {
     "name": "stdout",
     "output_type": "stream",
     "text": [
      "18/18 [==============================] - 1s 16ms/step - loss: 780.3450 - mae: 780.3450 - val_loss: 2279.6550 - val_mae: 2279.6550\n",
      "Epoch 2/100\n",
      "18/18 [==============================] - 0s 6ms/step - loss: 247.6752 - mae: 247.6752 - val_loss: 1006.0009 - val_mae: 1006.0009\n",
      "Epoch 3/100\n",
      "14/18 [======================>.......] - ETA: 0s - loss: 192.5418 - mae: 192.5418"
     ]
    },
    {
     "name": "stderr",
     "output_type": "stream",
     "text": [
      "2022-08-22 23:03:54.953085: I tensorflow/core/grappler/optimizers/custom_graph_optimizer_registry.cc:113] Plugin optimizer for device_type GPU is enabled.\n"
     ]
    },
    {
     "name": "stdout",
     "output_type": "stream",
     "text": [
      "18/18 [==============================] - 0s 6ms/step - loss: 188.4117 - mae: 188.4117 - val_loss: 923.2863 - val_mae: 923.2862\n",
      "Epoch 4/100\n",
      "18/18 [==============================] - 0s 6ms/step - loss: 169.4341 - mae: 169.4341 - val_loss: 900.5866 - val_mae: 900.5865\n",
      "Epoch 5/100\n",
      "18/18 [==============================] - 0s 6ms/step - loss: 165.0894 - mae: 165.0894 - val_loss: 895.2215 - val_mae: 895.2215\n",
      "Epoch 6/100\n",
      "18/18 [==============================] - 0s 6ms/step - loss: 158.5210 - mae: 158.5210 - val_loss: 855.1998 - val_mae: 855.1998\n",
      "Epoch 7/100\n",
      "18/18 [==============================] - 0s 6ms/step - loss: 151.3567 - mae: 151.3567 - val_loss: 840.9153 - val_mae: 840.9153\n",
      "Epoch 8/100\n",
      "18/18 [==============================] - 0s 6ms/step - loss: 145.2561 - mae: 145.2561 - val_loss: 803.5953 - val_mae: 803.5953\n",
      "Epoch 9/100\n",
      "18/18 [==============================] - 0s 6ms/step - loss: 144.3546 - mae: 144.3546 - val_loss: 799.5440 - val_mae: 799.5440\n",
      "Epoch 10/100\n",
      "18/18 [==============================] - 0s 5ms/step - loss: 141.2943 - mae: 141.2943 - val_loss: 763.5007 - val_mae: 763.5007\n",
      "Epoch 11/100\n",
      "18/18 [==============================] - 0s 5ms/step - loss: 135.6596 - mae: 135.6596 - val_loss: 771.3337 - val_mae: 771.3337\n",
      "Epoch 12/100\n",
      "18/18 [==============================] - 0s 5ms/step - loss: 134.1700 - mae: 134.1700 - val_loss: 782.8046 - val_mae: 782.8046\n",
      "Epoch 13/100\n",
      "18/18 [==============================] - 0s 5ms/step - loss: 134.6016 - mae: 134.6016 - val_loss: 784.4411 - val_mae: 784.4411\n",
      "Epoch 14/100\n",
      "18/18 [==============================] - 0s 5ms/step - loss: 130.6128 - mae: 130.6128 - val_loss: 751.3199 - val_mae: 751.3199\n",
      "Epoch 15/100\n",
      "18/18 [==============================] - 0s 5ms/step - loss: 128.8347 - mae: 128.8347 - val_loss: 696.5749 - val_mae: 696.5749\n",
      "Epoch 16/100\n",
      "18/18 [==============================] - 0s 5ms/step - loss: 124.7739 - mae: 124.7739 - val_loss: 702.4678 - val_mae: 702.4678\n",
      "Epoch 17/100\n",
      "18/18 [==============================] - 0s 5ms/step - loss: 123.4475 - mae: 123.4475 - val_loss: 704.9214 - val_mae: 704.9214\n",
      "Epoch 18/100\n",
      "18/18 [==============================] - 0s 5ms/step - loss: 122.2105 - mae: 122.2105 - val_loss: 667.9720 - val_mae: 667.9720\n",
      "Epoch 19/100\n",
      "18/18 [==============================] - 0s 5ms/step - loss: 121.7264 - mae: 121.7264 - val_loss: 718.8758 - val_mae: 718.8758\n",
      "Epoch 20/100\n",
      "18/18 [==============================] - 0s 5ms/step - loss: 119.2421 - mae: 119.2421 - val_loss: 657.0656 - val_mae: 657.0656\n",
      "Epoch 21/100\n",
      "18/18 [==============================] - 0s 5ms/step - loss: 121.2275 - mae: 121.2275 - val_loss: 637.0333 - val_mae: 637.0333\n",
      "Epoch 22/100\n",
      "18/18 [==============================] - 0s 5ms/step - loss: 119.9545 - mae: 119.9545 - val_loss: 671.2451 - val_mae: 671.2451\n",
      "Epoch 23/100\n",
      "18/18 [==============================] - 0s 6ms/step - loss: 121.9247 - mae: 121.9247 - val_loss: 633.3578 - val_mae: 633.3578\n",
      "Epoch 24/100\n",
      "18/18 [==============================] - 0s 5ms/step - loss: 116.3666 - mae: 116.3666 - val_loss: 624.4849 - val_mae: 624.4849\n",
      "Epoch 25/100\n",
      "18/18 [==============================] - 0s 6ms/step - loss: 114.6816 - mae: 114.6816 - val_loss: 619.7584 - val_mae: 619.7584\n",
      "Epoch 26/100\n",
      "18/18 [==============================] - 0s 5ms/step - loss: 116.4456 - mae: 116.4456 - val_loss: 615.6362 - val_mae: 615.6362\n",
      "Epoch 27/100\n",
      "18/18 [==============================] - 0s 6ms/step - loss: 116.5867 - mae: 116.5867 - val_loss: 615.9621 - val_mae: 615.9621\n",
      "Epoch 28/100\n",
      "18/18 [==============================] - 0s 5ms/step - loss: 113.4691 - mae: 113.4691 - val_loss: 608.0931 - val_mae: 608.0931\n",
      "Epoch 29/100\n",
      "18/18 [==============================] - 0s 5ms/step - loss: 113.7598 - mae: 113.7598 - val_loss: 621.9286 - val_mae: 621.9286\n",
      "Epoch 30/100\n",
      "18/18 [==============================] - 0s 5ms/step - loss: 116.8613 - mae: 116.8613 - val_loss: 604.4048 - val_mae: 604.4048\n",
      "Epoch 31/100\n",
      "18/18 [==============================] - 0s 5ms/step - loss: 111.9375 - mae: 111.9375 - val_loss: 609.3867 - val_mae: 609.3867\n",
      "Epoch 32/100\n",
      "18/18 [==============================] - 0s 6ms/step - loss: 112.4175 - mae: 112.4175 - val_loss: 603.0577 - val_mae: 603.0577\n",
      "Epoch 33/100\n",
      "18/18 [==============================] - 0s 5ms/step - loss: 112.6697 - mae: 112.6697 - val_loss: 645.6927 - val_mae: 645.6927\n",
      "Epoch 34/100\n",
      "18/18 [==============================] - 0s 5ms/step - loss: 111.9867 - mae: 111.9867 - val_loss: 604.7662 - val_mae: 604.7662\n",
      "Epoch 35/100\n",
      "18/18 [==============================] - 0s 5ms/step - loss: 110.9451 - mae: 110.9451 - val_loss: 593.4645 - val_mae: 593.4645\n",
      "Epoch 36/100\n",
      "18/18 [==============================] - 0s 5ms/step - loss: 114.4816 - mae: 114.4816 - val_loss: 608.0048 - val_mae: 608.0048\n",
      "Epoch 37/100\n",
      "18/18 [==============================] - 0s 5ms/step - loss: 110.2017 - mae: 110.2017 - val_loss: 597.2292 - val_mae: 597.2292\n",
      "Epoch 38/100\n",
      "18/18 [==============================] - 0s 5ms/step - loss: 112.2371 - mae: 112.2371 - val_loss: 637.9846 - val_mae: 637.9846\n",
      "Epoch 39/100\n",
      "18/18 [==============================] - 0s 5ms/step - loss: 115.1290 - mae: 115.1290 - val_loss: 587.4680 - val_mae: 587.4680\n",
      "Epoch 40/100\n",
      "18/18 [==============================] - 0s 5ms/step - loss: 110.0854 - mae: 110.0854 - val_loss: 592.7141 - val_mae: 592.7141\n",
      "Epoch 41/100\n",
      "18/18 [==============================] - 0s 5ms/step - loss: 110.6344 - mae: 110.6344 - val_loss: 593.9023 - val_mae: 593.9023\n",
      "Epoch 42/100\n",
      "18/18 [==============================] - 0s 5ms/step - loss: 113.5763 - mae: 113.5763 - val_loss: 636.3625 - val_mae: 636.3625\n",
      "Epoch 43/100\n",
      "18/18 [==============================] - 0s 5ms/step - loss: 116.2284 - mae: 116.2284 - val_loss: 662.9321 - val_mae: 662.9321\n",
      "Epoch 44/100\n",
      "18/18 [==============================] - 0s 5ms/step - loss: 120.0193 - mae: 120.0193 - val_loss: 635.6417 - val_mae: 635.6417\n",
      "Epoch 45/100\n",
      "18/18 [==============================] - 0s 5ms/step - loss: 110.9676 - mae: 110.9676 - val_loss: 601.9896 - val_mae: 601.9896\n",
      "Epoch 46/100\n",
      "18/18 [==============================] - 0s 5ms/step - loss: 111.6012 - mae: 111.6012 - val_loss: 593.3563 - val_mae: 593.3563\n",
      "Epoch 47/100\n",
      "18/18 [==============================] - 0s 5ms/step - loss: 109.6161 - mae: 109.6161 - val_loss: 636.9967 - val_mae: 636.9967\n",
      "Epoch 48/100\n",
      "18/18 [==============================] - 0s 5ms/step - loss: 109.1367 - mae: 109.1367 - val_loss: 598.4169 - val_mae: 598.4169\n",
      "Epoch 49/100\n",
      "18/18 [==============================] - 0s 5ms/step - loss: 112.4355 - mae: 112.4355 - val_loss: 579.7043 - val_mae: 579.7043\n",
      "Epoch 50/100\n",
      "18/18 [==============================] - 0s 5ms/step - loss: 110.2108 - mae: 110.2108 - val_loss: 639.2374 - val_mae: 639.2374\n",
      "Epoch 51/100\n",
      "18/18 [==============================] - 0s 5ms/step - loss: 111.0959 - mae: 111.0959 - val_loss: 597.3546 - val_mae: 597.3546\n",
      "Epoch 52/100\n",
      "18/18 [==============================] - 0s 5ms/step - loss: 110.7352 - mae: 110.7352 - val_loss: 580.7245 - val_mae: 580.7245\n",
      "Epoch 53/100\n",
      "18/18 [==============================] - 0s 5ms/step - loss: 111.1785 - mae: 111.1785 - val_loss: 648.3535 - val_mae: 648.3535\n",
      "Epoch 54/100\n",
      "18/18 [==============================] - 0s 5ms/step - loss: 114.0830 - mae: 114.0830 - val_loss: 593.1980 - val_mae: 593.1980\n",
      "Epoch 55/100\n",
      "18/18 [==============================] - 0s 5ms/step - loss: 110.4910 - mae: 110.4910 - val_loss: 579.5082 - val_mae: 579.5082\n",
      "Epoch 56/100\n",
      "18/18 [==============================] - 0s 5ms/step - loss: 108.0488 - mae: 108.0488 - val_loss: 807.3919 - val_mae: 807.3919\n",
      "Epoch 57/100\n",
      "18/18 [==============================] - 0s 6ms/step - loss: 125.0613 - mae: 125.0613 - val_loss: 674.1707 - val_mae: 674.1707\n",
      "Epoch 58/100\n",
      "18/18 [==============================] - 0s 5ms/step - loss: 115.4340 - mae: 115.4340 - val_loss: 582.2684 - val_mae: 582.2684\n",
      "Epoch 59/100\n",
      "18/18 [==============================] - 0s 5ms/step - loss: 110.0880 - mae: 110.0880 - val_loss: 606.7674 - val_mae: 606.7674\n",
      "Epoch 60/100\n",
      "18/18 [==============================] - 0s 5ms/step - loss: 108.7157 - mae: 108.7157 - val_loss: 602.3076 - val_mae: 602.3076\n",
      "Epoch 61/100\n"
     ]
    },
    {
     "name": "stdout",
     "output_type": "stream",
     "text": [
      "18/18 [==============================] - 0s 5ms/step - loss: 108.1524 - mae: 108.1524 - val_loss: 573.9989 - val_mae: 573.9989\n",
      "Epoch 62/100\n",
      "18/18 [==============================] - 0s 5ms/step - loss: 107.3727 - mae: 107.3727 - val_loss: 581.7037 - val_mae: 581.7037\n",
      "Epoch 63/100\n",
      "18/18 [==============================] - 0s 5ms/step - loss: 110.7667 - mae: 110.7667 - val_loss: 637.5209 - val_mae: 637.5209\n",
      "Epoch 64/100\n",
      "18/18 [==============================] - 0s 5ms/step - loss: 110.1539 - mae: 110.1539 - val_loss: 586.6582 - val_mae: 586.6582\n",
      "Epoch 65/100\n",
      "18/18 [==============================] - 0s 5ms/step - loss: 108.2324 - mae: 108.2324 - val_loss: 573.5630 - val_mae: 573.5630\n",
      "Epoch 66/100\n",
      "18/18 [==============================] - 0s 5ms/step - loss: 108.6826 - mae: 108.6826 - val_loss: 572.2212 - val_mae: 572.2212\n",
      "Epoch 67/100\n",
      "18/18 [==============================] - 0s 5ms/step - loss: 106.6343 - mae: 106.6343 - val_loss: 647.4645 - val_mae: 647.4645\n",
      "Epoch 68/100\n",
      "18/18 [==============================] - 0s 5ms/step - loss: 114.2956 - mae: 114.2956 - val_loss: 689.2582 - val_mae: 689.2582\n",
      "Epoch 69/100\n",
      "18/18 [==============================] - 0s 5ms/step - loss: 124.8882 - mae: 124.8882 - val_loss: 664.9310 - val_mae: 664.9310\n",
      "Epoch 70/100\n",
      "18/18 [==============================] - 0s 5ms/step - loss: 125.0143 - mae: 125.0143 - val_loss: 618.4305 - val_mae: 618.4305\n",
      "Epoch 71/100\n",
      "18/18 [==============================] - 0s 5ms/step - loss: 109.6281 - mae: 109.6281 - val_loss: 584.4574 - val_mae: 584.4574\n",
      "Epoch 72/100\n",
      "18/18 [==============================] - 0s 5ms/step - loss: 108.4591 - mae: 108.4591 - val_loss: 573.9260 - val_mae: 573.9260\n",
      "Epoch 73/100\n",
      "18/18 [==============================] - 0s 5ms/step - loss: 110.1845 - mae: 110.1845 - val_loss: 609.8442 - val_mae: 609.8442\n",
      "Epoch 74/100\n",
      "18/18 [==============================] - 0s 5ms/step - loss: 106.8209 - mae: 106.8209 - val_loss: 575.5916 - val_mae: 575.5916\n",
      "Epoch 75/100\n",
      "18/18 [==============================] - 0s 5ms/step - loss: 107.4159 - mae: 107.4159 - val_loss: 590.8853 - val_mae: 590.8853\n",
      "Epoch 76/100\n",
      "18/18 [==============================] - 0s 5ms/step - loss: 109.1644 - mae: 109.1644 - val_loss: 600.3297 - val_mae: 600.3297\n",
      "Epoch 77/100\n",
      "18/18 [==============================] - 0s 5ms/step - loss: 107.3339 - mae: 107.3339 - val_loss: 572.3529 - val_mae: 572.3529\n",
      "Epoch 78/100\n",
      "18/18 [==============================] - 0s 5ms/step - loss: 108.1691 - mae: 108.1691 - val_loss: 575.2716 - val_mae: 575.2716\n",
      "Epoch 79/100\n",
      "18/18 [==============================] - 0s 5ms/step - loss: 107.1006 - mae: 107.1006 - val_loss: 606.5524 - val_mae: 606.5523\n",
      "Epoch 80/100\n",
      "18/18 [==============================] - 0s 5ms/step - loss: 108.7341 - mae: 108.7341 - val_loss: 573.4880 - val_mae: 573.4880\n",
      "Epoch 81/100\n",
      "18/18 [==============================] - 0s 5ms/step - loss: 105.7251 - mae: 105.7251 - val_loss: 571.0026 - val_mae: 571.0026\n",
      "Epoch 82/100\n",
      "18/18 [==============================] - 0s 5ms/step - loss: 115.6700 - mae: 115.6700 - val_loss: 572.5710 - val_mae: 572.5710\n",
      "Epoch 83/100\n",
      "18/18 [==============================] - 0s 5ms/step - loss: 111.3230 - mae: 111.3230 - val_loss: 649.7844 - val_mae: 649.7844\n",
      "Epoch 84/100\n",
      "18/18 [==============================] - 0s 5ms/step - loss: 111.5547 - mae: 111.5547 - val_loss: 577.4987 - val_mae: 577.4987\n",
      "Epoch 85/100\n",
      "18/18 [==============================] - 0s 5ms/step - loss: 107.0080 - mae: 107.0080 - val_loss: 587.9792 - val_mae: 587.9792\n",
      "Epoch 86/100\n",
      "18/18 [==============================] - 0s 5ms/step - loss: 109.6056 - mae: 109.6056 - val_loss: 600.9603 - val_mae: 600.9603\n",
      "Epoch 87/100\n",
      "18/18 [==============================] - 0s 5ms/step - loss: 106.2095 - mae: 106.2095 - val_loss: 591.7929 - val_mae: 591.7929\n",
      "Epoch 88/100\n",
      "18/18 [==============================] - 0s 5ms/step - loss: 108.1315 - mae: 108.1315 - val_loss: 572.4072 - val_mae: 572.4072\n",
      "Epoch 89/100\n",
      "18/18 [==============================] - 0s 6ms/step - loss: 107.9393 - mae: 107.9393 - val_loss: 570.7312 - val_mae: 570.7312\n",
      "Epoch 90/100\n",
      "18/18 [==============================] - 0s 5ms/step - loss: 105.3661 - mae: 105.3661 - val_loss: 587.2082 - val_mae: 587.2082\n",
      "Epoch 91/100\n",
      "18/18 [==============================] - 0s 5ms/step - loss: 108.8479 - mae: 108.8479 - val_loss: 586.2095 - val_mae: 586.2095\n",
      "Epoch 92/100\n",
      "18/18 [==============================] - 0s 5ms/step - loss: 109.6205 - mae: 109.6205 - val_loss: 572.0212 - val_mae: 572.0212\n",
      "Epoch 93/100\n",
      "18/18 [==============================] - 0s 5ms/step - loss: 113.8106 - mae: 113.8106 - val_loss: 610.9279 - val_mae: 610.9279\n",
      "Epoch 94/100\n",
      "18/18 [==============================] - 0s 5ms/step - loss: 111.0650 - mae: 111.0650 - val_loss: 593.5231 - val_mae: 593.5231\n",
      "Epoch 95/100\n",
      "18/18 [==============================] - 0s 5ms/step - loss: 105.8460 - mae: 105.8460 - val_loss: 568.5737 - val_mae: 568.5737\n",
      "Epoch 96/100\n",
      "18/18 [==============================] - 0s 5ms/step - loss: 112.4036 - mae: 112.4036 - val_loss: 689.5345 - val_mae: 689.5345\n",
      "Epoch 97/100\n",
      "18/18 [==============================] - 0s 5ms/step - loss: 111.1533 - mae: 111.1533 - val_loss: 578.8859 - val_mae: 578.8859\n",
      "Epoch 98/100\n",
      "18/18 [==============================] - 0s 5ms/step - loss: 109.7159 - mae: 109.7159 - val_loss: 584.3619 - val_mae: 584.3619\n",
      "Epoch 99/100\n",
      "18/18 [==============================] - 0s 5ms/step - loss: 109.0405 - mae: 109.0405 - val_loss: 568.4771 - val_mae: 568.4771\n",
      "Epoch 100/100\n",
      "18/18 [==============================] - 0s 5ms/step - loss: 106.4398 - mae: 106.4398 - val_loss: 589.9119 - val_mae: 589.9119\n"
     ]
    }
   ],
   "source": [
    "# let's build dense model...\n",
    "tf.random.set_seed(42)\n",
    "\n",
    "# construct model \n",
    "model_1 = Sequential(name=\"model_1\")\n",
    "model_1.add(layers.Dense(128,activation=\"relu\"))\n",
    "model_1.add(layers.Dense(HORIZON,activation=\"linear\"))\n",
    "\n",
    "# compile the model\n",
    "model_1.compile(loss=\"mae\",\n",
    "               optimizer=tf.keras.optimizers.Adam(),\n",
    "               metrics=[\"mae\"])\n",
    "\n",
    "# fit the model\n",
    "history_1 = model_1.fit(train_windows,train_labels,epochs=100,batch_size=128,\n",
    "                       validation_data=(test_windows,test_labels),\n",
    "                       callbacks=[create_model_checkpoint(\"model_1\")])"
   ]
  },
  {
   "cell_type": "code",
   "execution_count": 73,
   "id": "cd88df5b",
   "metadata": {},
   "outputs": [
    {
     "name": "stdout",
     "output_type": "stream",
     "text": [
      "18/18 [==============================] - 0s 9ms/step - loss: 589.9119 - mae: 589.9119\n"
     ]
    },
    {
     "data": {
      "text/plain": [
       "[589.911865234375, 589.911865234375]"
      ]
     },
     "execution_count": 73,
     "metadata": {},
     "output_type": "execute_result"
    }
   ],
   "source": [
    "# evalute our model\n",
    "model_1.evaluate(test_windows,test_labels)"
   ]
  },
  {
   "cell_type": "code",
   "execution_count": 74,
   "id": "8a441f26",
   "metadata": {},
   "outputs": [],
   "source": [
    "# make a function for prediction\n",
    "def make_preds(model,data):\n",
    "    pred = model.predict(data)\n",
    "    return tf.squeeze(pred)"
   ]
  },
  {
   "cell_type": "code",
   "execution_count": 75,
   "id": "23d39f4f",
   "metadata": {},
   "outputs": [
    {
     "name": "stdout",
     "output_type": "stream",
     "text": [
      "18/18 [==============================] - 0s 2ms/step\n"
     ]
    },
    {
     "name": "stderr",
     "output_type": "stream",
     "text": [
      "2022-08-22 23:14:47.312605: I tensorflow/core/grappler/optimizers/custom_graph_optimizer_registry.cc:113] Plugin optimizer for device_type GPU is enabled.\n"
     ]
    },
    {
     "data": {
      "text/plain": [
       "<tf.Tensor: shape=(556,), dtype=float32, numpy=\n",
       "array([ 8794.223 ,  8706.797 ,  8961.296 ,  8741.508 ,  8663.25  ,\n",
       "        8666.623 ,  8632.853 ,  8444.614 ,  8397.16  ,  8460.887 ,\n",
       "        8199.932 ,  8051.6123,  7999.487 ,  7637.419 ,  7229.345 ,\n",
       "        7206.5957,  7050.6855,  7131.563 ,  7095.811 ,  7423.9907,\n",
       "        7355.9688,  7653.485 ,  7524.2783,  7384.0645,  7269.0825,\n",
       "        7273.947 ,  7177.659 ,  7304.6973,  7442.3003,  7489.825 ,\n",
       "        7496.807 ,  7323.1533,  7201.231 ,  7139.8906,  7142.9316,\n",
       "        7172.9194,  7055.815 ,  7049.6147,  6859.538 ,  6577.152 ,\n",
       "        7228.3027,  7192.351 ,  7105.659 ,  7184.599 ,  7250.824 ,\n",
       "        7127.5674,  7165.8867,  7173.975 ,  7138.9487,  7162.9443,\n",
       "        7253.562 ,  7330.251 ,  7223.555 ,  7138.939 ,  7120.764 ,\n",
       "        6943.0176,  7177.119 ,  7281.7793,  7313.2725,  7605.075 ,\n",
       "        7982.7344,  8056.524 ,  7812.53  ,  8013.463 ,  8052.0117,\n",
       "        8103.3623,  8052.0215,  8614.301 ,  8803.383 ,  8714.823 ,\n",
       "        8840.703 ,  8922.908 ,  8644.164 ,  8569.584 ,  8636.731 ,\n",
       "        8601.293 ,  8346.618 ,  8362.477 ,  8300.845 ,  8472.695 ,\n",
       "        8766.404 ,  9064.416 ,  9261.381 ,  9492.356 ,  9393.576 ,\n",
       "        9329.992 ,  9325.831 ,  9235.506 ,  9116.763 ,  9486.109 ,\n",
       "        9625.392 ,  9732.053 ,  9846.844 , 10079.915 ,  9836.829 ,\n",
       "       10121.705 , 10293.018 , 10207.255 , 10262.291 ,  9935.174 ,\n",
       "        9812.203 ,  9573.159 , 10040.117 ,  9718.156 ,  9567.302 ,\n",
       "        9554.006 ,  9650.339 ,  9807.157 ,  9616.375 ,  9357.846 ,\n",
       "        8781.716 ,  8701.403 ,  8699.163 ,  8634.594 ,  8479.525 ,\n",
       "        8791.834 ,  8766.557 ,  8703.088 ,  8960.423 ,  9094.572 ,\n",
       "        8904.702 ,  8194.244 ,  7834.199 ,  7861.841 ,  7940.59  ,\n",
       "        6203.784 ,  5627.714 ,  5494.841 ,  5607.119 ,  5132.662 ,\n",
       "        5401.8057,  5351.393 ,  6139.056 ,  6175.565 ,  6218.305 ,\n",
       "        5899.986 ,  6382.2573,  6715.102 ,  6721.885 ,  6674.953 ,\n",
       "        6675.8833,  6272.587 ,  5901.154 ,  6325.2544,  6457.147 ,\n",
       "        6499.8037,  6741.7544,  6793.7476,  6819.441 ,  6772.795 ,\n",
       "        7192.861 ,  7160.343 ,  7317.4375,  7282.8228,  6914.8457,\n",
       "        6800.571 ,  6958.0933,  6894.3   ,  6818.5664,  6678.3105,\n",
       "        7061.7725,  7041.315 ,  7214.7363,  7144.67  ,  6884.1084,\n",
       "        6829.713 ,  7037.3584,  7465.885 ,  7472.0103,  7507.851 ,\n",
       "        7580.2183,  7743.858 ,  7724.702 ,  8591.639 ,  8770.512 ,\n",
       "        8852.519 ,  8904.453 ,  8931.127 ,  8847.271 ,  8906.488 ,\n",
       "        9268.767 ,  9788.389 ,  9898.07  ,  9630.841 ,  8855.197 ,\n",
       "        8555.654 ,  8702.08  ,  9239.004 ,  9659.596 ,  9390.098 ,\n",
       "        9366.782 ,  9607.984 ,  9701.5625,  9648.326 ,  9498.139 ,\n",
       "        9136.882 ,  9097.29  ,  9144.4375,  9027.065 ,  8835.091 ,\n",
       "        8762.656 ,  9004.314 ,  9390.051 ,  9393.167 ,  9602.239 ,\n",
       "        9425.324 , 10119.193 ,  9581.129 ,  9596.369 ,  9683.598 ,\n",
       "        9679.975 ,  9578.532 ,  9653.185 ,  9731.116 ,  9715.817 ,\n",
       "        9796.352 ,  9287.242 ,  9349.824 ,  9374.869 ,  9336.542 ,\n",
       "        9324.109 ,  9437.662 ,  9408.39  ,  9334.086 ,  9228.184 ,\n",
       "        9273.987 ,  9230.577 ,  9558.283 ,  9558.82  ,  9303.913 ,\n",
       "        9175.778 ,  9122.599 ,  8986.773 ,  9003.511 ,  9103.51  ,\n",
       "        9096.101 ,  9151.957 ,  9057.181 ,  9035.294 ,  9047.779 ,\n",
       "        9007.989 ,  9175.151 ,  9188.848 ,  9388.955 ,  9208.135 ,\n",
       "        9192.097 ,  9156.77  ,  9226.674 ,  9174.219 ,  9189.614 ,\n",
       "        9150.235 ,  9080.77  ,  9083.238 ,  9106.92  ,  9123.287 ,\n",
       "        9105.611 ,  9301.634 ,  9458.884 ,  9559.6045,  9521.148 ,\n",
       "        9642.349 ,  9858.819 , 10977.378 , 10977.9375, 11230.592 ,\n",
       "       11097.589 , 11362.045 , 11645.02  , 11193.1   , 11153.521 ,\n",
       "       11142.619 , 11549.121 , 11686.086 , 11607.205 , 11653.163 ,\n",
       "       11627.081 , 11746.446 , 11326.592 , 11429.396 , 11624.727 ,\n",
       "       11733.604 , 11780.891 , 11829.266 , 12273.603 , 12060.164 ,\n",
       "       11727.132 , 11711.449 , 11558.295 , 11573.656 , 11559.035 ,\n",
       "       11656.953 , 11340.404 , 11355.451 , 11230.13  , 11382.873 ,\n",
       "       11413.082 , 11566.945 , 11594.609 , 11863.877 , 11436.639 ,\n",
       "       10726.392 , 10446.345 , 10048.343 , 10102.389 , 10277.786 ,\n",
       "       10073.526 , 10122.617 , 10256.129 , 10330.977 , 10343.221 ,\n",
       "       10271.894 , 10565.132 , 10751.039 , 10962.243 , 10887.248 ,\n",
       "       10889.3955, 10969.557 , 10822.193 , 10489.824 , 10427.122 ,\n",
       "       10225.377 , 10527.53  , 10644.008 , 10683.896 , 10664.262 ,\n",
       "       10799.185 , 10717.751 , 10671.584 , 10561.051 , 10499.578 ,\n",
       "       10470.23  , 10565.571 , 10665.031 , 10540.736 , 10559.615 ,\n",
       "       10790.827 , 10978.055 , 11255.13  , 11286.289 , 11579.26  ,\n",
       "       11424.794 , 11352.599 , 11401.059 , 11316.98  , 11268.395 ,\n",
       "       11361.572 , 11666.619 , 11845.744 , 12889.583 , 13130.145 ,\n",
       "       12968.723 , 12991.301 , 13007.019 , 12962.416 , 13523.269 ,\n",
       "       13288.968 , 13363.628 , 13456.96  , 13813.96  , 13657.987 ,\n",
       "       13566.238 , 13709.952 , 14049.84  , 15180.051 , 15500.707 ,\n",
       "       14875.014 , 15309.277 , 15292.329 , 15311.953 , 15601.322 ,\n",
       "       16148.898 , 16266.0205, 15960.471 , 15839.291 , 16544.287 ,\n",
       "       17413.363 , 17752.97  , 17878.635 , 18486.598 , 18580.143 ,\n",
       "       18562.443 , 18378.91  , 18881.271 , 18681.898 , 17303.764 ,\n",
       "       16821.086 , 17533.023 , 18060.387 , 19064.957 , 18968.908 ,\n",
       "       19134.424 , 19327.562 , 18877.666 , 18857.959 , 18955.396 ,\n",
       "       19017.166 , 18579.688 , 18412.906 , 18233.586 , 18040.107 ,\n",
       "       18604.445 , 18921.152 , 19125.688 , 19291.559 , 20998.725 ,\n",
       "       22681.37  , 23058.564 , 23734.592 , 23641.756 , 23241.229 ,\n",
       "       23240.486 , 23139.02  , 23400.846 , 24268.006 , 26054.842 ,\n",
       "       26357.365 , 26638.627 , 26864.424 , 28517.723 , 29008.674 ,\n",
       "       29254.17  , 31648.12  , 32967.332 , 31684.6   , 33824.07  ,\n",
       "       36068.56  , 39247.61  , 40305.605 , 40488.703 , 38976.125 ,\n",
       "       34977.2   , 33808.984 , 36236.996 , 38378.72  , 36894.207 ,\n",
       "       35793.254 , 36148.598 , 36228.484 , 36274.04  , 34943.527 ,\n",
       "       30965.63  , 32514.312 , 32173.63  , 32263.49  , 31951.477 ,\n",
       "       32294.16  , 30554.088 , 32703.658 , 34480.723 , 34653.926 ,\n",
       "       33027.316 , 33406.715 , 35214.21  , 37050.918 , 37132.473 ,\n",
       "       37648.367 , 39906.336 , 38737.25  , 43585.402 , 46400.715 ,\n",
       "       45754.64  , 46852.19  , 47967.035 , 47157.586 , 48467.008 ,\n",
       "       48114.703 , 48530.105 , 51327.465 , 51757.445 , 54956.24  ,\n",
       "       54793.79  , 56834.277 , 54300.562 , 48835.367 , 47890.7   ,\n",
       "       48065.594 , 46171.758 , 45901.645 , 45064.19  , 48291.336 ,\n",
       "       47829.527 , 50224.684 , 48260.336 , 48960.934 , 48470.02  ,\n",
       "       50215.7   , 50975.664 , 53872.32  , 56445.58  , 57590.06  ,\n",
       "       57261.14  , 60160.52  , 60229.98  , 56643.734 , 55986.812 ,\n",
       "       57936.73  , 57940.06  , 57828.055 , 58132.41  , 57655.875 ,\n",
       "       54388.44  , 54145.56  , 52643.34  , 51946.45  , 53505.016 ,\n",
       "       55799.316 , 55200.25  , 56940.098 , 58421.086 , 58651.348 ,\n",
       "       58588.145 , 58597.16  , 57394.297 , 57625.36  , 58318.855 ,\n",
       "       57835.336 , 56221.438 , 57205.824 , 57775.01  , 58793.48  ,\n",
       "       59301.97  , 59592.656 , 62443.63  , 62785.438 , 63082.26  ,\n",
       "       61750.832 , 60506.01  , 56878.39  , 55734.055 , 55999.047 ,\n",
       "       54361.414 , 51750.51  , 50257.734 , 50330.984 , 48574.5   ,\n",
       "       52279.355 , 54669.43  , 54627.082 , 53022.88  , 56629.79  ,\n",
       "       57544.01  , 56416.484 , 56643.94  , 53965.508 , 56319.13  ,\n",
       "       56244.508 , 56857.008 , 57949.105 , 58081.844 , 55695.84  ,\n",
       "       55945.715 , 52471.727 , 49657.92  , 49223.984 , 48139.48  ,\n",
       "       45579.38  ], dtype=float32)>"
      ]
     },
     "execution_count": 75,
     "metadata": {},
     "output_type": "execute_result"
    }
   ],
   "source": [
    "# make prediction...\n",
    "model_1_pred = make_preds(model_1,test_windows)\n",
    "model_1_pred"
   ]
  },
  {
   "cell_type": "code",
   "execution_count": 77,
   "id": "6d9ba702",
   "metadata": {},
   "outputs": [
    {
     "data": {
      "text/plain": [
       "{'MAE': 589.91187,\n",
       " 'MSE': 1204430.1,\n",
       " 'RMSE': 1097.4653,\n",
       " 'MAPE': 2.6385434,\n",
       " 'MASE': 1.0363115}"
      ]
     },
     "execution_count": 77,
     "metadata": {},
     "output_type": "execute_result"
    }
   ],
   "source": [
    "# let's evaluate our model\n",
    "model_1_results = evaluate_preds(tf.squeeze(test_labels),model_1_pred)\n",
    "model_1_results"
   ]
  },
  {
   "cell_type": "code",
   "execution_count": 78,
   "id": "f8b603c4",
   "metadata": {},
   "outputs": [
    {
     "data": {
      "text/plain": [
       "{'MAE': 567.9803,\n",
       " 'MSE': 1147547.1,\n",
       " 'RMSE': 1071.2362,\n",
       " 'MAPE': 2.516525,\n",
       " 'MASE': 0.99957013}"
      ]
     },
     "execution_count": 78,
     "metadata": {},
     "output_type": "execute_result"
    }
   ],
   "source": [
    "# did it beat the naive model\n",
    "naive_results"
   ]
  },
  {
   "cell_type": "markdown",
   "id": "d71b3863",
   "metadata": {},
   "source": [
    "## Model 2 : Dense\n",
    "\n",
    "Let's build our 2nd dense model with window size = 30 and horizon = 1. means we're using monthly data to predict one bitcoin price."
   ]
  },
  {
   "cell_type": "code",
   "execution_count": 80,
   "id": "e6b5eb02",
   "metadata": {},
   "outputs": [
    {
     "data": {
      "text/plain": [
       "(2205, 2205, 552, 552)"
      ]
     },
     "execution_count": 80,
     "metadata": {},
     "output_type": "execute_result"
    }
   ],
   "source": [
    "HORIZON = 1\n",
    "WINDOW = 30\n",
    "\n",
    "# make data sets...\n",
    "full_windows,full_labels  = make_windows(prices,WINDOW,HORIZON)\n",
    "train_windows,test_windows,train_labels,test_labels = train_test_split(full_windows,full_labels)\n",
    "len(train_windows),len(train_labels),len(test_windows),len(test_labels)"
   ]
  },
  {
   "cell_type": "code",
   "execution_count": 81,
   "id": "683149c1",
   "metadata": {},
   "outputs": [
    {
     "name": "stdout",
     "output_type": "stream",
     "text": [
      "Model Saving to : model_experiments/model_2_dense/202208222324\n",
      "Epoch 1/100\n",
      "15/18 [========================>.....] - ETA: 0s - loss: 1139.7314 - mae: 1139.7314"
     ]
    },
    {
     "name": "stderr",
     "output_type": "stream",
     "text": [
      "2022-08-22 23:24:19.193328: I tensorflow/core/grappler/optimizers/custom_graph_optimizer_registry.cc:113] Plugin optimizer for device_type GPU is enabled.\n"
     ]
    },
    {
     "name": "stdout",
     "output_type": "stream",
     "text": [
      "18/18 [==============================] - 0s 13ms/step - loss: 1097.0399 - mae: 1097.0399 - val_loss: 3900.2065 - val_mae: 3900.2065\n",
      "Epoch 2/100\n",
      "18/18 [==============================] - 0s 5ms/step - loss: 428.0732 - mae: 428.0732 - val_loss: 1587.0874 - val_mae: 1587.0874\n",
      "Epoch 3/100\n",
      "10/18 [===============>..............] - ETA: 0s - loss: 302.3531 - mae: 302.3531"
     ]
    },
    {
     "name": "stderr",
     "output_type": "stream",
     "text": [
      "2022-08-22 23:24:19.505127: I tensorflow/core/grappler/optimizers/custom_graph_optimizer_registry.cc:113] Plugin optimizer for device_type GPU is enabled.\n"
     ]
    },
    {
     "name": "stdout",
     "output_type": "stream",
     "text": [
      "18/18 [==============================] - 0s 6ms/step - loss: 279.7657 - mae: 279.7657 - val_loss: 1220.6958 - val_mae: 1220.6958\n",
      "Epoch 4/100\n",
      "18/18 [==============================] - 0s 5ms/step - loss: 224.3639 - mae: 224.3639 - val_loss: 1160.1470 - val_mae: 1160.1470\n",
      "Epoch 5/100\n",
      "18/18 [==============================] - 0s 6ms/step - loss: 187.9680 - mae: 187.9680 - val_loss: 1007.6438 - val_mae: 1007.6438\n",
      "Epoch 6/100\n",
      "18/18 [==============================] - 0s 5ms/step - loss: 182.9174 - mae: 182.9174 - val_loss: 1019.5895 - val_mae: 1019.5895\n",
      "Epoch 7/100\n",
      "18/18 [==============================] - 0s 6ms/step - loss: 187.7610 - mae: 187.7610 - val_loss: 1145.1880 - val_mae: 1145.1880\n",
      "Epoch 8/100\n",
      "18/18 [==============================] - 0s 6ms/step - loss: 192.2205 - mae: 192.2205 - val_loss: 967.7980 - val_mae: 967.7980\n",
      "Epoch 9/100\n",
      "18/18 [==============================] - 0s 5ms/step - loss: 167.4042 - mae: 167.4042 - val_loss: 896.5208 - val_mae: 896.5208\n",
      "Epoch 10/100\n",
      "18/18 [==============================] - 0s 6ms/step - loss: 161.6689 - mae: 161.6689 - val_loss: 881.9183 - val_mae: 881.9183\n",
      "Epoch 11/100\n",
      "18/18 [==============================] - 0s 6ms/step - loss: 162.2630 - mae: 162.2630 - val_loss: 862.7040 - val_mae: 862.7040\n",
      "Epoch 12/100\n",
      "18/18 [==============================] - 0s 6ms/step - loss: 157.5803 - mae: 157.5803 - val_loss: 854.5486 - val_mae: 854.5486\n",
      "Epoch 13/100\n",
      "18/18 [==============================] - 0s 6ms/step - loss: 161.8847 - mae: 161.8847 - val_loss: 896.9510 - val_mae: 896.9510\n",
      "Epoch 14/100\n",
      "18/18 [==============================] - 0s 7ms/step - loss: 151.4931 - mae: 151.4931 - val_loss: 831.5538 - val_mae: 831.5538\n",
      "Epoch 15/100\n",
      "18/18 [==============================] - 0s 6ms/step - loss: 173.4638 - mae: 173.4638 - val_loss: 1162.3771 - val_mae: 1162.3771\n",
      "Epoch 16/100\n",
      "18/18 [==============================] - 0s 6ms/step - loss: 189.4202 - mae: 189.4202 - val_loss: 1001.4175 - val_mae: 1001.4175\n",
      "Epoch 17/100\n",
      "18/18 [==============================] - 0s 6ms/step - loss: 162.2181 - mae: 162.2181 - val_loss: 850.3946 - val_mae: 850.3946\n",
      "Epoch 18/100\n",
      "18/18 [==============================] - 0s 6ms/step - loss: 148.0055 - mae: 148.0055 - val_loss: 806.9550 - val_mae: 806.9550\n",
      "Epoch 19/100\n",
      "18/18 [==============================] - 0s 7ms/step - loss: 150.0042 - mae: 150.0042 - val_loss: 1353.2933 - val_mae: 1353.2933\n",
      "Epoch 20/100\n",
      "18/18 [==============================] - 0s 6ms/step - loss: 165.2349 - mae: 165.2349 - val_loss: 836.8514 - val_mae: 836.8514\n",
      "Epoch 21/100\n",
      "18/18 [==============================] - 0s 7ms/step - loss: 152.7955 - mae: 152.7955 - val_loss: 987.7731 - val_mae: 987.7731\n",
      "Epoch 22/100\n",
      "18/18 [==============================] - 0s 6ms/step - loss: 158.1595 - mae: 158.1595 - val_loss: 776.8551 - val_mae: 776.8551\n",
      "Epoch 23/100\n",
      "18/18 [==============================] - 0s 6ms/step - loss: 143.1846 - mae: 143.1846 - val_loss: 931.6522 - val_mae: 931.6522\n",
      "Epoch 24/100\n",
      "18/18 [==============================] - 0s 6ms/step - loss: 156.9475 - mae: 156.9475 - val_loss: 843.3629 - val_mae: 843.3629\n",
      "Epoch 25/100\n",
      "18/18 [==============================] - 0s 6ms/step - loss: 145.3662 - mae: 145.3662 - val_loss: 817.6201 - val_mae: 817.6201\n",
      "Epoch 26/100\n",
      "18/18 [==============================] - 0s 7ms/step - loss: 144.4370 - mae: 144.4370 - val_loss: 1058.8870 - val_mae: 1058.8870\n",
      "Epoch 27/100\n",
      "18/18 [==============================] - 0s 6ms/step - loss: 165.3620 - mae: 165.3620 - val_loss: 749.7731 - val_mae: 749.7731\n",
      "Epoch 28/100\n",
      "18/18 [==============================] - 0s 6ms/step - loss: 141.2543 - mae: 141.2543 - val_loss: 975.9736 - val_mae: 975.9736\n",
      "Epoch 29/100\n",
      "18/18 [==============================] - 0s 6ms/step - loss: 147.7540 - mae: 147.7540 - val_loss: 826.3310 - val_mae: 826.3310\n",
      "Epoch 30/100\n",
      "18/18 [==============================] - 0s 6ms/step - loss: 159.1261 - mae: 159.1261 - val_loss: 1057.5129 - val_mae: 1057.5129\n",
      "Epoch 31/100\n",
      "18/18 [==============================] - 0s 6ms/step - loss: 147.7520 - mae: 147.7520 - val_loss: 881.7708 - val_mae: 881.7708\n",
      "Epoch 32/100\n",
      "18/18 [==============================] - 0s 6ms/step - loss: 140.3813 - mae: 140.3813 - val_loss: 897.1979 - val_mae: 897.1979\n",
      "Epoch 33/100\n",
      "18/18 [==============================] - 0s 6ms/step - loss: 143.2535 - mae: 143.2535 - val_loss: 734.1003 - val_mae: 734.1003\n",
      "Epoch 34/100\n",
      "18/18 [==============================] - 0s 5ms/step - loss: 133.1353 - mae: 133.1353 - val_loss: 728.0350 - val_mae: 728.0350\n",
      "Epoch 35/100\n",
      "18/18 [==============================] - 0s 6ms/step - loss: 134.0757 - mae: 134.0757 - val_loss: 708.9816 - val_mae: 708.9816\n",
      "Epoch 36/100\n",
      "18/18 [==============================] - 0s 6ms/step - loss: 144.0191 - mae: 144.0191 - val_loss: 825.2448 - val_mae: 825.2448\n",
      "Epoch 37/100\n",
      "18/18 [==============================] - 0s 6ms/step - loss: 144.0109 - mae: 144.0109 - val_loss: 748.0826 - val_mae: 748.0826\n",
      "Epoch 38/100\n",
      "18/18 [==============================] - 0s 5ms/step - loss: 135.7089 - mae: 135.7089 - val_loss: 945.9768 - val_mae: 945.9768\n",
      "Epoch 39/100\n",
      "18/18 [==============================] - 0s 6ms/step - loss: 140.0538 - mae: 140.0538 - val_loss: 1027.0144 - val_mae: 1027.0144\n",
      "Epoch 40/100\n",
      "18/18 [==============================] - 0s 6ms/step - loss: 157.7097 - mae: 157.7097 - val_loss: 1261.0549 - val_mae: 1261.0549\n",
      "Epoch 41/100\n",
      "18/18 [==============================] - 0s 6ms/step - loss: 142.1159 - mae: 142.1159 - val_loss: 733.5767 - val_mae: 733.5767\n",
      "Epoch 42/100\n",
      "18/18 [==============================] - 0s 6ms/step - loss: 137.9253 - mae: 137.9253 - val_loss: 821.5327 - val_mae: 821.5327\n",
      "Epoch 43/100\n",
      "18/18 [==============================] - 0s 6ms/step - loss: 134.2044 - mae: 134.2044 - val_loss: 841.4893 - val_mae: 841.4893\n",
      "Epoch 44/100\n",
      "18/18 [==============================] - 0s 6ms/step - loss: 141.0524 - mae: 141.0524 - val_loss: 680.3043 - val_mae: 680.3043\n",
      "Epoch 45/100\n",
      "18/18 [==============================] - 0s 6ms/step - loss: 126.0286 - mae: 126.0286 - val_loss: 694.2222 - val_mae: 694.2222\n",
      "Epoch 46/100\n",
      "18/18 [==============================] - 0s 6ms/step - loss: 127.9722 - mae: 127.9722 - val_loss: 672.9131 - val_mae: 672.9131\n",
      "Epoch 47/100\n",
      "18/18 [==============================] - 0s 6ms/step - loss: 128.5828 - mae: 128.5828 - val_loss: 669.3988 - val_mae: 669.3988\n",
      "Epoch 48/100\n",
      "18/18 [==============================] - 0s 6ms/step - loss: 129.6976 - mae: 129.6976 - val_loss: 1142.9547 - val_mae: 1142.9547\n",
      "Epoch 49/100\n",
      "18/18 [==============================] - 0s 6ms/step - loss: 163.5252 - mae: 163.5252 - val_loss: 971.6528 - val_mae: 971.6528\n",
      "Epoch 50/100\n",
      "18/18 [==============================] - 0s 6ms/step - loss: 160.9363 - mae: 160.9363 - val_loss: 1062.3400 - val_mae: 1062.3400\n",
      "Epoch 51/100\n",
      "18/18 [==============================] - 0s 6ms/step - loss: 149.8798 - mae: 149.8798 - val_loss: 1145.4478 - val_mae: 1145.4478\n",
      "Epoch 52/100\n",
      "18/18 [==============================] - 0s 5ms/step - loss: 153.2551 - mae: 153.2551 - val_loss: 954.3561 - val_mae: 954.3561\n",
      "Epoch 53/100\n",
      "18/18 [==============================] - 0s 6ms/step - loss: 145.4137 - mae: 145.4137 - val_loss: 750.9464 - val_mae: 750.9464\n",
      "Epoch 54/100\n",
      "18/18 [==============================] - 0s 6ms/step - loss: 139.3661 - mae: 139.3661 - val_loss: 1084.1819 - val_mae: 1084.1818\n",
      "Epoch 55/100\n",
      "18/18 [==============================] - 0s 5ms/step - loss: 168.9181 - mae: 168.9181 - val_loss: 721.3152 - val_mae: 721.3152\n",
      "Epoch 56/100\n",
      "18/18 [==============================] - 0s 5ms/step - loss: 159.2253 - mae: 159.2253 - val_loss: 655.4064 - val_mae: 655.4064\n",
      "Epoch 57/100\n",
      "18/18 [==============================] - 0s 5ms/step - loss: 130.2783 - mae: 130.2783 - val_loss: 706.0716 - val_mae: 706.0716\n",
      "Epoch 58/100\n",
      "18/18 [==============================] - 0s 5ms/step - loss: 131.9645 - mae: 131.9645 - val_loss: 748.5616 - val_mae: 748.5616\n",
      "Epoch 59/100\n",
      "18/18 [==============================] - 0s 5ms/step - loss: 160.0636 - mae: 160.0636 - val_loss: 712.2473 - val_mae: 712.2473\n",
      "Epoch 60/100\n",
      "18/18 [==============================] - 0s 5ms/step - loss: 121.8793 - mae: 121.8793 - val_loss: 693.2806 - val_mae: 693.2806\n",
      "Epoch 61/100\n"
     ]
    },
    {
     "name": "stdout",
     "output_type": "stream",
     "text": [
      "18/18 [==============================] - 0s 5ms/step - loss: 126.1348 - mae: 126.1348 - val_loss: 672.2117 - val_mae: 672.2117\n",
      "Epoch 62/100\n",
      "18/18 [==============================] - 0s 5ms/step - loss: 130.4214 - mae: 130.4214 - val_loss: 801.4264 - val_mae: 801.4264\n",
      "Epoch 63/100\n",
      "18/18 [==============================] - 0s 5ms/step - loss: 127.6032 - mae: 127.6032 - val_loss: 639.7857 - val_mae: 639.7857\n",
      "Epoch 64/100\n",
      "18/18 [==============================] - 0s 5ms/step - loss: 124.4576 - mae: 124.4576 - val_loss: 737.6666 - val_mae: 737.6666\n",
      "Epoch 65/100\n",
      "18/18 [==============================] - 0s 5ms/step - loss: 127.4750 - mae: 127.4750 - val_loss: 634.6021 - val_mae: 634.6021\n",
      "Epoch 66/100\n",
      "18/18 [==============================] - 0s 5ms/step - loss: 121.9509 - mae: 121.9509 - val_loss: 632.6848 - val_mae: 632.6848\n",
      "Epoch 67/100\n",
      "18/18 [==============================] - 0s 5ms/step - loss: 122.7524 - mae: 122.7524 - val_loss: 642.1250 - val_mae: 642.1250\n",
      "Epoch 68/100\n",
      "18/18 [==============================] - 0s 5ms/step - loss: 134.2489 - mae: 134.2489 - val_loss: 652.5214 - val_mae: 652.5214\n",
      "Epoch 69/100\n",
      "18/18 [==============================] - 0s 5ms/step - loss: 128.6462 - mae: 128.6462 - val_loss: 1061.7277 - val_mae: 1061.7277\n",
      "Epoch 70/100\n",
      "18/18 [==============================] - 0s 5ms/step - loss: 144.8774 - mae: 144.8774 - val_loss: 924.6721 - val_mae: 924.6721\n",
      "Epoch 71/100\n",
      "18/18 [==============================] - 0s 5ms/step - loss: 128.8812 - mae: 128.8812 - val_loss: 651.3107 - val_mae: 651.3107\n",
      "Epoch 72/100\n",
      "18/18 [==============================] - 0s 5ms/step - loss: 127.6703 - mae: 127.6703 - val_loss: 631.4880 - val_mae: 631.4880\n",
      "Epoch 73/100\n",
      "18/18 [==============================] - 0s 5ms/step - loss: 127.0399 - mae: 127.0399 - val_loss: 657.5282 - val_mae: 657.5282\n",
      "Epoch 74/100\n",
      "18/18 [==============================] - 0s 5ms/step - loss: 127.4615 - mae: 127.4615 - val_loss: 627.1454 - val_mae: 627.1454\n",
      "Epoch 75/100\n",
      "18/18 [==============================] - 0s 5ms/step - loss: 117.4669 - mae: 117.4669 - val_loss: 629.8739 - val_mae: 629.8739\n",
      "Epoch 76/100\n",
      "18/18 [==============================] - 0s 5ms/step - loss: 118.0121 - mae: 118.0121 - val_loss: 835.3373 - val_mae: 835.3373\n",
      "Epoch 77/100\n",
      "18/18 [==============================] - 0s 5ms/step - loss: 127.7308 - mae: 127.7308 - val_loss: 647.6653 - val_mae: 647.6653\n",
      "Epoch 78/100\n",
      "18/18 [==============================] - 0s 5ms/step - loss: 120.8357 - mae: 120.8357 - val_loss: 744.2256 - val_mae: 744.2256\n",
      "Epoch 79/100\n",
      "18/18 [==============================] - 0s 6ms/step - loss: 129.9678 - mae: 129.9678 - val_loss: 618.6533 - val_mae: 618.6533\n",
      "Epoch 80/100\n",
      "18/18 [==============================] - 0s 5ms/step - loss: 122.1593 - mae: 122.1593 - val_loss: 675.8226 - val_mae: 675.8226\n",
      "Epoch 81/100\n",
      "18/18 [==============================] - 0s 5ms/step - loss: 117.1629 - mae: 117.1629 - val_loss: 661.2444 - val_mae: 661.2444\n",
      "Epoch 82/100\n",
      "18/18 [==============================] - 0s 5ms/step - loss: 121.9568 - mae: 121.9568 - val_loss: 940.2650 - val_mae: 940.2650\n",
      "Epoch 83/100\n",
      "18/18 [==============================] - 0s 5ms/step - loss: 133.8742 - mae: 133.8742 - val_loss: 638.9193 - val_mae: 638.9193\n",
      "Epoch 84/100\n",
      "18/18 [==============================] - 0s 5ms/step - loss: 144.2085 - mae: 144.2085 - val_loss: 1053.6968 - val_mae: 1053.6968\n",
      "Epoch 85/100\n",
      "18/18 [==============================] - 0s 5ms/step - loss: 184.6717 - mae: 184.6717 - val_loss: 805.6271 - val_mae: 805.6271\n",
      "Epoch 86/100\n",
      "18/18 [==============================] - 0s 5ms/step - loss: 149.1033 - mae: 149.1033 - val_loss: 756.4615 - val_mae: 756.4615\n",
      "Epoch 87/100\n",
      "18/18 [==============================] - 0s 5ms/step - loss: 120.3843 - mae: 120.3843 - val_loss: 632.7646 - val_mae: 632.7646\n",
      "Epoch 88/100\n",
      "18/18 [==============================] - 0s 5ms/step - loss: 116.4006 - mae: 116.4006 - val_loss: 714.5154 - val_mae: 714.5154\n",
      "Epoch 89/100\n",
      "18/18 [==============================] - 0s 5ms/step - loss: 129.5234 - mae: 129.5234 - val_loss: 623.0493 - val_mae: 623.0493\n",
      "Epoch 90/100\n",
      "18/18 [==============================] - 0s 5ms/step - loss: 120.8546 - mae: 120.8546 - val_loss: 662.2240 - val_mae: 662.2240\n",
      "Epoch 91/100\n",
      "18/18 [==============================] - 0s 5ms/step - loss: 117.2077 - mae: 117.2077 - val_loss: 680.6512 - val_mae: 680.6512\n",
      "Epoch 92/100\n",
      "18/18 [==============================] - 0s 5ms/step - loss: 117.8611 - mae: 117.8611 - val_loss: 659.5493 - val_mae: 659.5493\n",
      "Epoch 93/100\n",
      "18/18 [==============================] - 0s 5ms/step - loss: 117.3842 - mae: 117.3842 - val_loss: 659.4946 - val_mae: 659.4946\n",
      "Epoch 94/100\n",
      "18/18 [==============================] - 0s 5ms/step - loss: 115.4049 - mae: 115.4049 - val_loss: 690.3852 - val_mae: 690.3852\n",
      "Epoch 95/100\n",
      "18/18 [==============================] - 0s 5ms/step - loss: 143.5157 - mae: 143.5157 - val_loss: 604.0017 - val_mae: 604.0017\n",
      "Epoch 96/100\n",
      "18/18 [==============================] - 0s 5ms/step - loss: 130.1441 - mae: 130.1441 - val_loss: 751.5865 - val_mae: 751.5865\n",
      "Epoch 97/100\n",
      "18/18 [==============================] - 0s 5ms/step - loss: 128.4721 - mae: 128.4721 - val_loss: 902.8633 - val_mae: 902.8633\n",
      "Epoch 98/100\n",
      "18/18 [==============================] - 0s 5ms/step - loss: 141.8205 - mae: 141.8205 - val_loss: 620.7676 - val_mae: 620.7676\n",
      "Epoch 99/100\n",
      "18/18 [==============================] - 0s 5ms/step - loss: 117.4638 - mae: 117.4638 - val_loss: 844.2040 - val_mae: 844.2040\n",
      "Epoch 100/100\n",
      "18/18 [==============================] - 0s 5ms/step - loss: 121.9345 - mae: 121.9345 - val_loss: 605.8130 - val_mae: 605.8130\n"
     ]
    }
   ],
   "source": [
    "# let's construct the model\n",
    "# setup the random seed\n",
    "tf.random.set_seed(42)\n",
    "\n",
    "# construct the model\n",
    "model_2 = Sequential(name=\"model_2\")\n",
    "model_2.add(layers.Dense(128,activation=\"relu\"))\n",
    "model_2.add(layers.Dense(HORIZON,activation=\"linear\"))\n",
    "\n",
    "# compile the model\n",
    "model_2.compile(loss=\"mae\",\n",
    "               optimizer=tf.keras.optimizers.Adam(),\n",
    "               metrics=[\"mae\"])\n",
    "\n",
    "# fit the model\n",
    "history_2 = model_2.fit(train_windows,train_labels,epochs=100,batch_size=128,\n",
    "                       validation_data=(test_windows,test_labels),\n",
    "                       callbacks=[create_model_checkpoint(\"model_2_dense\")])"
   ]
  },
  {
   "cell_type": "code",
   "execution_count": 82,
   "id": "f0b944f7",
   "metadata": {},
   "outputs": [
    {
     "name": "stdout",
     "output_type": "stream",
     "text": [
      "18/18 [==============================] - 0s 8ms/step - loss: 605.8130 - mae: 605.8130\n"
     ]
    },
    {
     "data": {
      "text/plain": [
       "[605.81298828125, 605.81298828125]"
      ]
     },
     "execution_count": 82,
     "metadata": {},
     "output_type": "execute_result"
    }
   ],
   "source": [
    "# let's evaluate our model....\n",
    "model_2.evaluate(test_windows,test_labels)"
   ]
  },
  {
   "cell_type": "code",
   "execution_count": 84,
   "id": "af8df523",
   "metadata": {},
   "outputs": [
    {
     "name": "stdout",
     "output_type": "stream",
     "text": [
      "18/18 [==============================] - 0s 2ms/step\n"
     ]
    },
    {
     "name": "stderr",
     "output_type": "stream",
     "text": [
      "2022-08-22 23:25:31.789674: I tensorflow/core/grappler/optimizers/custom_graph_optimizer_registry.cc:113] Plugin optimizer for device_type GPU is enabled.\n"
     ]
    },
    {
     "data": {
      "text/plain": [
       "<tf.Tensor: shape=(10,), dtype=float32, numpy=\n",
       "array([8873.3545, 8892.45  , 8752.066 , 8544.906 , 8408.22  , 8308.76  ,\n",
       "       8239.076 , 8113.9067, 8159.001 , 7775.4316], dtype=float32)>"
      ]
     },
     "execution_count": 84,
     "metadata": {},
     "output_type": "execute_result"
    }
   ],
   "source": [
    "# let's make predictions...\n",
    "model_2_pred = make_preds(model_2,test_windows)\n",
    "model_2_pred[:10]"
   ]
  },
  {
   "cell_type": "code",
   "execution_count": 86,
   "id": "b4157238",
   "metadata": {},
   "outputs": [
    {
     "data": {
      "text/plain": [
       "{'MAE': 605.813,\n",
       " 'MSE': 1265319.5,\n",
       " 'RMSE': 1124.8641,\n",
       " 'MAPE': 2.7242374,\n",
       " 'MASE': 1.058967}"
      ]
     },
     "execution_count": 86,
     "metadata": {},
     "output_type": "execute_result"
    }
   ],
   "source": [
    "# calculate the results....\n",
    "model_2_results = evaluate_preds(tf.squeeze(test_labels),model_2_pred)\n",
    "model_2_results"
   ]
  },
  {
   "cell_type": "markdown",
   "id": "23b13d6a",
   "metadata": {},
   "source": [
    "## Model 3 : Dense "
   ]
  },
  {
   "cell_type": "code",
   "execution_count": 95,
   "id": "740de025",
   "metadata": {},
   "outputs": [
    {
     "data": {
      "text/plain": [
       "(2200, 2200, 551, 551)"
      ]
     },
     "execution_count": 95,
     "metadata": {},
     "output_type": "execute_result"
    }
   ],
   "source": [
    "# make data sets...\n",
    "HORIZON = 7\n",
    "WINDOW = 30\n",
    "\n",
    "full_windows,full_labels = make_windows(prices,WINDOW,HORIZON)\n",
    "\n",
    "# train test split...\n",
    "train_windows,test_windows,train_labels,test_labels = train_test_split(full_windows,full_labels)\n",
    "\n",
    "len(train_windows),len(train_labels),len(test_windows),len(test_labels)"
   ]
  },
  {
   "cell_type": "code",
   "execution_count": 96,
   "id": "40e924f1",
   "metadata": {},
   "outputs": [
    {
     "name": "stdout",
     "output_type": "stream",
     "text": [
      "Model Saving to : model_experiments/model_3_dense/202208222344\n",
      "Epoch 1/100\n",
      "13/18 [====================>.........] - ETA: 0s - loss: 1729.9008"
     ]
    },
    {
     "name": "stderr",
     "output_type": "stream",
     "text": [
      "2022-08-22 23:44:02.285653: I tensorflow/core/grappler/optimizers/custom_graph_optimizer_registry.cc:113] Plugin optimizer for device_type GPU is enabled.\n",
      "2022-08-22 23:44:02.478067: I tensorflow/core/grappler/optimizers/custom_graph_optimizer_registry.cc:113] Plugin optimizer for device_type GPU is enabled.\n"
     ]
    },
    {
     "name": "stdout",
     "output_type": "stream",
     "text": [
      "18/18 [==============================] - 0s 9ms/step - loss: 1476.6752 - val_loss: 3088.5586\n",
      "Epoch 2/100\n",
      "18/18 [==============================] - 0s 5ms/step - loss: 552.8936 - val_loss: 2462.4504\n",
      "Epoch 3/100\n",
      "18/18 [==============================] - 0s 5ms/step - loss: 435.1981 - val_loss: 2283.1404\n",
      "Epoch 4/100\n",
      "18/18 [==============================] - 0s 5ms/step - loss: 391.9788 - val_loss: 1975.1150\n",
      "Epoch 5/100\n",
      "18/18 [==============================] - 0s 5ms/step - loss: 357.9489 - val_loss: 2000.1482\n",
      "Epoch 6/100\n",
      "18/18 [==============================] - 0s 5ms/step - loss: 332.6707 - val_loss: 1723.4143\n",
      "Epoch 7/100\n",
      "18/18 [==============================] - 0s 5ms/step - loss: 309.9905 - val_loss: 1591.9670\n",
      "Epoch 8/100\n",
      "18/18 [==============================] - 0s 5ms/step - loss: 302.4124 - val_loss: 1579.8518\n",
      "Epoch 9/100\n",
      "18/18 [==============================] - 0s 5ms/step - loss: 293.9171 - val_loss: 1602.9086\n",
      "Epoch 10/100\n",
      "18/18 [==============================] - 0s 5ms/step - loss: 291.5432 - val_loss: 1504.9102\n",
      "Epoch 11/100\n",
      "18/18 [==============================] - 0s 5ms/step - loss: 282.3862 - val_loss: 1474.9519\n",
      "Epoch 12/100\n",
      "18/18 [==============================] - 0s 5ms/step - loss: 276.0493 - val_loss: 1539.4817\n",
      "Epoch 13/100\n",
      "18/18 [==============================] - 0s 5ms/step - loss: 272.3233 - val_loss: 1459.5247\n",
      "Epoch 14/100\n",
      "18/18 [==============================] - 0s 5ms/step - loss: 270.6819 - val_loss: 1417.0790\n",
      "Epoch 15/100\n",
      "18/18 [==============================] - 0s 5ms/step - loss: 263.8877 - val_loss: 1541.3063\n",
      "Epoch 16/100\n",
      "18/18 [==============================] - 0s 5ms/step - loss: 265.9279 - val_loss: 1446.6520\n",
      "Epoch 17/100\n",
      "18/18 [==============================] - 0s 5ms/step - loss: 263.2726 - val_loss: 1498.2062\n",
      "Epoch 18/100\n",
      "18/18 [==============================] - 0s 5ms/step - loss: 259.4674 - val_loss: 1461.7529\n",
      "Epoch 19/100\n",
      "18/18 [==============================] - 0s 5ms/step - loss: 257.5365 - val_loss: 1526.0786\n",
      "Epoch 20/100\n",
      "18/18 [==============================] - 0s 5ms/step - loss: 264.0221 - val_loss: 1430.7910\n",
      "Epoch 21/100\n",
      "18/18 [==============================] - 0s 5ms/step - loss: 256.5593 - val_loss: 1446.4729\n",
      "Epoch 22/100\n",
      "18/18 [==============================] - 0s 5ms/step - loss: 258.0993 - val_loss: 1449.7534\n",
      "Epoch 23/100\n",
      "18/18 [==============================] - 0s 5ms/step - loss: 263.6384 - val_loss: 1362.2327\n",
      "Epoch 24/100\n",
      "18/18 [==============================] - 0s 5ms/step - loss: 262.6092 - val_loss: 1359.2751\n",
      "Epoch 25/100\n",
      "18/18 [==============================] - 0s 5ms/step - loss: 252.2084 - val_loss: 1501.6947\n",
      "Epoch 26/100\n",
      "18/18 [==============================] - 0s 5ms/step - loss: 252.9123 - val_loss: 1406.4183\n",
      "Epoch 27/100\n",
      "18/18 [==============================] - 0s 5ms/step - loss: 248.8143 - val_loss: 1409.0520\n",
      "Epoch 28/100\n",
      "18/18 [==============================] - 0s 5ms/step - loss: 248.3436 - val_loss: 1388.6184\n",
      "Epoch 29/100\n",
      "18/18 [==============================] - 0s 5ms/step - loss: 249.3408 - val_loss: 1408.2461\n",
      "Epoch 30/100\n",
      "18/18 [==============================] - 0s 5ms/step - loss: 248.7051 - val_loss: 1347.1915\n",
      "Epoch 31/100\n",
      "18/18 [==============================] - 0s 5ms/step - loss: 244.2715 - val_loss: 1353.9728\n",
      "Epoch 32/100\n",
      "18/18 [==============================] - 0s 5ms/step - loss: 246.6109 - val_loss: 1332.2542\n",
      "Epoch 33/100\n",
      "18/18 [==============================] - 0s 6ms/step - loss: 246.8524 - val_loss: 1374.1837\n",
      "Epoch 34/100\n",
      "18/18 [==============================] - 0s 5ms/step - loss: 245.6716 - val_loss: 1359.6248\n",
      "Epoch 35/100\n",
      "18/18 [==============================] - 0s 5ms/step - loss: 243.7250 - val_loss: 1362.0258\n",
      "Epoch 36/100\n",
      "18/18 [==============================] - 0s 6ms/step - loss: 241.2536 - val_loss: 1409.6627\n",
      "Epoch 37/100\n",
      "18/18 [==============================] - 0s 6ms/step - loss: 254.5052 - val_loss: 1368.4143\n",
      "Epoch 38/100\n",
      "18/18 [==============================] - 0s 5ms/step - loss: 239.4568 - val_loss: 1358.5386\n",
      "Epoch 39/100\n",
      "18/18 [==============================] - 0s 5ms/step - loss: 244.6222 - val_loss: 1392.4192\n",
      "Epoch 40/100\n",
      "18/18 [==============================] - 0s 5ms/step - loss: 239.6169 - val_loss: 1468.3448\n",
      "Epoch 41/100\n",
      "18/18 [==============================] - 0s 5ms/step - loss: 241.3893 - val_loss: 1413.9449\n",
      "Epoch 42/100\n",
      "18/18 [==============================] - 0s 5ms/step - loss: 245.6480 - val_loss: 1355.9027\n",
      "Epoch 43/100\n",
      "18/18 [==============================] - 0s 5ms/step - loss: 240.4428 - val_loss: 1384.7450\n",
      "Epoch 44/100\n",
      "18/18 [==============================] - 0s 5ms/step - loss: 251.3807 - val_loss: 1306.6615\n",
      "Epoch 45/100\n",
      "18/18 [==============================] - 0s 5ms/step - loss: 246.5040 - val_loss: 1530.9910\n",
      "Epoch 46/100\n",
      "18/18 [==============================] - 0s 5ms/step - loss: 243.1160 - val_loss: 1300.0038\n",
      "Epoch 47/100\n",
      "18/18 [==============================] - 0s 5ms/step - loss: 236.2000 - val_loss: 1341.0486\n",
      "Epoch 48/100\n",
      "18/18 [==============================] - 0s 5ms/step - loss: 236.0338 - val_loss: 1319.9170\n",
      "Epoch 49/100\n",
      "18/18 [==============================] - 0s 5ms/step - loss: 243.6262 - val_loss: 1364.5660\n",
      "Epoch 50/100\n",
      "18/18 [==============================] - 0s 5ms/step - loss: 237.3569 - val_loss: 1286.6149\n",
      "Epoch 51/100\n",
      "18/18 [==============================] - 0s 5ms/step - loss: 238.5145 - val_loss: 1439.8641\n",
      "Epoch 52/100\n",
      "18/18 [==============================] - 0s 5ms/step - loss: 233.4102 - val_loss: 1322.6906\n",
      "Epoch 53/100\n",
      "18/18 [==============================] - 0s 5ms/step - loss: 231.7944 - val_loss: 1291.2424\n",
      "Epoch 54/100\n",
      "18/18 [==============================] - 0s 5ms/step - loss: 235.0475 - val_loss: 1312.6163\n",
      "Epoch 55/100\n",
      "18/18 [==============================] - 0s 5ms/step - loss: 233.7372 - val_loss: 1327.1641\n",
      "Epoch 56/100\n",
      "18/18 [==============================] - 0s 5ms/step - loss: 232.4980 - val_loss: 1327.1754\n",
      "Epoch 57/100\n",
      "18/18 [==============================] - 0s 5ms/step - loss: 235.1183 - val_loss: 1367.8580\n",
      "Epoch 58/100\n",
      "18/18 [==============================] - 0s 5ms/step - loss: 231.7914 - val_loss: 1305.4014\n",
      "Epoch 59/100\n",
      "18/18 [==============================] - 0s 5ms/step - loss: 231.5682 - val_loss: 1299.3076\n",
      "Epoch 60/100\n",
      "18/18 [==============================] - 0s 5ms/step - loss: 231.9424 - val_loss: 1273.2325\n",
      "Epoch 61/100\n",
      "18/18 [==============================] - 0s 5ms/step - loss: 230.2454 - val_loss: 1449.2979\n",
      "Epoch 62/100\n",
      "18/18 [==============================] - 0s 5ms/step - loss: 232.6832 - val_loss: 1294.0967\n",
      "Epoch 63/100\n",
      "18/18 [==============================] - 0s 5ms/step - loss: 235.0422 - val_loss: 1381.5603\n",
      "Epoch 64/100\n",
      "18/18 [==============================] - 0s 5ms/step - loss: 232.6331 - val_loss: 1258.2045\n",
      "Epoch 65/100\n",
      "18/18 [==============================] - 0s 5ms/step - loss: 233.3738 - val_loss: 1364.5796\n",
      "Epoch 66/100\n",
      "18/18 [==============================] - 0s 5ms/step - loss: 231.1431 - val_loss: 1422.1863\n",
      "Epoch 67/100\n",
      "18/18 [==============================] - 0s 6ms/step - loss: 236.2734 - val_loss: 1278.3048\n",
      "Epoch 68/100\n",
      "18/18 [==============================] - 0s 5ms/step - loss: 229.9147 - val_loss: 1309.6240\n",
      "Epoch 69/100\n",
      "18/18 [==============================] - 0s 5ms/step - loss: 228.1561 - val_loss: 1536.3457\n",
      "Epoch 70/100\n",
      "18/18 [==============================] - 0s 5ms/step - loss: 234.5244 - val_loss: 1281.6627\n",
      "Epoch 71/100\n",
      "18/18 [==============================] - 0s 5ms/step - loss: 227.5429 - val_loss: 1263.7622\n",
      "Epoch 72/100\n",
      "18/18 [==============================] - 0s 7ms/step - loss: 229.6448 - val_loss: 1252.8425\n",
      "Epoch 73/100\n",
      "18/18 [==============================] - 0s 6ms/step - loss: 227.3842 - val_loss: 1285.2588\n",
      "Epoch 74/100\n",
      "18/18 [==============================] - 0s 8ms/step - loss: 231.4812 - val_loss: 1360.2684\n",
      "Epoch 75/100\n",
      "18/18 [==============================] - 0s 5ms/step - loss: 228.5475 - val_loss: 1397.3607\n",
      "Epoch 76/100\n",
      "18/18 [==============================] - 0s 5ms/step - loss: 229.4458 - val_loss: 1285.7157\n",
      "Epoch 77/100\n",
      "18/18 [==============================] - 0s 5ms/step - loss: 224.7581 - val_loss: 1239.1467\n",
      "Epoch 78/100\n",
      "18/18 [==============================] - 0s 5ms/step - loss: 228.3236 - val_loss: 1259.0560\n",
      "Epoch 79/100\n"
     ]
    },
    {
     "name": "stdout",
     "output_type": "stream",
     "text": [
      "18/18 [==============================] - 0s 5ms/step - loss: 225.5179 - val_loss: 1261.5272\n",
      "Epoch 80/100\n",
      "18/18 [==============================] - 0s 5ms/step - loss: 226.8744 - val_loss: 1340.3396\n",
      "Epoch 81/100\n",
      "18/18 [==============================] - 0s 5ms/step - loss: 229.7051 - val_loss: 1274.0671\n",
      "Epoch 82/100\n",
      "18/18 [==============================] - 0s 5ms/step - loss: 225.8924 - val_loss: 1283.4860\n",
      "Epoch 83/100\n",
      "18/18 [==============================] - 0s 5ms/step - loss: 226.2139 - val_loss: 1304.5085\n",
      "Epoch 84/100\n",
      "18/18 [==============================] - 0s 5ms/step - loss: 227.7111 - val_loss: 1255.5492\n",
      "Epoch 85/100\n",
      "18/18 [==============================] - 0s 5ms/step - loss: 226.7882 - val_loss: 1249.2893\n",
      "Epoch 86/100\n",
      "18/18 [==============================] - 0s 5ms/step - loss: 225.5805 - val_loss: 1318.1665\n",
      "Epoch 87/100\n",
      "18/18 [==============================] - 0s 5ms/step - loss: 230.4981 - val_loss: 1393.1034\n",
      "Epoch 88/100\n",
      "18/18 [==============================] - 0s 5ms/step - loss: 230.9300 - val_loss: 1476.1200\n",
      "Epoch 89/100\n",
      "18/18 [==============================] - 0s 5ms/step - loss: 230.7887 - val_loss: 1289.9026\n",
      "Epoch 90/100\n",
      "18/18 [==============================] - 0s 5ms/step - loss: 230.0002 - val_loss: 1370.9779\n",
      "Epoch 91/100\n",
      "18/18 [==============================] - 0s 5ms/step - loss: 226.6474 - val_loss: 1252.0531\n",
      "Epoch 92/100\n",
      "18/18 [==============================] - 0s 5ms/step - loss: 225.2489 - val_loss: 1248.4475\n",
      "Epoch 93/100\n",
      "18/18 [==============================] - 0s 5ms/step - loss: 231.7946 - val_loss: 1337.6454\n",
      "Epoch 94/100\n",
      "18/18 [==============================] - 0s 5ms/step - loss: 227.8588 - val_loss: 1294.2241\n",
      "Epoch 95/100\n",
      "18/18 [==============================] - 0s 5ms/step - loss: 227.8564 - val_loss: 1285.9293\n",
      "Epoch 96/100\n",
      "18/18 [==============================] - 0s 8ms/step - loss: 231.5130 - val_loss: 1407.6466\n",
      "Epoch 97/100\n",
      "18/18 [==============================] - 0s 6ms/step - loss: 231.1358 - val_loss: 1322.1310\n",
      "Epoch 98/100\n",
      "18/18 [==============================] - 0s 5ms/step - loss: 228.3340 - val_loss: 1349.5787\n",
      "Epoch 99/100\n",
      "18/18 [==============================] - 0s 5ms/step - loss: 228.8317 - val_loss: 1253.7249\n",
      "Epoch 100/100\n",
      "18/18 [==============================] - 0s 5ms/step - loss: 224.0749 - val_loss: 1352.5883\n"
     ]
    }
   ],
   "source": [
    "# construct the model...\n",
    "tf.random.set_seed(42)\n",
    "\n",
    "model_3 = Sequential(name=\"Model_3\")\n",
    "model_3.add(layers.Dense(128,activation=\"relu\"))\n",
    "model_3.add(layers.Dense(HORIZON))\n",
    "\n",
    "# compile the model\n",
    "model_3.compile(loss=\"mae\",\n",
    "               optimizer=tf.keras.optimizers.Adam(),)\n",
    "# fit the model\n",
    "history_3 = model_3.fit(train_windows,train_labels,epochs=100,batch_size=128,\n",
    "                       validation_data=(test_windows,test_labels),\n",
    "                       callbacks=[create_model_checkpoint(\"model_3_dense\")])"
   ]
  },
  {
   "cell_type": "code",
   "execution_count": 98,
   "id": "30c6581f",
   "metadata": {},
   "outputs": [
    {
     "name": "stdout",
     "output_type": "stream",
     "text": [
      "18/18 [==============================] - 0s 2ms/step\n"
     ]
    },
    {
     "data": {
      "text/plain": [
       "{'MAE': array([ 292.78    ,  158.16699 ,  165.0872  ,  168.63951 ,  244.88449 ,\n",
       "         296.84885 ,  293.3369  ,  246.60052 ,  362.34824 ,  430.60666 ,\n",
       "         545.13965 ,  544.4678  ,  572.4046  ,  607.92413 ,  377.90515 ,\n",
       "         194.91017 ,  206.29123 ,  400.6295  ,  438.56845 ,  469.2284  ,\n",
       "         235.2597  ,  169.14803 ,  128.5314  ,  159.68207 ,  148.50601 ,\n",
       "         190.10011 ,  265.6084  ,  260.4991  ,  224.11511 ,   86.38372 ,\n",
       "         131.94539 ,  164.71806 ,  120.465195,  176.68535 ,  199.91359 ,\n",
       "         206.4555  ,  189.8817  ,  219.46716 ,  230.9491  ,  400.8871  ,\n",
       "         655.13916 ,  358.52478 ,  252.78154 ,  297.62384 ,  126.21827 ,\n",
       "         225.76453 ,  192.68988 ,  178.05602 ,  132.23787 ,  215.24492 ,\n",
       "         164.45955 ,  149.44037 ,  115.378426,  194.53789 ,  403.46884 ,\n",
       "         523.11584 ,  763.5438  ,  747.5308  ,  715.54156 ,  731.0683  ,\n",
       "         636.8591  ,  431.80862 ,  380.74695 ,  532.0792  ,  662.8597  ,\n",
       "         678.10645 ,  725.495   ,  749.32184 ,  351.44492 ,  192.33037 ,\n",
       "         166.02289 ,  212.76466 ,  277.18988 ,  201.29576 ,  148.70494 ,\n",
       "         222.42802 ,  263.5999  ,  511.3043  ,  704.1405  ,  917.5023  ,\n",
       "        1073.1664  ,  884.1945  ,  531.4424  ,  361.6091  ,  194.28029 ,\n",
       "         257.41574 ,  262.59015 ,  445.91953 ,  562.4862  ,  816.1571  ,\n",
       "         695.20514 ,  693.3587  ,  624.04175 ,  479.41925 ,  299.37167 ,\n",
       "         415.77835 ,  308.4205  ,  290.60312 ,  392.57632 ,  473.88968 ,\n",
       "         280.26242 ,  100.764656,  252.96248 ,  108.506004,  255.68332 ,\n",
       "         406.9516  ,  443.36694 ,  496.06265 ,  713.49097 ,  664.7963  ,\n",
       "         577.50745 ,  184.31139 ,  178.69142 ,  369.54172 ,  397.8958  ,\n",
       "         569.1155  ,  409.3084  ,  445.36728 ,  575.0003  ,  880.2786  ,\n",
       "        1365.483   , 1881.9517  , 1695.7335  , 1845.4546  , 2029.4858  ,\n",
       "        2342.697   , 1090.0829  ,  539.32806 ,  397.15396 ,  436.80206 ,\n",
       "         572.4263  ,  495.724   ,  630.0905  ,  403.87668 ,  343.536   ,\n",
       "         341.23566 ,  496.04913 ,  416.55338 ,  154.04584 ,  243.62648 ,\n",
       "         240.50224 ,  313.8534  ,  343.09705 ,  780.0722  ,  856.0326  ,\n",
       "         603.7318  ,  541.4319  ,  242.53845 ,  419.80582 ,  213.20209 ,\n",
       "         356.1297  ,  285.24463 ,  253.59439 ,  342.19016 ,  217.7452  ,\n",
       "         151.72754 ,  299.0467  ,  298.2046  ,  341.69122 ,  279.43396 ,\n",
       "         476.44263 ,  338.37753 ,  304.93625 ,  289.25775 ,  326.7578  ,\n",
       "         540.2366  ,  721.4388  ,  905.6378  ,  716.1311  ,  803.63416 ,\n",
       "        1027.4478  , 1082.6444  , 1193.2606  , 1288.7972  ,  720.72644 ,\n",
       "         474.513   ,  530.1599  ,  443.07983 ,  490.20093 ,  481.4876  ,\n",
       "         532.7308  ,  481.3598  ,  509.77835 ,  711.795   ,  599.655   ,\n",
       "         334.11093 ,  779.04706 , 1000.1804  ,  630.46875 ,  132.86789 ,\n",
       "         226.39539 ,  271.3125  ,  308.0053  ,  271.8675  ,  413.5614  ,\n",
       "         356.97406 ,  163.60129 ,  231.61818 ,  283.91437 ,  427.70187 ,\n",
       "         742.2601  , 1011.0784  ,  967.073   ,  711.54706 ,  519.847   ,\n",
       "         296.9004  ,  397.01773 ,  115.84376 ,  151.55441 ,  166.28377 ,\n",
       "         144.1815  ,  260.5289  ,  262.4435  ,  297.0826  ,  152.86441 ,\n",
       "         217.97797 ,  251.99387 ,  205.98131 ,  240.57465 ,  148.83148 ,\n",
       "         177.2934  ,  159.07576 ,  202.06642 ,  190.84293 ,  238.76355 ,\n",
       "         242.88283 ,  398.7768  ,  265.21695 ,  151.24931 ,  302.94058 ,\n",
       "         113.69825 ,  127.43025 ,  172.57033 ,  287.44058 ,  277.5964  ,\n",
       "         271.02344 ,  230.99332 ,  220.87361 ,  279.19867 ,  391.69827 ,\n",
       "         326.45996 ,  436.72308 ,  257.5085  ,  232.27107 ,   69.85198 ,\n",
       "         131.58385 ,  134.1225  ,  208.0014  ,  180.16226 ,  140.50238 ,\n",
       "         120.65919 ,  231.37822 ,  368.79523 ,  414.84753 ,  492.0575  ,\n",
       "         562.133   ,  866.92596 ,  962.8777  , 1065.4608  , 1155.655   ,\n",
       "        1389.1224  , 1607.6122  , 1580.3815  ,  793.1433  ,  477.70956 ,\n",
       "         303.66046 ,  333.14246 ,  380.6635  ,  181.27345 ,  310.70007 ,\n",
       "         358.6772  ,  500.7235  ,  245.90417 ,  143.69127 ,  158.28824 ,\n",
       "         190.45871 ,  216.6391  ,  267.1786  ,  538.70636 ,  520.6713  ,\n",
       "         468.56616 ,  298.15417 ,  306.4523  ,  233.45467 ,  170.58148 ,\n",
       "         273.75363 ,  206.09222 ,  160.99652 ,  238.63687 ,  176.09947 ,\n",
       "         174.47588 ,  101.33469 ,  368.2764  ,  459.3936  ,  530.9915  ,\n",
       "         529.14636 ,  619.4607  ,  696.3219  ,  828.88873 , 1146.2434  ,\n",
       "        1046.584   ,  544.86066 ,  247.1903  ,  400.03546 ,  483.14917 ,\n",
       "         375.76035 ,  577.787   ,  634.29913 ,  685.096   ,  683.59015 ,\n",
       "         714.00726 ,  750.0715  ,  565.6662  ,  278.53546 ,  198.59822 ,\n",
       "         233.96248 ,  199.69713 ,  246.14119 ,  172.16129 ,  320.6391  ,\n",
       "         389.7337  ,  619.64636 ,  442.75687 ,  233.07674 ,  174.17873 ,\n",
       "         168.12277 ,  100.10003 ,  130.55875 ,  135.26144 ,  211.99513 ,\n",
       "         353.59015 ,  497.18628 ,  556.83514 ,  660.8552  ,  829.13385 ,\n",
       "         960.3547  ,  898.57886 ,  796.78656 ,  447.71097 ,  321.7005  ,\n",
       "         166.77945 ,  231.98746 ,  498.6761  ,  723.70734 ,  984.0133  ,\n",
       "        1345.6421  , 1514.1686  , 1505.9591  , 1546.1038  ,  755.443   ,\n",
       "         349.536   ,  405.37    ,  447.50964 ,  581.3756  ,  627.4299  ,\n",
       "         253.37027 ,  445.48566 ,  732.317   ,  919.27527 ,  940.40125 ,\n",
       "        1116.4705  , 1516.4177  , 1574.7025  , 1575.8688  ,  680.61523 ,\n",
       "         502.87698 ,  713.1088  ,  521.94214 ,  949.55164 , 1253.4557  ,\n",
       "        1223.955   ,  995.39667 , 1256.4419  , 1643.4276  , 2282.867   ,\n",
       "        1985.5748  , 1446.9216  ,  967.9875  ,  880.18835 ,  618.7182  ,\n",
       "         680.66797 ,  786.0578  ,  823.65045 ,  846.435   ,  814.31256 ,\n",
       "        1018.52795 , 1748.9318  , 1874.4287  , 1802.35    ,  626.3859  ,\n",
       "         411.2553  ,  312.40765 ,  411.0798  ,  444.01285 ,  293.7782  ,\n",
       "         312.84265 ,  292.82257 ,  417.0335  , 1023.25146 , 1946.8142  ,\n",
       "        3023.9678  , 3263.6746  , 3607.0344  , 3857.0571  , 4067.9648  ,\n",
       "        2913.3442  , 1486.9908  ,  939.2598  ,  789.3195  , 1136.355   ,\n",
       "        1618.105   , 2104.5684  , 3204.1023  , 3724.4807  , 3676.0652  ,\n",
       "        3027.8557  , 3146.5044  , 3424.2068  , 4199.554   , 3981.592   ,\n",
       "        4669.162   , 5733.148   , 4908.678   , 4679.677   , 5295.335   ,\n",
       "        3956.0632  , 3054.6626  , 2362.0793  , 3420.233   , 4642.127   ,\n",
       "        4145.5073  , 1255.8756  , 1686.1039  ,  846.84546 , 2020.2725  ,\n",
       "        2381.3562  , 2432.4148  , 2476.0269  , 2662.419   , 2887.9033  ,\n",
       "        3027.0952  ,  701.1549  , 1218.5023  , 1632.5162  , 1431.9847  ,\n",
       "        1730.538   , 2821.2937  , 4374.7466  , 4075.9011  , 2999.2466  ,\n",
       "        3178.8044  , 4070.9065  , 5882.124   , 6375.283   , 5465.614   ,\n",
       "        5720.82    , 6873.0757  , 6837.9404  , 9051.339   , 5731.335   ,\n",
       "        2011.3282  , 2672.976   , 2008.7808  , 2612.043   , 3208.3276  ,\n",
       "        3845.4534  , 3906.1826  , 4669.85    , 3088.0598  , 3433.0125  ,\n",
       "        4747.104   , 6122.5522  , 8831.013   , 8001.513   , 3667.8003  ,\n",
       "        1863.5681  , 1655.4108  , 2106.3657  , 3249.4487  , 5030.2793  ,\n",
       "        4184.9946  , 3816.9321  , 3653.5605  , 5012.8135  , 6544.3535  ,\n",
       "        7657.551   , 7624.865   , 6908.408   , 5734.127   , 3450.6106  ,\n",
       "        2401.3423  , 2605.7322  ,  970.9822  , 1547.3192  , 1446.3773  ,\n",
       "        2056.6072  , 2391.9192  , 3232.7244  , 3932.7473  , 3725.2742  ,\n",
       "        3508.0962  , 1592.1134  , 2237.118   , 4173.312   , 5722.1924  ,\n",
       "        6001.7354  , 3549.019   , 4138.767   , 3139.171   , 2082.4219  ,\n",
       "        1076.3086  ,  915.2528  ,  754.7997  , 1303.0709  , 1194.2723  ,\n",
       "        1583.9264  , 2101.4717  , 4153.8213  , 4904.8467  , 5147.015   ,\n",
       "        4060.2217  , 3768.2407  , 3450.9287  , 3125.4482  , 4302.6914  ,\n",
       "        5517.838   , 6902.6753  , 6493.866   , 4521.7676  , 3338.5168  ,\n",
       "        2822.3345  , 1885.1592  , 1993.8556  , 3806.8645  , 5111.175   ,\n",
       "        7432.307   , 5045.4414  , 2706.1245  , 2622.2344  , 3619.2942  ,\n",
       "        2608.0876  , 1257.2701  , 2048.44    , 1700.3856  , 3657.9248  ,\n",
       "        2636.681   , 2863.4683  , 3121.9744  , 4617.713   , 5624.9014  ,\n",
       "        6805.036   ], dtype=float32),\n",
       " 'MSE': array([1.10970383e+05, 4.94348672e+04, 6.49625000e+04, 4.06671875e+04,\n",
       "        8.67442188e+04, 1.29708828e+05, 1.08773133e+05, 1.23363453e+05,\n",
       "        2.14503859e+05, 2.98223344e+05, 4.75940812e+05, 4.25426438e+05,\n",
       "        3.74717719e+05, 4.06793406e+05, 1.69629875e+05, 5.91342266e+04,\n",
       "        8.01378594e+04, 2.13920438e+05, 2.19052672e+05, 2.56922766e+05,\n",
       "        7.56825234e+04, 5.28129570e+04, 2.16653164e+04, 3.32452734e+04,\n",
       "        3.68758359e+04, 5.99462188e+04, 9.69323203e+04, 8.40870469e+04,\n",
       "        7.26431328e+04, 1.43937510e+04, 2.95086973e+04, 3.81470547e+04,\n",
       "        3.62258398e+04, 7.65651875e+04, 5.39654414e+04, 7.31607656e+04,\n",
       "        7.67524844e+04, 6.06052734e+04, 7.70603359e+04, 1.78504516e+05,\n",
       "        4.49397875e+05, 1.33468859e+05, 7.00085391e+04, 9.08739531e+04,\n",
       "        1.96854844e+04, 6.13184570e+04, 4.61077266e+04, 4.83077852e+04,\n",
       "        2.22032246e+04, 5.04340039e+04, 4.23659336e+04, 3.10382910e+04,\n",
       "        1.63455811e+04, 5.91525938e+04, 2.42664625e+05, 4.12030812e+05,\n",
       "        6.67846188e+05, 6.36412875e+05, 5.81342250e+05, 5.58145000e+05,\n",
       "        4.20257938e+05, 2.70832156e+05, 2.56971297e+05, 3.99256531e+05,\n",
       "        5.60437688e+05, 5.47090688e+05, 5.96681250e+05, 5.76175125e+05,\n",
       "        1.43462047e+05, 5.46597227e+04, 4.65811953e+04, 6.31310234e+04,\n",
       "        1.07426344e+05, 5.13425078e+04, 2.78436738e+04, 6.40990742e+04,\n",
       "        1.23562883e+05, 4.04407219e+05, 6.63261125e+05, 9.33153188e+05,\n",
       "        1.18564838e+06, 7.95488875e+05, 2.97720875e+05, 1.50290156e+05,\n",
       "        5.41595156e+04, 8.73299062e+04, 1.07088648e+05, 2.70068562e+05,\n",
       "        3.91412375e+05, 6.91054438e+05, 5.37425000e+05, 5.34364688e+05,\n",
       "        4.02336594e+05, 2.77608312e+05, 1.33662938e+05, 2.18095094e+05,\n",
       "        1.15380227e+05, 1.29143469e+05, 1.94243938e+05, 2.59323328e+05,\n",
       "        9.87506641e+04, 2.03329277e+04, 1.24071328e+05, 2.68243711e+04,\n",
       "        1.41868672e+05, 2.28783375e+05, 2.33260828e+05, 2.90206906e+05,\n",
       "        6.50610875e+05, 5.21982562e+05, 3.58082719e+05, 4.40069766e+04,\n",
       "        4.09895742e+04, 1.80372062e+05, 1.87338438e+05, 3.53939219e+05,\n",
       "        2.04879047e+05, 2.31089016e+05, 3.34371750e+05, 1.59523950e+06,\n",
       "        3.06381550e+06, 4.99791200e+06, 4.34030550e+06, 4.67445550e+06,\n",
       "        4.71408700e+06, 5.55455100e+06, 1.29904725e+06, 3.41026250e+05,\n",
       "        2.34585375e+05, 2.50629016e+05, 4.89830688e+05, 3.74258469e+05,\n",
       "        4.66309906e+05, 2.15147469e+05, 1.70102500e+05, 1.54771031e+05,\n",
       "        2.94138125e+05, 2.19456766e+05, 4.53381211e+04, 1.13012719e+05,\n",
       "        1.08381164e+05, 1.44221531e+05, 1.52011656e+05, 6.88130375e+05,\n",
       "        7.87786875e+05, 4.16700531e+05, 3.15684938e+05, 9.02541797e+04,\n",
       "        2.36601875e+05, 6.98097500e+04, 1.59248031e+05, 1.09844039e+05,\n",
       "        8.02665000e+04, 1.40918422e+05, 7.17442266e+04, 3.10611680e+04,\n",
       "        1.22886000e+05, 1.14066898e+05, 1.61820469e+05, 1.06497992e+05,\n",
       "        2.56496922e+05, 1.64581359e+05, 1.30167938e+05, 1.27575062e+05,\n",
       "        1.39048297e+05, 3.48046938e+05, 5.64904250e+05, 1.00098150e+06,\n",
       "        7.66635312e+05, 9.59845750e+05, 1.39800400e+06, 1.44791688e+06,\n",
       "        1.57492238e+06, 1.66666850e+06, 5.68243875e+05, 3.35821562e+05,\n",
       "        4.51331656e+05, 3.75980562e+05, 3.73838312e+05, 3.27319000e+05,\n",
       "        4.10096719e+05, 2.73089750e+05, 3.74828125e+05, 6.50325000e+05,\n",
       "        4.92915594e+05, 1.24605750e+05, 6.86623812e+05, 1.03985250e+06,\n",
       "        4.11288656e+05, 2.47671602e+04, 6.61260469e+04, 1.03817984e+05,\n",
       "        1.15799727e+05, 9.79238594e+04, 2.01240641e+05, 1.49447875e+05,\n",
       "        4.71924766e+04, 1.13332859e+05, 1.39149688e+05, 2.44737078e+05,\n",
       "        6.99394375e+05, 1.17001100e+06, 1.01554562e+06, 5.65991750e+05,\n",
       "        3.99911719e+05, 1.38292844e+05, 2.41812531e+05, 2.11789531e+04,\n",
       "        2.92503496e+04, 3.81292188e+04, 5.03284492e+04, 8.05251016e+04,\n",
       "        9.27963438e+04, 1.02569805e+05, 3.25793223e+04, 6.31536758e+04,\n",
       "        8.12722500e+04, 5.68628203e+04, 6.75646719e+04, 3.52792578e+04,\n",
       "        3.74201641e+04, 3.12372383e+04, 6.82191016e+04, 7.25290938e+04,\n",
       "        7.99216250e+04, 8.20556875e+04, 1.87354688e+05, 1.23402734e+05,\n",
       "        3.56371016e+04, 1.00772383e+05, 1.74958359e+04, 1.92433398e+04,\n",
       "        5.15154844e+04, 8.56836016e+04, 9.59469922e+04, 7.90187344e+04,\n",
       "        6.09845469e+04, 6.40652891e+04, 1.11647156e+05, 1.79355859e+05,\n",
       "        1.11377383e+05, 2.01306141e+05, 7.13993906e+04, 7.00669844e+04,\n",
       "        7.07563574e+03, 2.35174766e+04, 2.33800195e+04, 5.37301641e+04,\n",
       "        3.67018438e+04, 2.57039707e+04, 1.93094570e+04, 7.20080312e+04,\n",
       "        1.67244656e+05, 2.07955266e+05, 2.80354656e+05, 3.55612031e+05,\n",
       "        1.04126931e+06, 1.35901775e+06, 1.67272088e+06, 1.79589025e+06,\n",
       "        2.31768400e+06, 2.83004700e+06, 2.58262050e+06, 6.88591000e+05,\n",
       "        2.61864828e+05, 1.62720188e+05, 1.61474719e+05, 2.16578562e+05,\n",
       "        4.30518906e+04, 1.25896969e+05, 1.47603562e+05, 2.97368156e+05,\n",
       "        8.03955781e+04, 2.63024590e+04, 4.61049023e+04, 3.85722773e+04,\n",
       "        6.61848125e+04, 1.06592867e+05, 3.39477406e+05, 3.44969750e+05,\n",
       "        2.54625578e+05, 1.51162656e+05, 1.51780406e+05, 1.24930953e+05,\n",
       "        3.72723164e+04, 9.92642422e+04, 6.16180117e+04, 4.75763867e+04,\n",
       "        9.68757188e+04, 4.70395195e+04, 4.61689219e+04, 2.60389551e+04,\n",
       "        1.67505500e+05, 3.03008000e+05, 3.22476594e+05, 3.09987656e+05,\n",
       "        4.87035125e+05, 6.09137938e+05, 8.67274438e+05, 1.56263625e+06,\n",
       "        1.16601675e+06, 3.46560219e+05, 7.80903516e+04, 1.91638156e+05,\n",
       "        2.69696875e+05, 1.82435812e+05, 3.68174938e+05, 4.88743875e+05,\n",
       "        5.45489938e+05, 5.64608625e+05, 5.62748688e+05, 5.86942438e+05,\n",
       "        3.53433219e+05, 1.05897234e+05, 6.37034844e+04, 8.10191719e+04,\n",
       "        5.33875820e+04, 1.02399383e+05, 4.67832852e+04, 1.15081438e+05,\n",
       "        1.89438078e+05, 3.99824406e+05, 2.06832516e+05, 7.67211875e+04,\n",
       "        4.49402734e+04, 3.97658711e+04, 1.88189883e+04, 2.52526582e+04,\n",
       "        3.77543516e+04, 5.35412656e+04, 1.56493938e+05, 3.08820312e+05,\n",
       "        4.22582688e+05, 5.83996688e+05, 7.99097625e+05, 9.86699812e+05,\n",
       "        8.35343438e+05, 6.62636188e+05, 2.25832656e+05, 1.16149328e+05,\n",
       "        3.27868906e+04, 7.96015000e+04, 5.43355875e+05, 1.04850300e+06,\n",
       "        1.46812312e+06, 2.23075950e+06, 2.58811875e+06, 2.42766475e+06,\n",
       "        2.44285950e+06, 6.39567875e+05, 1.78185516e+05, 2.06091312e+05,\n",
       "        3.00460219e+05, 3.97570875e+05, 4.30252312e+05, 8.74032891e+04,\n",
       "        2.22054734e+05, 8.45242438e+05, 1.43336725e+06, 1.47117262e+06,\n",
       "        1.74896525e+06, 2.63120300e+06, 2.66448475e+06, 2.54398300e+06,\n",
       "        6.97752750e+05, 3.52355906e+05, 6.39942000e+05, 3.86033219e+05,\n",
       "        1.00608388e+06, 1.88000212e+06, 1.97099412e+06, 1.59263262e+06,\n",
       "        2.29929775e+06, 3.42582075e+06, 5.63448900e+06, 4.08590475e+06,\n",
       "        2.24949425e+06, 1.03571919e+06, 8.25240375e+05, 5.73137188e+05,\n",
       "        7.70804062e+05, 9.90411750e+05, 9.73166875e+05, 1.07371575e+06,\n",
       "        8.16978312e+05, 1.32581875e+06, 3.60771275e+06, 3.66254050e+06,\n",
       "        3.36074625e+06, 4.95780375e+05, 2.12058609e+05, 1.58553469e+05,\n",
       "        2.46555766e+05, 2.37315516e+05, 1.43178297e+05, 1.38312344e+05,\n",
       "        1.33908250e+05, 2.54917062e+05, 1.71194088e+06, 5.96013550e+06,\n",
       "        1.18388830e+07, 1.42109170e+07, 1.63149240e+07, 1.70566880e+07,\n",
       "        1.70002160e+07, 8.68993800e+06, 2.35898050e+06, 1.19911288e+06,\n",
       "        1.42558862e+06, 2.45585150e+06, 4.24864150e+06, 6.27658450e+06,\n",
       "        1.23337540e+07, 1.55401860e+07, 1.49258680e+07, 1.28220500e+07,\n",
       "        1.47590110e+07, 1.55769310e+07, 2.13673240e+07, 2.16943320e+07,\n",
       "        3.19555540e+07, 4.40392600e+07, 3.58259200e+07, 2.72159240e+07,\n",
       "        3.37641960e+07, 2.12748140e+07, 1.16742890e+07, 7.89840150e+06,\n",
       "        1.64061470e+07, 2.44789540e+07, 1.86495420e+07, 1.82662512e+06,\n",
       "        3.87852525e+06, 1.42067462e+06, 6.34635100e+06, 9.26288100e+06,\n",
       "        1.03275160e+07, 1.12134520e+07, 8.10806700e+06, 1.04911840e+07,\n",
       "        1.02655940e+07, 8.55815875e+05, 2.27097250e+06, 3.66428825e+06,\n",
       "        3.31256175e+06, 3.68630725e+06, 9.64509300e+06, 2.09170720e+07,\n",
       "        1.97860480e+07, 1.24718270e+07, 1.47813730e+07, 2.00478360e+07,\n",
       "        4.22419840e+07, 5.51224240e+07, 4.44691760e+07, 4.54177200e+07,\n",
       "        5.99105120e+07, 5.49289520e+07, 8.32902640e+07, 3.46328600e+07,\n",
       "        5.49836700e+06, 8.92757100e+06, 6.91058900e+06, 1.42964840e+07,\n",
       "        1.61750360e+07, 2.36354260e+07, 2.01713540e+07, 2.63935560e+07,\n",
       "        1.20760210e+07, 1.34039780e+07, 3.44225600e+07, 4.73910960e+07,\n",
       "        8.70498240e+07, 6.62853280e+07, 1.76054980e+07, 7.28031250e+06,\n",
       "        4.15416200e+06, 5.29754400e+06, 1.29703900e+07, 2.65669340e+07,\n",
       "        2.00880280e+07, 1.78930240e+07, 2.31156140e+07, 3.42622600e+07,\n",
       "        5.14403240e+07, 6.91664240e+07, 6.83702720e+07, 5.25796400e+07,\n",
       "        3.42919280e+07, 1.47006660e+07, 8.08784400e+06, 8.94930300e+06,\n",
       "        1.41547838e+06, 3.02047125e+06, 4.69771000e+06, 5.26473100e+06,\n",
       "        8.20388250e+06, 1.49328600e+07, 2.19262340e+07, 1.70013820e+07,\n",
       "        1.47603610e+07, 2.99810700e+06, 6.54384850e+06, 2.19514460e+07,\n",
       "        3.44634880e+07, 3.78268560e+07, 1.44142560e+07, 1.73567780e+07,\n",
       "        1.05465630e+07, 4.86126100e+06, 1.45256888e+06, 1.41101788e+06,\n",
       "        9.88274062e+05, 2.01698650e+06, 2.19471650e+06, 3.41948025e+06,\n",
       "        7.32578000e+06, 2.08601440e+07, 2.88246100e+07, 2.96878180e+07,\n",
       "        1.89847640e+07, 1.60996610e+07, 1.31395050e+07, 1.21609580e+07,\n",
       "        2.74633780e+07, 4.10643480e+07, 5.89580320e+07, 5.00475360e+07,\n",
       "        2.96008340e+07, 1.30356860e+07, 1.16933580e+07, 4.83020000e+06,\n",
       "        5.40840700e+06, 1.65726910e+07, 3.25870320e+07, 5.76983840e+07,\n",
       "        2.69591560e+07, 1.00927790e+07, 9.66640200e+06, 1.45735810e+07,\n",
       "        7.38698550e+06, 2.56506900e+06, 5.07346300e+06, 5.10568550e+06,\n",
       "        1.50278260e+07, 8.49150000e+06, 1.08783860e+07, 1.49313930e+07,\n",
       "        3.28356500e+07, 4.77874280e+07, 5.95997760e+07], dtype=float32),\n",
       " 'RMSE': array([ 333.1222  ,  222.33954 ,  254.87743 ,  201.66107 ,  294.5237  ,\n",
       "         360.15112 ,  329.8077  ,  351.23135 ,  463.14563 ,  546.09827 ,\n",
       "         689.88464 ,  652.24725 ,  612.1419  ,  637.8036  ,  411.86148 ,\n",
       "         243.17531 ,  283.0863  ,  462.51535 ,  468.03064 ,  506.87552 ,\n",
       "         275.10458 ,  229.81071 ,  147.19142 ,  182.33287 ,  192.03082 ,\n",
       "         244.83917 ,  311.33957 ,  289.97766 ,  269.5239  ,  119.97396 ,\n",
       "         171.78096 ,  195.31271 ,  190.33089 ,  276.70416 ,  232.30464 ,\n",
       "         270.48248 ,  277.0424  ,  246.1814  ,  277.59744 ,  422.49796 ,\n",
       "         670.37146 ,  365.3339  ,  264.59128 ,  301.45306 ,  140.30498 ,\n",
       "         247.62563 ,  214.72711 ,  219.79033 ,  149.00746 ,  224.57516 ,\n",
       "         205.82986 ,  176.17688 ,  127.849846,  243.21307 ,  492.61002 ,\n",
       "         641.8963  ,  817.21857 ,  797.75494 ,  762.458   ,  747.091   ,\n",
       "         648.2731  ,  520.4154  ,  506.9234  ,  631.8675  ,  748.6239  ,\n",
       "         739.6558  ,  772.4514  ,  759.062   ,  378.76382 ,  233.7942  ,\n",
       "         215.82678 ,  251.2589  ,  327.75958 ,  226.58885 ,  166.86424 ,\n",
       "         253.17796 ,  351.51514 ,  635.9302  ,  814.40845 ,  965.99854 ,\n",
       "        1088.8749  ,  891.90186 ,  545.63806 ,  387.67276 ,  232.72197 ,\n",
       "         295.51636 ,  327.24402 ,  519.6812  ,  625.6296  ,  831.2969  ,\n",
       "         733.0928  ,  731.0025  ,  634.3001  ,  526.8855  ,  365.59943 ,\n",
       "         467.00653 ,  339.67667 ,  359.3654  ,  440.73114 ,  509.23798 ,\n",
       "         314.2462  ,  142.59357 ,  352.2376  ,  163.78148 ,  376.65457 ,\n",
       "         478.31308 ,  482.97086 ,  538.70856 ,  806.60455 ,  722.48364 ,\n",
       "         598.40015 ,  209.7784  ,  202.45883 ,  424.70233 ,  432.8261  ,\n",
       "         594.9279  ,  452.63568 ,  480.7172  ,  578.2489  , 1263.028   ,\n",
       "        1750.376   , 2235.601   , 2083.34    , 2162.049   , 2171.1948  ,\n",
       "        2356.8096  , 1139.7576  ,  583.97455 ,  484.34018 ,  500.62866 ,\n",
       "         699.8791  ,  611.76666 ,  682.8689  ,  463.83994 ,  412.43484 ,\n",
       "         393.40952 ,  542.34503 ,  468.46216 ,  212.9275  ,  336.17365 ,\n",
       "         329.21295 ,  379.7651  ,  389.88675 ,  829.53625 ,  887.5736  ,\n",
       "         645.5235  ,  561.85846 ,  300.42334 ,  486.4174  ,  264.21536 ,\n",
       "         399.05896 ,  331.42728 ,  283.31342 ,  375.39102 ,  267.85114 ,\n",
       "         176.24179 ,  350.551   ,  337.7379  ,  402.26917 ,  326.3403  ,\n",
       "         506.45526 ,  405.68628 ,  360.78796 ,  357.1765  ,  372.8918  ,\n",
       "         589.955   ,  751.60114 , 1000.4906  ,  875.5771  ,  979.7172  ,\n",
       "        1182.3722  , 1203.2942  , 1254.9591  , 1290.9951  ,  753.8195  ,\n",
       "         579.50116 ,  671.81226 ,  613.17255 ,  611.42316 ,  572.118   ,\n",
       "         640.38794 ,  522.5799  ,  612.23206 ,  806.4273  ,  702.07947 ,\n",
       "         352.9954  ,  828.6277  , 1019.73157 ,  641.3179  ,  157.37587 ,\n",
       "         257.14984 ,  322.20798 ,  340.29358 ,  312.9279  ,  448.59854 ,\n",
       "         386.5849  ,  217.2383  ,  336.64948 ,  373.02774 ,  494.70908 ,\n",
       "         836.29803 , 1081.6704  , 1007.7428  ,  752.3243  ,  632.38574 ,\n",
       "         371.87747 ,  491.74435 ,  145.5299  ,  171.02734 ,  195.26704 ,\n",
       "         224.34004 ,  283.76944 ,  304.62494 ,  320.2652  ,  180.49744 ,\n",
       "         251.30396 ,  285.0829  ,  238.45927 ,  259.93204 ,  187.82774 ,\n",
       "         193.44292 ,  176.74059 ,  261.18787 ,  269.31226 ,  282.70413 ,\n",
       "         286.45364 ,  432.84488 ,  351.28726 ,  188.77792 ,  317.44666 ,\n",
       "         132.27182 ,  138.72037 ,  226.97025 ,  292.71762 ,  309.7531  ,\n",
       "         281.1027  ,  246.9505  ,  253.11122 ,  334.13644 ,  423.50424 ,\n",
       "         333.7325  ,  448.67154 ,  267.20663 ,  264.7017  ,   84.1168  ,\n",
       "         153.3541  ,  152.90526 ,  231.7977  ,  191.57726 ,  160.32457 ,\n",
       "         138.95848 ,  268.34314 ,  408.9556  ,  456.02115 ,  529.4853  ,\n",
       "         596.33215 , 1020.426   , 1165.7692  , 1293.337   , 1340.1083  ,\n",
       "        1522.3942  , 1682.2744  , 1607.0533  ,  829.81384 ,  511.72726 ,\n",
       "         403.38593 ,  401.8392  ,  465.38004 ,  207.4895  ,  354.81964 ,\n",
       "         384.1921  ,  545.3147  ,  283.54114 ,  162.18033 ,  214.72052 ,\n",
       "         196.39825 ,  257.2641  ,  326.48566 ,  582.6469  ,  587.34125 ,\n",
       "         504.6044  ,  388.79645 ,  389.59006 ,  353.45575 ,  193.06041 ,\n",
       "         315.0623  ,  248.22977 ,  218.12013 ,  311.24866 ,  216.88597 ,\n",
       "         214.86954 ,  161.3659  ,  409.27435 ,  550.4617  ,  567.87024 ,\n",
       "         556.7653  ,  697.879   ,  780.4729  ,  931.2757  , 1250.0544  ,\n",
       "        1079.8226  ,  588.69366 ,  279.4465  ,  437.76498 ,  519.3235  ,\n",
       "         427.1251  ,  606.77423 ,  699.10223 ,  738.5729  ,  751.4044  ,\n",
       "         750.1658  ,  766.1217  ,  594.5025  ,  325.41858 ,  252.39548 ,\n",
       "         284.63867 ,  231.05754 ,  319.99902 ,  216.29445 ,  339.23657 ,\n",
       "         435.24487 ,  632.3167  ,  454.78842 ,  276.9859  ,  211.99121 ,\n",
       "         199.41382 ,  137.18233 ,  158.91086 ,  194.3048  ,  231.38986 ,\n",
       "         395.59317 ,  555.716   ,  650.0636  ,  764.1968  ,  893.9226  ,\n",
       "         993.3277  ,  913.9713  ,  814.02466 ,  475.21857 ,  340.8069  ,\n",
       "         181.0715  ,  282.1374  ,  737.12683 , 1023.96436 , 1211.6614  ,\n",
       "        1493.5728  , 1608.7632  , 1558.0966  , 1562.965   ,  799.72986 ,\n",
       "         422.12027 ,  453.9728  ,  548.1425  ,  630.5322  ,  655.9362  ,\n",
       "         295.64047 ,  471.22684 ,  919.3707  , 1197.2332  , 1212.9191  ,\n",
       "        1322.4845  , 1622.0983  , 1632.325   , 1594.9868  ,  835.316   ,\n",
       "         593.59576 ,  799.96375 ,  621.31573 , 1003.0373  , 1371.1317  ,\n",
       "        1403.921   , 1261.9955  , 1516.3435  , 1850.8973  , 2373.708   ,\n",
       "        2021.3622  , 1499.8314  , 1017.7029  ,  908.4275  ,  757.0583  ,\n",
       "         877.95447 ,  995.1943  ,  986.49225 , 1036.2026  ,  903.8685  ,\n",
       "        1151.442   , 1899.398   , 1913.7766  , 1833.2339  ,  704.11676 ,\n",
       "         460.49823 ,  398.18774 ,  496.54385 ,  487.15042 ,  378.38907 ,\n",
       "         371.9037  ,  365.93478 ,  504.89313 , 1308.4116  , 2441.3389  ,\n",
       "        3440.7678  , 3769.737   , 4039.1738  , 4129.974   , 4123.132   ,\n",
       "        2947.87    , 1535.8973  , 1095.0402  , 1193.9801  , 1567.1156  ,\n",
       "        2061.2234  , 2505.3113  , 3511.9443  , 3942.1045  , 3863.4014  ,\n",
       "        3580.7893  , 3841.746   , 3946.762   , 4622.4805  , 4657.718   ,\n",
       "        5652.9243  , 6636.208   , 5985.476   , 5216.888   , 5810.697   ,\n",
       "        4612.463   , 3416.7659  , 2810.4094  , 4050.4502  , 4947.621   ,\n",
       "        4318.5117  , 1351.527   , 1969.3971  , 1191.9207  , 2519.1965  ,\n",
       "        3043.4983  , 3213.6453  , 3348.6494  , 2847.4668  , 3239.0098  ,\n",
       "        3203.9966  ,  925.10315 , 1506.9746  , 1914.2332  , 1820.0444  ,\n",
       "        1919.9758  , 3105.6553  , 4573.5186  , 4448.151   , 3531.5474  ,\n",
       "        3844.6553  , 4477.481   , 6499.3833  , 7424.4478  , 6668.5215  ,\n",
       "        6739.267   , 7740.1885  , 7411.4067  , 9126.35    , 5884.969   ,\n",
       "        2344.8596  , 2987.904   , 2628.8     , 3781.0693  , 4021.82    ,\n",
       "        4861.628   , 4491.253   , 5137.466   , 3475.0571  , 3661.1443  ,\n",
       "        5867.0747  , 6884.1196  , 9330.05    , 8141.5806  , 4195.8906  ,\n",
       "        2698.2053  , 2038.176   , 2301.6394  , 3601.4426  , 5154.312   ,\n",
       "        4481.967   , 4230.0146  , 4807.87    , 5853.397   , 7172.1914  ,\n",
       "        8316.636   , 8268.632   , 7251.1826  , 5855.931   , 3834.1448  ,\n",
       "        2843.9136  , 2991.5386  , 1189.7388  , 1737.9503  , 2167.4202  ,\n",
       "        2294.5002  , 2864.2422  , 3864.306   , 4682.5454  , 4123.2734  ,\n",
       "        3841.9219  , 1731.5043  , 2558.0947  , 4685.237   , 5870.5615  ,\n",
       "        6150.354   , 3796.6113  , 4166.1465  , 3247.547   , 2204.8267  ,\n",
       "        1205.2257  , 1187.8628  ,  994.1197  , 1420.2064  , 1481.4575  ,\n",
       "        1849.1838  , 2706.618   , 4567.2905  , 5368.8555  , 5448.653   ,\n",
       "        4357.151   , 4012.4385  , 3624.8457  , 3487.2566  , 5240.552   ,\n",
       "        6408.147   , 7678.414   , 7074.428   , 5440.665   , 3610.4968  ,\n",
       "        3419.5552  , 2197.7717  , 2325.5981  , 4070.9573  , 5708.5054  ,\n",
       "        7595.9453  , 5192.2207  , 3176.9136  , 3109.0837  , 3817.5361  ,\n",
       "        2717.901   , 1601.5834  , 2252.435   , 2259.5764  , 3876.574   ,\n",
       "        2914.0178  , 3298.24    , 3864.1162  , 5730.24    , 6912.8457  ,\n",
       "        7720.0894  ], dtype=float32),\n",
       " 'MAPE': array([ 3.352134  ,  1.80785   ,  1.8747538 ,  1.9693027 ,  2.9034886 ,\n",
       "         3.5674136 ,  3.5481439 ,  3.1074324 ,  4.6876006 ,  5.7166996 ,\n",
       "         7.45286   ,  7.495497  ,  7.876085  ,  8.390741  ,  5.2327404 ,\n",
       "         2.6889222 ,  2.7408073 ,  5.3286333 ,  5.8540263 ,  6.2534137 ,\n",
       "         3.137537  ,  2.2425792 ,  1.7335378 ,  2.1685872 ,  1.9855555 ,\n",
       "         2.5418975 ,  3.5605536 ,  3.496686  ,  3.0097675 ,  1.158588  ,\n",
       "         1.8164899 ,  2.2988539 ,  1.7170025 ,  2.5873086 ,  2.8694203 ,\n",
       "         2.948651  ,  2.7534072 ,  3.1310744 ,  3.2683384 ,  5.561717  ,\n",
       "         9.037623  ,  4.973543  ,  3.5021753 ,  4.120312  ,  1.7467588 ,\n",
       "         3.1084063 ,  2.6474593 ,  2.445472  ,  1.8194616 ,  2.9729056 ,\n",
       "         2.2521274 ,  2.0524318 ,  1.6072314 ,  2.6225772 ,  5.2961216 ,\n",
       "         6.714689  ,  9.838423  ,  9.495162  ,  8.981423  ,  9.116142  ,\n",
       "         7.8951263 ,  5.1955357 ,  4.452925  ,  6.2002945 ,  7.638943  ,\n",
       "         7.736638  ,  8.253691  ,  8.520584  ,  3.9854307 ,  2.1818485 ,\n",
       "         1.9004107 ,  2.4824936 ,  3.274683  ,  2.3758776 ,  1.738036  ,\n",
       "         2.5736408 ,  2.925149  ,  5.5630937 ,  7.6100945 ,  9.901419  ,\n",
       "        11.517815  ,  9.449574  ,  5.6709843 ,  3.8296275 ,  2.0428593 ,\n",
       "         2.6922069 ,  2.7013416 ,  4.5349402 ,  5.701036  ,  8.22281   ,\n",
       "         6.905754  ,  6.8413153 ,  6.127973  ,  4.686152  ,  2.9187794 ,\n",
       "         4.079538  ,  3.0480669 ,  2.9593685 ,  4.0121255 ,  4.867626  ,\n",
       "         2.8811119 ,  1.0161877 ,  2.5418591 ,  1.1297007 ,  2.7704573 ,\n",
       "         4.3895235 ,  4.8417554 ,  5.5118995 ,  8.163559  ,  7.6103644 ,\n",
       "         6.6187716 ,  2.1177046 ,  2.0204344 ,  4.1345835 ,  4.445577  ,\n",
       "         6.4039564 ,  4.736061  ,  5.229336  ,  6.8428903 , 12.959162  ,\n",
       "        21.3677    , 31.162304  , 29.999456  , 34.212334  , 37.50435   ,\n",
       "        43.586575  , 20.311514  , 10.0213375 ,  6.91338   ,  7.3859797 ,\n",
       "         9.288061  ,  7.810687  ,  9.811421  ,  6.1754    ,  5.373399  ,\n",
       "         5.1881504 ,  7.5169826 ,  6.285021  ,  2.4858198 ,  3.9238107 ,\n",
       "         3.8603888 ,  4.9332285 ,  5.1935163 , 11.629878  , 12.506655  ,\n",
       "         8.671077  ,  7.6844506 ,  3.3552885 ,  5.823982  ,  2.976574  ,\n",
       "         4.9340744 ,  4.0785937 ,  3.6011815 ,  4.976573  ,  3.1777859 ,\n",
       "         2.2061725 ,  4.2177033 ,  4.1919823 ,  4.78905   ,  3.9246552 ,\n",
       "         6.694394  ,  4.6572638 ,  4.152149  ,  3.9008968 ,  4.398859  ,\n",
       "         7.162737  ,  9.485686  , 11.390913  ,  8.639167  ,  9.43391   ,\n",
       "        11.868322  , 12.345698  , 13.5323305 , 14.5180435 ,  7.9991603 ,\n",
       "         5.0763083 ,  5.5311537 ,  4.5448937 ,  5.0801287 ,  5.0496807 ,\n",
       "         5.5585713 ,  5.180041  ,  5.699256  ,  7.9525576 ,  6.72234   ,\n",
       "         3.6340594 ,  8.1761675 , 10.418372  ,  6.551265  ,  1.3973404 ,\n",
       "         2.3881145 ,  2.8366604 ,  3.3019435 ,  2.9509532 ,  4.576748  ,\n",
       "         3.9589264 ,  1.8235184 ,  2.4802787 ,  3.0077152 ,  4.5349336 ,\n",
       "         7.6797643 , 10.454284  ,  9.965481  ,  7.2873235 ,  5.26007   ,\n",
       "         3.0037384 ,  4.005821  ,  1.1991811 ,  1.5541013 ,  1.6996678 ,\n",
       "         1.51516   ,  2.68232   ,  2.6950336 ,  3.0885246 ,  1.5912354 ,\n",
       "         2.2959945 ,  2.6816895 ,  2.1785033 ,  2.5484333 ,  1.5778625 ,\n",
       "         1.883024  ,  1.6796212 ,  2.1179464 ,  1.9961503 ,  2.5152054 ,\n",
       "         2.5660477 ,  4.2368727 ,  2.7911801 ,  1.6241057 ,  3.310714  ,\n",
       "         1.2394414 ,  1.3934392 ,  1.8853376 ,  3.1427755 ,  3.0327702 ,\n",
       "         2.9600213 ,  2.5135152 ,  2.3865771 ,  3.0095453 ,  4.2215357 ,\n",
       "         3.523102  ,  4.697751  ,  2.7704175 ,  2.4929588 ,  0.75556606,\n",
       "         1.4230448 ,  1.4550129 ,  2.2565181 ,  1.9574547 ,  1.5272917 ,\n",
       "         1.3069355 ,  2.4839628 ,  3.9259024 ,  4.3892865 ,  5.1666203 ,\n",
       "         5.8345237 ,  8.543167  ,  9.2027445 ,  9.884751  , 10.579532  ,\n",
       "        12.564518  , 14.30981   , 13.989642  ,  6.9980726 ,  4.1980066 ,\n",
       "         2.6278696 ,  2.8692937 ,  3.2635183 ,  1.5918947 ,  2.6629229 ,\n",
       "         3.061765  ,  4.268793  ,  2.0972345 ,  1.2379732 ,  1.3607242 ,\n",
       "         1.632124  ,  1.8403081 ,  2.2354035 ,  4.4918933 ,  4.325227  ,\n",
       "         3.8975847 ,  2.46274   ,  2.5396054 ,  1.9238807 ,  1.4552424 ,\n",
       "         2.3614547 ,  1.7700745 ,  1.4051352 ,  2.0508044 ,  1.5241901 ,\n",
       "         1.521174  ,  0.8742909 ,  3.157919  ,  3.9305832 ,  4.5946155 ,\n",
       "         4.6483355 ,  5.6229568 ,  6.553667  ,  7.9231977 , 11.147446  ,\n",
       "        10.19769   ,  5.3368645 ,  2.4263823 ,  3.8735397 ,  4.6660604 ,\n",
       "         3.6014047 ,  5.495115  ,  5.9437966 ,  6.3743687 ,  6.307243  ,\n",
       "         6.553446  ,  6.8700595 ,  5.1779613 ,  2.5428782 ,  1.8616282 ,\n",
       "         2.216304  ,  1.8812705 ,  2.3503597 ,  1.6290275 ,  3.0020247 ,\n",
       "         3.6233914 ,  5.7611327 ,  4.117346  ,  2.1646938 ,  1.6201241 ,\n",
       "         1.5661025 ,  0.9401669 ,  1.2225302 ,  1.2662003 ,  1.9827087 ,\n",
       "         3.270413  ,  4.5324364 ,  5.013509  ,  5.8585505 ,  7.323499  ,\n",
       "         8.453211  ,  7.8695335 ,  6.9541836 ,  3.9041786 ,  2.8018143 ,\n",
       "         1.4496739 ,  1.9884325 ,  4.0346885 ,  5.6940174 ,  7.7237024 ,\n",
       "        10.518798  , 11.74443   , 11.5941305 , 11.735734  ,  5.703036  ,\n",
       "         2.6116693 ,  3.0191724 ,  3.2866943 ,  4.265546  ,  4.592688  ,\n",
       "         1.8442936 ,  3.2222786 ,  5.070069  ,  6.1701956 ,  6.2613907 ,\n",
       "         7.3658385 , 10.007366  , 10.312441  , 10.214654  ,  4.3108897 ,\n",
       "         3.1756587 ,  4.462934  ,  3.2489731 ,  5.8652477 ,  7.546304  ,\n",
       "         7.184682  ,  5.6807666 ,  7.039003  ,  9.105463  , 12.578813  ,\n",
       "        10.84648   ,  7.805346  ,  5.1874084 ,  4.753376  ,  3.4922416 ,\n",
       "         3.8596132 ,  4.485826  ,  4.6399345 ,  4.792897  ,  4.5614133 ,\n",
       "         5.3804545 ,  9.184809  ,  9.828408  ,  9.400166  ,  3.2642975 ,\n",
       "         2.1462245 ,  1.6430501 ,  2.19584   ,  2.3777146 ,  1.5797827 ,\n",
       "         1.6790344 ,  1.56882   ,  2.1984053 ,  5.1469226 ,  9.327563  ,\n",
       "        14.1763    , 14.680026  , 15.872661  , 16.789886  , 17.582592  ,\n",
       "        12.477711  ,  6.3351383 ,  3.9343681 ,  3.1458788 ,  4.4452057 ,\n",
       "         6.2267356 ,  7.999672  , 11.94042   , 13.584402  , 13.123998  ,\n",
       "        10.251401  , 10.202153  , 10.997913  , 13.132648  , 11.862511  ,\n",
       "        13.095336  , 15.48667   , 12.665482  , 12.102226  , 13.660225  ,\n",
       "        10.105921  ,  7.8546667 ,  6.5102806 ,  9.5704365 , 12.944982  ,\n",
       "        11.594077  ,  3.4485996 ,  4.5417776 ,  2.266537  ,  5.993977  ,\n",
       "         7.1810827 ,  7.508115  ,  7.7713475 ,  8.18643   ,  9.03397   ,\n",
       "         9.567932  ,  2.157641  ,  3.725522  ,  4.904739  ,  4.216487  ,\n",
       "         5.1682215 ,  8.214202  , 12.498863  , 11.396321  ,  8.185697  ,\n",
       "         8.383704  , 10.7050905 , 14.781306  , 15.130077  , 12.4811325 ,\n",
       "        12.685768  , 14.9263115 , 14.683485  , 19.254988  , 12.040069  ,\n",
       "         4.170452  ,  5.4188747 ,  3.9623964 ,  4.917193  ,  6.000892  ,\n",
       "         6.996911  ,  7.1154847 ,  8.557484  ,  5.739265  ,  6.480078  ,\n",
       "         9.847891  , 12.79793   , 18.737768  , 16.978527  ,  7.8722196 ,\n",
       "         4.055954  ,  3.4611793 ,  4.3170953 ,  6.604238  , 10.1742115 ,\n",
       "         8.373018  ,  7.4414163 ,  6.801922  ,  9.190333  , 11.855907  ,\n",
       "        13.472933  , 13.125316  , 11.867668  ,  9.846148  ,  5.8578024 ,\n",
       "         4.059964  ,  4.405983  ,  1.670208  ,  2.6937034 ,  2.5749567 ,\n",
       "         3.5972693 ,  4.350384  ,  5.994362  ,  7.3339915 ,  6.922481  ,\n",
       "         6.529538  ,  2.8824544 ,  3.9887156 ,  7.291352  ,  9.951535  ,\n",
       "        10.33854   ,  6.0779963 ,  7.08613   ,  5.3585114 ,  3.5552735 ,\n",
       "         1.8441409 ,  1.5665892 ,  1.3006757 ,  2.2321086 ,  2.0258796 ,\n",
       "         2.6926885 ,  3.461647  ,  6.8160453 ,  7.9450207 ,  8.300916  ,\n",
       "         6.5331163 ,  6.0866838 ,  5.632611  ,  5.35003   ,  7.6307936 ,\n",
       "        10.04599   , 12.859493  , 12.322104  ,  8.905384  ,  6.509444  ,\n",
       "         5.5754533 ,  3.6724231 ,  3.7617233 ,  7.0377374 ,  9.197195  ,\n",
       "        13.346538  ,  8.967809  ,  4.76904   ,  4.5850816 ,  6.363728  ,\n",
       "         4.605105  ,  2.2204006 ,  3.5869942 ,  2.979135  ,  6.3726387 ,\n",
       "         4.662038  ,  5.221657  ,  5.9892197 ,  9.198905  , 11.629848  ,\n",
       "        14.485881  ], dtype=float32),\n",
       " 'MASE': 2.4068549}"
      ]
     },
     "execution_count": 98,
     "metadata": {},
     "output_type": "execute_result"
    }
   ],
   "source": [
    "# make prediction and evaluate it...\n",
    "model_3_pred = make_preds(model_3,test_windows)\n",
    "model_3_results = evaluate_preds(tf.squeeze(test_labels),model_3_pred)\n",
    "model_3_results"
   ]
  },
  {
   "cell_type": "code",
   "execution_count": 101,
   "id": "410aa4dc",
   "metadata": {},
   "outputs": [],
   "source": [
    "# let's fix our evaluate pred function....\n",
    "def evaluate_preds(y_true,y_pred):\n",
    "#     make sure they're in float 32\n",
    "    import tensorflow as tf\n",
    "    y_true = tf.cast(y_true,dtype=tf.float32)\n",
    "    y_pred = tf.cast(y_pred,dtype=tf.float32)\n",
    "    \n",
    "    \n",
    "#     calculate various metrics....\n",
    "    mae = tf.keras.metrics.mean_absolute_error(y_true,y_pred)\n",
    "    mse = tf.keras.metrics.mean_squared_error(y_true,y_pred)\n",
    "    rmse = tf.sqrt(mse)\n",
    "    mape = tf.keras.metrics.mean_absolute_percentage_error(y_true,y_pred)\n",
    "    mase = mean_absolute_scaled_error(y_true,y_pred)\n",
    "    if mae.ndim> 0 :\n",
    "        mae = tf.reduce_mean(mae)\n",
    "        mse = tf.reduce_mean(mse)\n",
    "        rmse = tf.reduce_mean(rmse)\n",
    "        mape = tf.reduce_mean(mape)\n",
    "        mase = tf.reduce_mean(mase)\n",
    "    \n",
    "    results = {\n",
    "        \"MAE\" : mae.numpy(),\n",
    "        \"MSE\" : mse.numpy(),\n",
    "        \"RMSE\" : rmse.numpy(),\n",
    "        \"MAPE\" : mape.numpy(),\n",
    "        \"MASE\" : mase.numpy(),\n",
    "    }\n",
    "    return results"
   ]
  },
  {
   "cell_type": "code",
   "execution_count": 102,
   "id": "c0d3e0ce",
   "metadata": {},
   "outputs": [
    {
     "name": "stdout",
     "output_type": "stream",
     "text": [
      "18/18 [==============================] - 0s 2ms/step\n"
     ]
    },
    {
     "data": {
      "text/plain": [
       "{'MAE': 1352.5883,\n",
       " 'MSE': 5807919.0,\n",
       " 'RMSE': 1525.365,\n",
       " 'MAPE': 6.0054183,\n",
       " 'MASE': 2.4068549}"
      ]
     },
     "execution_count": 102,
     "metadata": {},
     "output_type": "execute_result"
    }
   ],
   "source": [
    "# let's evaluate results again for model 3\n",
    "model_3_pred = make_preds(model_3,test_windows)\n",
    "model_3_results = evaluate_preds(tf.squeeze(test_labels),model_3_pred)\n",
    "model_3_results"
   ]
  },
  {
   "cell_type": "code",
   "execution_count": 105,
   "id": "0b6d3b4f",
   "metadata": {},
   "outputs": [
    {
     "data": {
      "text/plain": [
       "<AxesSubplot:>"
      ]
     },
     "execution_count": 105,
     "metadata": {},
     "output_type": "execute_result"
    },
    {
     "data": {
      "image/png": "[encoded data removed]",
      "text/plain": [
       "<Figure size 720x576 with 1 Axes>"
      ]
     },
     "metadata": {
      "needs_background": "light"
     },
     "output_type": "display_data"
    }
   ],
   "source": [
    "# compare the performance of above models..\n",
    "pd.DataFrame({\n",
    "    \"naive\" : naive_results[\"MAE\"],\n",
    "    \"model_1\" : model_1_results[\"MAE\"],\n",
    "    \"model_2\" : model_2_results[\"MAE\"],\n",
    "    \"model_3\" : model_3_results[\"MAE\"]\n",
    "},index=[\"mae\"]).plot(kind=\"bar\",figsize=(10,8))"
   ]
  },
  {
   "cell_type": "code",
   "execution_count": 104,
   "id": "17c8b454",
   "metadata": {},
   "outputs": [
    {
     "data": {
      "text/plain": [
       "{'MAE': 567.9803,\n",
       " 'MSE': 1147547.1,\n",
       " 'RMSE': 1071.2362,\n",
       " 'MAPE': 2.516525,\n",
       " 'MASE': 0.99957013}"
      ]
     },
     "execution_count": 104,
     "metadata": {},
     "output_type": "execute_result"
    }
   ],
   "source": [
    "naive_results"
   ]
  },
  {
   "cell_type": "markdown",
   "id": "c782d3d7",
   "metadata": {},
   "source": [
    "## Model 4 : Cov1D"
   ]
  },
  {
   "cell_type": "code",
   "execution_count": 109,
   "id": "8bf69865",
   "metadata": {},
   "outputs": [
    {
     "data": {
      "text/plain": [
       "(2224, 2224, 556, 556)"
      ]
     },
     "execution_count": 109,
     "metadata": {},
     "output_type": "execute_result"
    }
   ],
   "source": [
    "HORIZON = 1\n",
    "WINDOW = 7\n",
    "\n",
    "# make set..\n",
    "full_windows , full_labels= make_windows(prices,WINDOW,HORIZON)\n",
    "\n",
    "# make train test split...\n",
    "train_windows,test_windows,train_labels,test_labels = train_test_split(full_windows,full_labels)\n",
    "\n",
    "len(train_windows),len(train_labels),len(test_windows),len(test_labels)"
   ]
  },
  {
   "cell_type": "code",
   "execution_count": 116,
   "id": "83abafab",
   "metadata": {},
   "outputs": [
    {
     "name": "stdout",
     "output_type": "stream",
     "text": [
      "Model Saving to : model_experiments/model_4_conv1D/202208230011\n",
      "Epoch 1/100\n",
      "18/18 [==============================] - ETA: 0s - loss: 1207.3810"
     ]
    },
    {
     "name": "stderr",
     "output_type": "stream",
     "text": [
      "2022-08-23 00:11:23.988263: I tensorflow/core/grappler/optimizers/custom_graph_optimizer_registry.cc:113] Plugin optimizer for device_type GPU is enabled.\n"
     ]
    },
    {
     "name": "stdout",
     "output_type": "stream",
     "text": [
      "18/18 [==============================] - 1s 12ms/step - loss: 1207.3810 - val_loss: 2320.6165\n",
      "Epoch 2/100\n",
      "18/18 [==============================] - 0s 6ms/step - loss: 316.2166 - val_loss: 1467.2767\n",
      "Epoch 3/100\n",
      " 1/18 [>.............................] - ETA: 0s - loss: 191.0233"
     ]
    },
    {
     "name": "stderr",
     "output_type": "stream",
     "text": [
      "2022-08-23 00:11:24.237183: I tensorflow/core/grappler/optimizers/custom_graph_optimizer_registry.cc:113] Plugin optimizer for device_type GPU is enabled.\n"
     ]
    },
    {
     "name": "stdout",
     "output_type": "stream",
     "text": [
      "18/18 [==============================] - 0s 6ms/step - loss: 192.6852 - val_loss: 1164.7059\n",
      "Epoch 4/100\n",
      "18/18 [==============================] - 0s 6ms/step - loss: 177.3535 - val_loss: 981.6692\n",
      "Epoch 5/100\n",
      "18/18 [==============================] - 0s 6ms/step - loss: 172.3467 - val_loss: 960.8710\n",
      "Epoch 6/100\n",
      "18/18 [==============================] - 0s 6ms/step - loss: 171.9754 - val_loss: 950.2028\n",
      "Epoch 7/100\n",
      "18/18 [==============================] - 0s 6ms/step - loss: 167.1944 - val_loss: 943.2868\n",
      "Epoch 8/100\n",
      "18/18 [==============================] - 0s 6ms/step - loss: 163.5991 - val_loss: 905.5265\n",
      "Epoch 9/100\n",
      "18/18 [==============================] - 0s 6ms/step - loss: 162.5456 - val_loss: 929.7604\n",
      "Epoch 10/100\n",
      "18/18 [==============================] - 0s 6ms/step - loss: 158.5780 - val_loss: 871.9780\n",
      "Epoch 11/100\n",
      "18/18 [==============================] - 0s 6ms/step - loss: 154.0058 - val_loss: 852.7122\n",
      "Epoch 12/100\n",
      "18/18 [==============================] - 0s 6ms/step - loss: 151.2621 - val_loss: 944.1960\n",
      "Epoch 13/100\n",
      "18/18 [==============================] - 0s 6ms/step - loss: 150.2689 - val_loss: 881.1820\n",
      "Epoch 14/100\n",
      "18/18 [==============================] - 0s 6ms/step - loss: 145.4594 - val_loss: 849.1817\n",
      "Epoch 15/100\n",
      "18/18 [==============================] - 0s 6ms/step - loss: 143.3641 - val_loss: 844.4005\n",
      "Epoch 16/100\n",
      "18/18 [==============================] - 0s 6ms/step - loss: 139.8765 - val_loss: 806.7262\n",
      "Epoch 17/100\n",
      "18/18 [==============================] - 0s 6ms/step - loss: 138.1678 - val_loss: 812.6342\n",
      "Epoch 18/100\n",
      "18/18 [==============================] - 0s 6ms/step - loss: 137.9498 - val_loss: 775.2104\n",
      "Epoch 19/100\n",
      "18/18 [==============================] - 0s 6ms/step - loss: 131.1451 - val_loss: 755.4266\n",
      "Epoch 20/100\n",
      "18/18 [==============================] - 0s 6ms/step - loss: 132.4058 - val_loss: 712.2023\n",
      "Epoch 21/100\n",
      "18/18 [==============================] - 0s 6ms/step - loss: 131.0830 - val_loss: 707.4131\n",
      "Epoch 22/100\n",
      "18/18 [==============================] - 0s 6ms/step - loss: 126.9513 - val_loss: 692.9747\n",
      "Epoch 23/100\n",
      "18/18 [==============================] - 0s 6ms/step - loss: 125.1490 - val_loss: 682.4762\n",
      "Epoch 24/100\n",
      "18/18 [==============================] - 0s 6ms/step - loss: 124.3787 - val_loss: 670.8329\n",
      "Epoch 25/100\n",
      "18/18 [==============================] - 0s 6ms/step - loss: 121.6897 - val_loss: 662.6091\n",
      "Epoch 26/100\n",
      "18/18 [==============================] - 0s 6ms/step - loss: 121.5707 - val_loss: 654.6099\n",
      "Epoch 27/100\n",
      "18/18 [==============================] - 0s 6ms/step - loss: 122.6446 - val_loss: 650.9069\n",
      "Epoch 28/100\n",
      "18/18 [==============================] - 0s 6ms/step - loss: 117.9562 - val_loss: 645.4821\n",
      "Epoch 29/100\n",
      "18/18 [==============================] - 0s 7ms/step - loss: 117.1769 - val_loss: 639.9761\n",
      "Epoch 30/100\n",
      "18/18 [==============================] - 0s 6ms/step - loss: 121.0468 - val_loss: 630.7957\n",
      "Epoch 31/100\n",
      "18/18 [==============================] - 0s 6ms/step - loss: 114.9062 - val_loss: 652.6477\n",
      "Epoch 32/100\n",
      "18/18 [==============================] - 0s 7ms/step - loss: 116.4313 - val_loss: 623.4990\n",
      "Epoch 33/100\n",
      "18/18 [==============================] - 0s 7ms/step - loss: 115.7972 - val_loss: 664.3226\n",
      "Epoch 34/100\n",
      "18/18 [==============================] - 0s 7ms/step - loss: 117.2044 - val_loss: 613.7659\n",
      "Epoch 35/100\n",
      "18/18 [==============================] - 0s 7ms/step - loss: 113.4075 - val_loss: 619.6224\n",
      "Epoch 36/100\n",
      "18/18 [==============================] - 0s 7ms/step - loss: 116.8331 - val_loss: 605.7623\n",
      "Epoch 37/100\n",
      "18/18 [==============================] - 0s 7ms/step - loss: 114.7925 - val_loss: 603.6099\n",
      "Epoch 38/100\n",
      "18/18 [==============================] - 0s 7ms/step - loss: 113.0862 - val_loss: 602.5892\n",
      "Epoch 39/100\n",
      "18/18 [==============================] - 0s 7ms/step - loss: 111.9832 - val_loss: 602.2955\n",
      "Epoch 40/100\n",
      "18/18 [==============================] - 0s 7ms/step - loss: 111.2691 - val_loss: 600.5513\n",
      "Epoch 41/100\n",
      "18/18 [==============================] - 0s 7ms/step - loss: 112.0727 - val_loss: 623.0606\n",
      "Epoch 42/100\n",
      "18/18 [==============================] - 0s 7ms/step - loss: 116.7095 - val_loss: 645.0172\n",
      "Epoch 43/100\n",
      "18/18 [==============================] - 0s 7ms/step - loss: 118.9676 - val_loss: 659.5649\n",
      "Epoch 44/100\n",
      "18/18 [==============================] - 0s 7ms/step - loss: 125.4496 - val_loss: 678.8209\n",
      "Epoch 45/100\n",
      "18/18 [==============================] - 0s 7ms/step - loss: 115.4361 - val_loss: 611.8386\n",
      "Epoch 46/100\n",
      "18/18 [==============================] - 0s 6ms/step - loss: 114.1717 - val_loss: 589.6745\n",
      "Epoch 47/100\n",
      "18/18 [==============================] - 0s 6ms/step - loss: 113.7249 - val_loss: 720.2498\n",
      "Epoch 48/100\n",
      "18/18 [==============================] - 0s 6ms/step - loss: 112.0137 - val_loss: 597.4344\n",
      "Epoch 49/100\n",
      "18/18 [==============================] - 0s 6ms/step - loss: 110.5681 - val_loss: 665.2043\n",
      "Epoch 50/100\n",
      "18/18 [==============================] - 0s 6ms/step - loss: 119.7653 - val_loss: 635.1710\n",
      "Epoch 51/100\n",
      "18/18 [==============================] - 0s 6ms/step - loss: 110.7740 - val_loss: 586.0251\n",
      "Epoch 52/100\n",
      "18/18 [==============================] - 0s 6ms/step - loss: 111.2179 - val_loss: 595.2480\n",
      "Epoch 53/100\n",
      "18/18 [==============================] - 0s 6ms/step - loss: 113.6466 - val_loss: 670.5794\n",
      "Epoch 54/100\n",
      "18/18 [==============================] - 0s 7ms/step - loss: 126.7883 - val_loss: 648.2985\n",
      "Epoch 55/100\n",
      "18/18 [==============================] - 0s 6ms/step - loss: 110.6969 - val_loss: 593.8552\n",
      "Epoch 56/100\n",
      "18/18 [==============================] - 0s 6ms/step - loss: 109.8592 - val_loss: 766.4988\n",
      "Epoch 57/100\n",
      "18/18 [==============================] - 0s 6ms/step - loss: 124.8183 - val_loss: 712.2655\n",
      "Epoch 58/100\n",
      "18/18 [==============================] - 0s 6ms/step - loss: 120.3515 - val_loss: 698.5137\n",
      "Epoch 59/100\n",
      "18/18 [==============================] - 0s 6ms/step - loss: 110.8186 - val_loss: 592.1152\n",
      "Epoch 60/100\n",
      "18/18 [==============================] - 0s 6ms/step - loss: 110.2039 - val_loss: 616.9366\n",
      "Epoch 61/100\n",
      "18/18 [==============================] - 0s 6ms/step - loss: 111.0311 - val_loss: 588.4854\n",
      "Epoch 62/100\n",
      "18/18 [==============================] - 0s 6ms/step - loss: 108.1684 - val_loss: 577.6287\n",
      "Epoch 63/100\n",
      "18/18 [==============================] - 0s 6ms/step - loss: 108.7933 - val_loss: 610.1505\n",
      "Epoch 64/100\n",
      "18/18 [==============================] - 0s 6ms/step - loss: 110.4675 - val_loss: 652.9442\n",
      "Epoch 65/100\n",
      "18/18 [==============================] - 0s 6ms/step - loss: 110.7312 - val_loss: 583.0661\n",
      "Epoch 66/100\n",
      "18/18 [==============================] - 0s 7ms/step - loss: 108.3487 - val_loss: 587.8373\n",
      "Epoch 67/100\n",
      "18/18 [==============================] - 0s 6ms/step - loss: 108.0647 - val_loss: 648.5135\n",
      "Epoch 68/100\n",
      "18/18 [==============================] - 0s 6ms/step - loss: 113.6957 - val_loss: 675.1578\n",
      "Epoch 69/100\n",
      "18/18 [==============================] - 0s 6ms/step - loss: 124.3081 - val_loss: 632.9834\n",
      "Epoch 70/100\n",
      "18/18 [==============================] - 0s 6ms/step - loss: 124.3231 - val_loss: 588.5074\n",
      "Epoch 71/100\n",
      "18/18 [==============================] - 0s 6ms/step - loss: 111.2924 - val_loss: 618.2595\n",
      "Epoch 72/100\n",
      "18/18 [==============================] - 0s 6ms/step - loss: 110.1688 - val_loss: 581.8327\n",
      "Epoch 73/100\n",
      "18/18 [==============================] - 0s 6ms/step - loss: 108.6783 - val_loss: 582.9403\n",
      "Epoch 74/100\n",
      "18/18 [==============================] - 0s 6ms/step - loss: 108.4709 - val_loss: 578.2967\n",
      "Epoch 75/100\n",
      "18/18 [==============================] - 0s 6ms/step - loss: 110.1821 - val_loss: 663.3165\n",
      "Epoch 76/100\n",
      "18/18 [==============================] - 0s 6ms/step - loss: 112.4488 - val_loss: 582.5882\n",
      "Epoch 77/100\n",
      "18/18 [==============================] - 0s 6ms/step - loss: 110.0107 - val_loss: 579.8846\n",
      "Epoch 78/100\n",
      "18/18 [==============================] - 0s 6ms/step - loss: 107.3413 - val_loss: 582.0059\n",
      "Epoch 79/100\n",
      "18/18 [==============================] - 0s 7ms/step - loss: 109.0300 - val_loss: 591.4002\n",
      "Epoch 80/100\n",
      "18/18 [==============================] - 0s 7ms/step - loss: 106.9309 - val_loss: 585.3939\n",
      "Epoch 81/100\n",
      "18/18 [==============================] - 0s 7ms/step - loss: 106.6292 - val_loss: 575.4409\n"
     ]
    },
    {
     "name": "stdout",
     "output_type": "stream",
     "text": [
      "Epoch 82/100\n",
      "18/18 [==============================] - 0s 6ms/step - loss: 114.2934 - val_loss: 571.6201\n",
      "Epoch 83/100\n",
      "18/18 [==============================] - 0s 7ms/step - loss: 111.1759 - val_loss: 666.0575\n",
      "Epoch 84/100\n",
      "18/18 [==============================] - 0s 7ms/step - loss: 112.2542 - val_loss: 580.0311\n",
      "Epoch 85/100\n",
      "18/18 [==============================] - 0s 7ms/step - loss: 107.7741 - val_loss: 599.6235\n",
      "Epoch 86/100\n",
      "18/18 [==============================] - 0s 7ms/step - loss: 108.7533 - val_loss: 599.0892\n",
      "Epoch 87/100\n",
      "18/18 [==============================] - 0s 6ms/step - loss: 106.9682 - val_loss: 596.5331\n",
      "Epoch 88/100\n",
      "18/18 [==============================] - 0s 6ms/step - loss: 107.9607 - val_loss: 598.1046\n",
      "Epoch 89/100\n",
      "18/18 [==============================] - 0s 7ms/step - loss: 107.3045 - val_loss: 570.8289\n",
      "Epoch 90/100\n",
      "18/18 [==============================] - 0s 6ms/step - loss: 108.0094 - val_loss: 642.3954\n",
      "Epoch 91/100\n",
      "18/18 [==============================] - 0s 6ms/step - loss: 113.7574 - val_loss: 625.3705\n",
      "Epoch 92/100\n",
      "18/18 [==============================] - 0s 6ms/step - loss: 108.0017 - val_loss: 627.3042\n",
      "Epoch 93/100\n",
      "18/18 [==============================] - 0s 6ms/step - loss: 118.0999 - val_loss: 637.1262\n",
      "Epoch 94/100\n",
      "18/18 [==============================] - 0s 6ms/step - loss: 111.3195 - val_loss: 579.6994\n",
      "Epoch 95/100\n",
      "18/18 [==============================] - 0s 6ms/step - loss: 106.8561 - val_loss: 572.8492\n",
      "Epoch 96/100\n",
      "18/18 [==============================] - 0s 6ms/step - loss: 115.0598 - val_loss: 602.3199\n",
      "Epoch 97/100\n",
      "18/18 [==============================] - 0s 6ms/step - loss: 109.4901 - val_loss: 616.3572\n",
      "Epoch 98/100\n",
      "18/18 [==============================] - 0s 6ms/step - loss: 111.2816 - val_loss: 586.8003\n",
      "Epoch 99/100\n",
      "18/18 [==============================] - 0s 7ms/step - loss: 111.2904 - val_loss: 581.4906\n",
      "Epoch 100/100\n",
      "18/18 [==============================] - 0s 7ms/step - loss: 107.0190 - val_loss: 610.1557\n"
     ]
    },
    {
     "data": {
      "text/plain": [
       "<keras.callbacks.History at 0x293ce2be0>"
      ]
     },
     "execution_count": 116,
     "metadata": {},
     "output_type": "execute_result"
    }
   ],
   "source": [
    "tf.random.set_seed(42)\n",
    "\n",
    "# Create model\n",
    "model_4 = tf.keras.Sequential([\n",
    "  # Create Lambda layer to reshape inputs, without this layer, the model will error\n",
    "  layers.Lambda(lambda x: tf.expand_dims(x, axis=1)), # resize the inputs to adjust for window size / Conv1D 3D input requirements\n",
    "  layers.Conv1D(filters=128, kernel_size=5, padding=\"causal\", activation=\"relu\"),\n",
    "  layers.Dense(HORIZON)\n",
    "], name=\"model_4_conv1D\")\n",
    "\n",
    "# Compile model\n",
    "model_4.compile(loss=\"mae\",\n",
    "                optimizer=tf.keras.optimizers.Adam())\n",
    "\n",
    "# Fit model\n",
    "model_4.fit(train_windows,\n",
    "            train_labels,\n",
    "            batch_size=128, \n",
    "            epochs=100,\n",
    "            validation_data=(test_windows, test_labels),\n",
    "            callbacks=[create_model_checkpoint(model_name=model_4.name)])"
   ]
  },
  {
   "cell_type": "code",
   "execution_count": 117,
   "id": "7a52ad0d",
   "metadata": {},
   "outputs": [
    {
     "name": "stdout",
     "output_type": "stream",
     "text": [
      "18/18 [==============================] - 0s 3ms/step\n"
     ]
    },
    {
     "name": "stderr",
     "output_type": "stream",
     "text": [
      "2022-08-23 00:12:06.562234: I tensorflow/core/grappler/optimizers/custom_graph_optimizer_registry.cc:113] Plugin optimizer for device_type GPU is enabled.\n"
     ]
    },
    {
     "data": {
      "text/plain": [
       "{'MAE': 610.1557,\n",
       " 'MSE': 1242914.5,\n",
       " 'RMSE': 1114.8607,\n",
       " 'MAPE': 2.7568934,\n",
       " 'MASE': 1.0718744}"
      ]
     },
     "execution_count": 117,
     "metadata": {},
     "output_type": "execute_result"
    }
   ],
   "source": [
    "# let's evaluate results again for model 3\n",
    "model_4_pred = make_preds(model_4,test_windows)\n",
    "model_4_results = evaluate_preds(tf.squeeze(test_labels),model_4_pred)\n",
    "model_4_results"
   ]
  },
  {
   "cell_type": "markdown",
   "id": "cb1f9b37",
   "metadata": {},
   "source": [
    "## Model 5 : LSTM Model"
   ]
  },
  {
   "cell_type": "code",
   "execution_count": 119,
   "id": "50ecafaa",
   "metadata": {},
   "outputs": [
    {
     "name": "stdout",
     "output_type": "stream",
     "text": [
      "WARNING:tensorflow:Layer lstm_2 will not use cuDNN kernels since it doesn't meet the criteria. It will use a generic GPU kernel as fallback when running on GPU.\n",
      "WARNING:tensorflow:Layer lstm_3 will not use cuDNN kernels since it doesn't meet the criteria. It will use a generic GPU kernel as fallback when running on GPU.\n",
      "Model Saving to : model_experiments/model_5/202208230022\n",
      "Epoch 1/100\n"
     ]
    },
    {
     "name": "stderr",
     "output_type": "stream",
     "text": [
      "2022-08-23 00:22:38.711895: I tensorflow/core/grappler/optimizers/custom_graph_optimizer_registry.cc:113] Plugin optimizer for device_type GPU is enabled.\n"
     ]
    },
    {
     "name": "stdout",
     "output_type": "stream",
     "text": [
      "70/70 [==============================] - ETA: 0s - loss: 1157.6030"
     ]
    },
    {
     "name": "stderr",
     "output_type": "stream",
     "text": [
      "2022-08-23 00:22:40.795381: I tensorflow/core/grappler/optimizers/custom_graph_optimizer_registry.cc:113] Plugin optimizer for device_type GPU is enabled.\n"
     ]
    },
    {
     "name": "stdout",
     "output_type": "stream",
     "text": [
      "70/70 [==============================] - 3s 23ms/step - loss: 1157.6030 - val_loss: 1046.1262\n",
      "Epoch 2/100\n",
      "70/70 [==============================] - 1s 17ms/step - loss: 166.6716 - val_loss: 904.8520\n",
      "Epoch 3/100\n",
      "70/70 [==============================] - 1s 17ms/step - loss: 163.1954 - val_loss: 890.9388\n",
      "Epoch 4/100\n",
      "70/70 [==============================] - 1s 17ms/step - loss: 156.6481 - val_loss: 823.5787\n",
      "Epoch 5/100\n",
      "70/70 [==============================] - 1s 17ms/step - loss: 154.3225 - val_loss: 797.1462\n",
      "Epoch 6/100\n",
      "70/70 [==============================] - 1s 16ms/step - loss: 144.6127 - val_loss: 766.7610\n",
      "Epoch 7/100\n",
      "70/70 [==============================] - 1s 16ms/step - loss: 145.1912 - val_loss: 776.2124\n",
      "Epoch 8/100\n",
      "70/70 [==============================] - 1s 16ms/step - loss: 140.5502 - val_loss: 757.2200\n",
      "Epoch 9/100\n",
      "70/70 [==============================] - 1s 16ms/step - loss: 130.7394 - val_loss: 826.4238\n",
      "Epoch 10/100\n",
      "70/70 [==============================] - 1s 16ms/step - loss: 144.2960 - val_loss: 747.8232\n",
      "Epoch 11/100\n",
      "70/70 [==============================] - 1s 16ms/step - loss: 135.1766 - val_loss: 766.4756\n",
      "Epoch 12/100\n",
      "70/70 [==============================] - 1s 16ms/step - loss: 127.3719 - val_loss: 741.0197\n",
      "Epoch 13/100\n",
      "70/70 [==============================] - 1s 16ms/step - loss: 125.9744 - val_loss: 746.2159\n",
      "Epoch 14/100\n",
      "70/70 [==============================] - 1s 16ms/step - loss: 134.0009 - val_loss: 1358.3937\n",
      "Epoch 15/100\n",
      "70/70 [==============================] - 1s 16ms/step - loss: 137.6312 - val_loss: 649.4013\n",
      "Epoch 16/100\n",
      "70/70 [==============================] - 1s 16ms/step - loss: 123.3607 - val_loss: 633.3342\n",
      "Epoch 17/100\n",
      "70/70 [==============================] - 1s 16ms/step - loss: 123.1550 - val_loss: 640.6191\n",
      "Epoch 18/100\n",
      "70/70 [==============================] - 1s 16ms/step - loss: 120.8857 - val_loss: 619.4355\n",
      "Epoch 19/100\n",
      "70/70 [==============================] - 1s 16ms/step - loss: 121.7200 - val_loss: 626.9055\n",
      "Epoch 20/100\n",
      "70/70 [==============================] - 1s 16ms/step - loss: 118.7937 - val_loss: 669.9939\n",
      "Epoch 21/100\n",
      "70/70 [==============================] - 1s 16ms/step - loss: 123.7956 - val_loss: 609.0396\n",
      "Epoch 22/100\n",
      "70/70 [==============================] - 1s 16ms/step - loss: 121.3387 - val_loss: 605.0272\n",
      "Epoch 23/100\n",
      "70/70 [==============================] - 1s 16ms/step - loss: 136.2215 - val_loss: 845.4235\n",
      "Epoch 24/100\n",
      "70/70 [==============================] - 1s 16ms/step - loss: 120.3381 - val_loss: 602.4846\n",
      "Epoch 25/100\n",
      "70/70 [==============================] - 1s 17ms/step - loss: 117.5262 - val_loss: 608.0892\n",
      "Epoch 26/100\n",
      "70/70 [==============================] - 1s 16ms/step - loss: 131.6595 - val_loss: 685.1008\n",
      "Epoch 27/100\n",
      "70/70 [==============================] - 1s 16ms/step - loss: 123.1736 - val_loss: 831.0925\n",
      "Epoch 28/100\n",
      "70/70 [==============================] - 1s 16ms/step - loss: 124.7976 - val_loss: 638.5694\n",
      "Epoch 29/100\n",
      "70/70 [==============================] - 1s 16ms/step - loss: 118.9056 - val_loss: 634.2344\n",
      "Epoch 30/100\n",
      "70/70 [==============================] - 1s 16ms/step - loss: 118.3085 - val_loss: 602.6454\n",
      "Epoch 31/100\n",
      "70/70 [==============================] - 1s 16ms/step - loss: 118.0455 - val_loss: 863.9404\n",
      "Epoch 32/100\n",
      "70/70 [==============================] - 1s 17ms/step - loss: 117.2154 - val_loss: 605.5736\n",
      "Epoch 33/100\n",
      "70/70 [==============================] - 1s 16ms/step - loss: 119.8797 - val_loss: 759.3412\n",
      "Epoch 34/100\n",
      "70/70 [==============================] - 1s 16ms/step - loss: 122.5322 - val_loss: 612.0924\n",
      "Epoch 35/100\n",
      "70/70 [==============================] - 1s 16ms/step - loss: 111.6491 - val_loss: 589.9537\n",
      "Epoch 36/100\n",
      "70/70 [==============================] - 1s 18ms/step - loss: 114.7619 - val_loss: 921.2725\n",
      "Epoch 37/100\n",
      "70/70 [==============================] - 1s 17ms/step - loss: 120.2203 - val_loss: 581.9398\n",
      "Epoch 38/100\n",
      "70/70 [==============================] - 1s 17ms/step - loss: 129.1437 - val_loss: 798.8833\n",
      "Epoch 39/100\n",
      "70/70 [==============================] - 1s 17ms/step - loss: 116.3917 - val_loss: 586.0507\n",
      "Epoch 40/100\n",
      "70/70 [==============================] - 1s 17ms/step - loss: 116.1322 - val_loss: 620.6423\n",
      "Epoch 41/100\n",
      "70/70 [==============================] - 1s 18ms/step - loss: 112.3311 - val_loss: 820.2141\n",
      "Epoch 42/100\n",
      "70/70 [==============================] - 1s 17ms/step - loss: 115.3646 - val_loss: 591.1682\n",
      "Epoch 43/100\n",
      "70/70 [==============================] - 1s 17ms/step - loss: 122.4247 - val_loss: 686.6299\n",
      "Epoch 44/100\n",
      "70/70 [==============================] - 1s 18ms/step - loss: 123.1141 - val_loss: 865.3769\n",
      "Epoch 45/100\n",
      "70/70 [==============================] - 1s 17ms/step - loss: 118.0777 - val_loss: 585.6128\n",
      "Epoch 46/100\n",
      "70/70 [==============================] - 1s 17ms/step - loss: 127.8879 - val_loss: 595.0240\n",
      "Epoch 47/100\n",
      "70/70 [==============================] - 1s 17ms/step - loss: 115.3037 - val_loss: 874.7370\n",
      "Epoch 48/100\n",
      "70/70 [==============================] - 1s 17ms/step - loss: 137.2064 - val_loss: 807.2999\n",
      "Epoch 49/100\n",
      "70/70 [==============================] - 1s 17ms/step - loss: 127.3148 - val_loss: 637.3016\n",
      "Epoch 50/100\n",
      "70/70 [==============================] - 1s 17ms/step - loss: 115.5945 - val_loss: 603.5250\n",
      "Epoch 51/100\n",
      "70/70 [==============================] - 1s 17ms/step - loss: 117.1660 - val_loss: 591.3459\n",
      "Epoch 52/100\n",
      "70/70 [==============================] - 1s 17ms/step - loss: 117.4850 - val_loss: 678.1133\n",
      "Epoch 53/100\n",
      "70/70 [==============================] - 1s 17ms/step - loss: 112.8438 - val_loss: 637.2645\n",
      "Epoch 54/100\n",
      "70/70 [==============================] - 1s 17ms/step - loss: 112.3833 - val_loss: 573.1594\n",
      "Epoch 55/100\n",
      "70/70 [==============================] - 1s 17ms/step - loss: 115.4863 - val_loss: 572.5507\n",
      "Epoch 56/100\n",
      "70/70 [==============================] - 1s 17ms/step - loss: 109.8507 - val_loss: 682.3069\n",
      "Epoch 57/100\n",
      "70/70 [==============================] - 1s 17ms/step - loss: 111.5975 - val_loss: 629.9819\n",
      "Epoch 58/100\n",
      "70/70 [==============================] - 1s 17ms/step - loss: 109.8500 - val_loss: 618.7546\n",
      "Epoch 59/100\n",
      "70/70 [==============================] - 1s 17ms/step - loss: 119.7276 - val_loss: 595.6635\n",
      "Epoch 60/100\n",
      "70/70 [==============================] - 1s 17ms/step - loss: 113.3173 - val_loss: 575.1383\n",
      "Epoch 61/100\n",
      "70/70 [==============================] - 1s 17ms/step - loss: 112.8703 - val_loss: 666.0724\n",
      "Epoch 62/100\n",
      "70/70 [==============================] - 1s 17ms/step - loss: 113.6542 - val_loss: 609.6644\n",
      "Epoch 63/100\n",
      "70/70 [==============================] - 1s 17ms/step - loss: 109.4788 - val_loss: 570.9325\n",
      "Epoch 64/100\n",
      "70/70 [==============================] - 1s 18ms/step - loss: 118.8696 - val_loss: 761.4636\n",
      "Epoch 65/100\n",
      "70/70 [==============================] - 1s 17ms/step - loss: 117.9355 - val_loss: 649.9606\n",
      "Epoch 66/100\n",
      "70/70 [==============================] - 1s 17ms/step - loss: 109.6793 - val_loss: 597.2526\n",
      "Epoch 67/100\n",
      "70/70 [==============================] - 1s 17ms/step - loss: 113.0962 - val_loss: 575.7193\n",
      "Epoch 68/100\n",
      "70/70 [==============================] - 1s 18ms/step - loss: 111.1354 - val_loss: 593.6573\n",
      "Epoch 69/100\n",
      "70/70 [==============================] - 1s 17ms/step - loss: 111.4662 - val_loss: 572.2825\n",
      "Epoch 70/100\n",
      "70/70 [==============================] - 1s 17ms/step - loss: 122.9572 - val_loss: 680.1451\n",
      "Epoch 71/100\n",
      "70/70 [==============================] - 1s 17ms/step - loss: 119.8163 - val_loss: 779.5145\n",
      "Epoch 72/100\n",
      "70/70 [==============================] - 1s 17ms/step - loss: 117.3901 - val_loss: 578.3505\n",
      "Epoch 73/100\n",
      "70/70 [==============================] - 1s 18ms/step - loss: 115.7082 - val_loss: 652.7385\n",
      "Epoch 74/100\n",
      "70/70 [==============================] - 1s 17ms/step - loss: 115.0533 - val_loss: 587.0877\n",
      "Epoch 75/100\n",
      "70/70 [==============================] - 1s 17ms/step - loss: 112.6125 - val_loss: 611.8947\n",
      "Epoch 76/100\n",
      "70/70 [==============================] - 1s 18ms/step - loss: 108.6103 - val_loss: 624.3507\n",
      "Epoch 77/100\n",
      "70/70 [==============================] - 1s 17ms/step - loss: 110.8375 - val_loss: 590.2792\n",
      "Epoch 78/100\n",
      "70/70 [==============================] - 1s 18ms/step - loss: 111.8719 - val_loss: 603.2213\n",
      "Epoch 79/100\n"
     ]
    },
    {
     "name": "stdout",
     "output_type": "stream",
     "text": [
      "70/70 [==============================] - 1s 16ms/step - loss: 129.9870 - val_loss: 596.4690\n",
      "Epoch 80/100\n",
      "70/70 [==============================] - 1s 17ms/step - loss: 122.4468 - val_loss: 734.8455\n",
      "Epoch 81/100\n",
      "70/70 [==============================] - 1s 16ms/step - loss: 108.7823 - val_loss: 570.0282\n",
      "Epoch 82/100\n",
      "70/70 [==============================] - 1s 17ms/step - loss: 112.5781 - val_loss: 590.6547\n",
      "Epoch 83/100\n",
      "70/70 [==============================] - 1s 17ms/step - loss: 124.0229 - val_loss: 570.9481\n",
      "Epoch 84/100\n",
      "70/70 [==============================] - 1s 16ms/step - loss: 115.2892 - val_loss: 570.2995\n",
      "Epoch 85/100\n",
      "70/70 [==============================] - 1s 17ms/step - loss: 111.0329 - val_loss: 584.7703\n",
      "Epoch 86/100\n",
      "70/70 [==============================] - 1s 16ms/step - loss: 131.8314 - val_loss: 771.3779\n",
      "Epoch 87/100\n",
      "70/70 [==============================] - 1s 16ms/step - loss: 114.1155 - val_loss: 619.5580\n",
      "Epoch 88/100\n",
      "70/70 [==============================] - 1s 16ms/step - loss: 119.5052 - val_loss: 619.8094\n",
      "Epoch 89/100\n",
      "70/70 [==============================] - 1s 16ms/step - loss: 123.5183 - val_loss: 1197.2841\n",
      "Epoch 90/100\n",
      "70/70 [==============================] - 1s 16ms/step - loss: 121.5931 - val_loss: 669.9797\n",
      "Epoch 91/100\n",
      "70/70 [==============================] - 1s 17ms/step - loss: 113.1064 - val_loss: 691.6135\n",
      "Epoch 92/100\n",
      "70/70 [==============================] - 1s 17ms/step - loss: 113.3506 - val_loss: 606.0831\n",
      "Epoch 93/100\n",
      "70/70 [==============================] - 1s 16ms/step - loss: 110.5634 - val_loss: 693.9982\n",
      "Epoch 94/100\n",
      "70/70 [==============================] - 1s 16ms/step - loss: 119.0430 - val_loss: 814.9844\n",
      "Epoch 95/100\n",
      "70/70 [==============================] - 1s 16ms/step - loss: 117.1359 - val_loss: 580.8913\n",
      "Epoch 96/100\n",
      "70/70 [==============================] - 1s 16ms/step - loss: 114.0616 - val_loss: 568.4528\n",
      "Epoch 97/100\n",
      "70/70 [==============================] - 1s 16ms/step - loss: 113.0894 - val_loss: 589.8956\n",
      "Epoch 98/100\n",
      "70/70 [==============================] - 1s 16ms/step - loss: 114.6991 - val_loss: 606.6817\n",
      "Epoch 99/100\n",
      "70/70 [==============================] - 1s 16ms/step - loss: 112.8794 - val_loss: 655.2911\n",
      "Epoch 100/100\n",
      "70/70 [==============================] - 1s 17ms/step - loss: 121.9147 - val_loss: 726.6697\n"
     ]
    },
    {
     "data": {
      "text/plain": [
       "<keras.callbacks.History at 0x2924a4b20>"
      ]
     },
     "execution_count": 119,
     "metadata": {},
     "output_type": "execute_result"
    }
   ],
   "source": [
    "# let's make our LSTM (long-short term memory model)\n",
    "tf.random.set_seed(42)\n",
    "\n",
    "model_5 = Sequential(name=\"model_5\")\n",
    "model_5.add(layers.Lambda(lambda x : tf.expand_dims(x,axis=1)))\n",
    "model_5.add(layers.LSTM(128,activation=\"relu\",return_sequences=True))\n",
    "model_5.add(layers.LSTM(128,activation=\"relu\"))\n",
    "model_5.add(layers.Dense(HORIZON))\n",
    "\n",
    "# compile the model...\n",
    "model_5.compile(loss=\"mae\",optimizer=tf.keras.optimizers.Adam())\n",
    "\n",
    "# fit the model\n",
    "model_5.fit(train_windows,train_labels,epochs=100,\n",
    "           validation_data=(test_windows,test_labels),\n",
    "           callbacks=[create_model_checkpoint(model_5.name)])"
   ]
  },
  {
   "cell_type": "code",
   "execution_count": 120,
   "id": "9f320659",
   "metadata": {},
   "outputs": [
    {
     "name": "stdout",
     "output_type": "stream",
     "text": [
      "18/18 [==============================] - 0s 7ms/step\n"
     ]
    },
    {
     "name": "stderr",
     "output_type": "stream",
     "text": [
      "2022-08-23 00:25:38.573997: I tensorflow/core/grappler/optimizers/custom_graph_optimizer_registry.cc:113] Plugin optimizer for device_type GPU is enabled.\n"
     ]
    },
    {
     "data": {
      "text/plain": [
       "{'MAE': 726.66974,\n",
       " 'MSE': 1544819.8,\n",
       " 'RMSE': 1242.9077,\n",
       " 'MAPE': 3.3819742,\n",
       " 'MASE': 1.2765572}"
      ]
     },
     "execution_count": 120,
     "metadata": {},
     "output_type": "execute_result"
    }
   ],
   "source": [
    "# evaluate the model....\n",
    "model_5_pred = make_preds(model_5,test_windows)\n",
    "model_5_results = evaluate_preds(tf.squeeze(test_labels),model_5_pred)\n",
    "model_5_results"
   ]
  },
  {
   "cell_type": "markdown",
   "id": "ca355845",
   "metadata": {},
   "source": [
    "as we can see that our model's didn't perform very well as compared to the naive base. so let's some more information to the model like bitcoin block reward size ."
   ]
  },
  {
   "cell_type": "code",
   "execution_count": 121,
   "id": "fd32320e",
   "metadata": {},
   "outputs": [
    {
     "data": {
      "text/html": [
       "<div>\n",
       "<style scoped>\n",
       "    .dataframe tbody tr th:only-of-type {\n",
       "        vertical-align: middle;\n",
       "    }\n",
       "\n",
       "    .dataframe tbody tr th {\n",
       "        vertical-align: top;\n",
       "    }\n",
       "\n",
       "    .dataframe thead th {\n",
       "        text-align: right;\n",
       "    }\n",
       "</style>\n",
       "<table border=\"1\" class=\"dataframe\">\n",
       "  <thead>\n",
       "    <tr style=\"text-align: right;\">\n",
       "      <th></th>\n",
       "      <th>Price</th>\n",
       "    </tr>\n",
       "    <tr>\n",
       "      <th>Date</th>\n",
       "      <th></th>\n",
       "    </tr>\n",
       "  </thead>\n",
       "  <tbody>\n",
       "    <tr>\n",
       "      <th>2013-10-01</th>\n",
       "      <td>123.65499</td>\n",
       "    </tr>\n",
       "    <tr>\n",
       "      <th>2013-10-02</th>\n",
       "      <td>125.45500</td>\n",
       "    </tr>\n",
       "    <tr>\n",
       "      <th>2013-10-03</th>\n",
       "      <td>108.58483</td>\n",
       "    </tr>\n",
       "    <tr>\n",
       "      <th>2013-10-04</th>\n",
       "      <td>118.67466</td>\n",
       "    </tr>\n",
       "    <tr>\n",
       "      <th>2013-10-05</th>\n",
       "      <td>121.33866</td>\n",
       "    </tr>\n",
       "  </tbody>\n",
       "</table>\n",
       "</div>"
      ],
      "text/plain": [
       "                Price\n",
       "Date                 \n",
       "2013-10-01  123.65499\n",
       "2013-10-02  125.45500\n",
       "2013-10-03  108.58483\n",
       "2013-10-04  118.67466\n",
       "2013-10-05  121.33866"
      ]
     },
     "execution_count": 121,
     "metadata": {},
     "output_type": "execute_result"
    }
   ],
   "source": [
    "btc_prices.head()"
   ]
  },
  {
   "cell_type": "code",
   "execution_count": 127,
   "id": "f4308717",
   "metadata": {},
   "outputs": [
    {
     "data": {
      "text/plain": [
       "(1012, 2414)"
      ]
     },
     "execution_count": 127,
     "metadata": {},
     "output_type": "execute_result"
    }
   ],
   "source": [
    "# block_reward values....\n",
    "block_reward_1 = 50\n",
    "block_reward_2 = 25\n",
    "block_reward_3 = 12.5\n",
    "block_reward_4 = 6.25\n",
    "\n",
    "# block reward dates....\n",
    "block_reward_2_datetime = np.datetime64(\"2012-11-28\")\n",
    "block_reward_3_datetime = np.datetime64(\"2016-07-09\")\n",
    "block_reward_4_datetime = np.datetime64(\"2020-05-11\")\n",
    "\n",
    "# get index to add values...\n",
    "block_reward_2_days = (block_reward_3_datetime - btc_prices.index[0]).days\n",
    "block_reward_3_days = (block_reward_4_datetime - btc_prices.index[0]).days\n",
    "block_reward_2_days,block_reward_3_days"
   ]
  },
  {
   "cell_type": "code",
   "execution_count": null,
   "id": "174d4197",
   "metadata": {},
   "outputs": [],
   "source": []
  }
 ],
 "metadata": {
  "kernelspec": {
   "display_name": "Python 3 (ipykernel)",
   "language": "python",
   "name": "python3"
  },
  "language_info": {
   "codemirror_mode": {
    "name": "ipython",
    "version": 3
   },
   "file_extension": ".py",
   "mimetype": "text/x-python",
   "name": "python",
   "nbconvert_exporter": "python",
   "pygments_lexer": "ipython3",
   "version": "3.8.13"
  }
 },
 "nbformat": 4,
 "nbformat_minor": 5
}
