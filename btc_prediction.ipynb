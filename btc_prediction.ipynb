{
 "cells": [
  {
   "cell_type": "markdown",
   "id": "3baea97d",
   "metadata": {},
   "source": [
    "## Importing libraries...."
   ]
  },
  {
   "cell_type": "code",
   "execution_count": 64,
   "id": "90ea1175",
   "metadata": {},
   "outputs": [],
   "source": [
    "# importing libraries....\n",
    "import numpy as np\n",
    "import pandas as pd\n",
    "import matplotlib.pyplot as plt\n",
    "import tensorflow as tf\n",
    "import datetime\n",
    "from tensorflow.keras.callbacks import TensorBoard\n",
    "from tensorflow.keras import Sequential,layers"
   ]
  },
  {
   "cell_type": "markdown",
   "id": "bf3e27a4",
   "metadata": {},
   "source": [
    "In this notebook we're going to predict the prize of the Bitcoin💰.\n",
    "We'll build a series of model for prediction.\n",
    "\n",
    "What we're going to cover....???\n",
    "    ~ Get the data\n",
    "    ~ Format the data\n",
    "    ~ Visualize the data\n",
    "    ~ Prepare data into window size\n",
    "    ~ Setup a series of model\n",
    "    ~ Make Prdiction"
   ]
  },
  {
   "cell_type": "code",
   "execution_count": 22,
   "id": "991c85a5",
   "metadata": {},
   "outputs": [
    {
     "name": "stdout",
     "output_type": "stream",
     "text": [
      "btc_data.csv         btc_prediction.ipynb\r\n"
     ]
    }
   ],
   "source": [
    "# getting the data...\n",
    "!ls"
   ]
  },
  {
   "cell_type": "code",
   "execution_count": 23,
   "id": "67b2eff1",
   "metadata": {},
   "outputs": [
    {
     "data": {
      "text/html": [
       "<div>\n",
       "<style scoped>\n",
       "    .dataframe tbody tr th:only-of-type {\n",
       "        vertical-align: middle;\n",
       "    }\n",
       "\n",
       "    .dataframe tbody tr th {\n",
       "        vertical-align: top;\n",
       "    }\n",
       "\n",
       "    .dataframe thead th {\n",
       "        text-align: right;\n",
       "    }\n",
       "</style>\n",
       "<table border=\"1\" class=\"dataframe\">\n",
       "  <thead>\n",
       "    <tr style=\"text-align: right;\">\n",
       "      <th></th>\n",
       "      <th>Currency</th>\n",
       "      <th>Closing Price (USD)</th>\n",
       "      <th>24h Open (USD)</th>\n",
       "      <th>24h High (USD)</th>\n",
       "      <th>24h Low (USD)</th>\n",
       "    </tr>\n",
       "    <tr>\n",
       "      <th>Date</th>\n",
       "      <th></th>\n",
       "      <th></th>\n",
       "      <th></th>\n",
       "      <th></th>\n",
       "      <th></th>\n",
       "    </tr>\n",
       "  </thead>\n",
       "  <tbody>\n",
       "    <tr>\n",
       "      <th>2013-10-01</th>\n",
       "      <td>BTC</td>\n",
       "      <td>123.65499</td>\n",
       "      <td>124.30466</td>\n",
       "      <td>124.75166</td>\n",
       "      <td>122.56349</td>\n",
       "    </tr>\n",
       "    <tr>\n",
       "      <th>2013-10-02</th>\n",
       "      <td>BTC</td>\n",
       "      <td>125.45500</td>\n",
       "      <td>123.65499</td>\n",
       "      <td>125.75850</td>\n",
       "      <td>123.63383</td>\n",
       "    </tr>\n",
       "    <tr>\n",
       "      <th>2013-10-03</th>\n",
       "      <td>BTC</td>\n",
       "      <td>108.58483</td>\n",
       "      <td>125.45500</td>\n",
       "      <td>125.66566</td>\n",
       "      <td>83.32833</td>\n",
       "    </tr>\n",
       "    <tr>\n",
       "      <th>2013-10-04</th>\n",
       "      <td>BTC</td>\n",
       "      <td>118.67466</td>\n",
       "      <td>108.58483</td>\n",
       "      <td>118.67500</td>\n",
       "      <td>107.05816</td>\n",
       "    </tr>\n",
       "    <tr>\n",
       "      <th>2013-10-05</th>\n",
       "      <td>BTC</td>\n",
       "      <td>121.33866</td>\n",
       "      <td>118.67466</td>\n",
       "      <td>121.93633</td>\n",
       "      <td>118.00566</td>\n",
       "    </tr>\n",
       "  </tbody>\n",
       "</table>\n",
       "</div>"
      ],
      "text/plain": [
       "           Currency  Closing Price (USD)  24h Open (USD)  24h High (USD)  \\\n",
       "Date                                                                       \n",
       "2013-10-01      BTC            123.65499       124.30466       124.75166   \n",
       "2013-10-02      BTC            125.45500       123.65499       125.75850   \n",
       "2013-10-03      BTC            108.58483       125.45500       125.66566   \n",
       "2013-10-04      BTC            118.67466       108.58483       118.67500   \n",
       "2013-10-05      BTC            121.33866       118.67466       121.93633   \n",
       "\n",
       "            24h Low (USD)  \n",
       "Date                       \n",
       "2013-10-01      122.56349  \n",
       "2013-10-02      123.63383  \n",
       "2013-10-03       83.32833  \n",
       "2013-10-04      107.05816  \n",
       "2013-10-05      118.00566  "
      ]
     },
     "execution_count": 23,
     "metadata": {},
     "output_type": "execute_result"
    }
   ],
   "source": [
    "df = pd.read_csv(\"btc_data.csv\",parse_dates=[\"Date\"],index_col=[\"Date\"])\n",
    "df.head()"
   ]
  },
  {
   "cell_type": "code",
   "execution_count": 24,
   "id": "70244d6e",
   "metadata": {},
   "outputs": [
    {
     "name": "stdout",
     "output_type": "stream",
     "text": [
      "<class 'pandas.core.frame.DataFrame'>\n",
      "DatetimeIndex: 2787 entries, 2013-10-01 to 2021-05-18\n",
      "Data columns (total 5 columns):\n",
      " #   Column               Non-Null Count  Dtype  \n",
      "---  ------               --------------  -----  \n",
      " 0   Currency             2787 non-null   object \n",
      " 1   Closing Price (USD)  2787 non-null   float64\n",
      " 2   24h Open (USD)       2787 non-null   float64\n",
      " 3   24h High (USD)       2787 non-null   float64\n",
      " 4   24h Low (USD)        2787 non-null   float64\n",
      "dtypes: float64(4), object(1)\n",
      "memory usage: 130.6+ KB\n"
     ]
    }
   ],
   "source": [
    "# get some data info\n",
    "df.info()"
   ]
  },
  {
   "cell_type": "code",
   "execution_count": 25,
   "id": "e4bfb92a",
   "metadata": {},
   "outputs": [
    {
     "data": {
      "text/plain": [
       "(2787, 5)"
      ]
     },
     "execution_count": 25,
     "metadata": {},
     "output_type": "execute_result"
    }
   ],
   "source": [
    "df.shape"
   ]
  },
  {
   "cell_type": "code",
   "execution_count": 26,
   "id": "f64ac5aa",
   "metadata": {},
   "outputs": [
    {
     "data": {
      "text/html": [
       "<div>\n",
       "<style scoped>\n",
       "    .dataframe tbody tr th:only-of-type {\n",
       "        vertical-align: middle;\n",
       "    }\n",
       "\n",
       "    .dataframe tbody tr th {\n",
       "        vertical-align: top;\n",
       "    }\n",
       "\n",
       "    .dataframe thead th {\n",
       "        text-align: right;\n",
       "    }\n",
       "</style>\n",
       "<table border=\"1\" class=\"dataframe\">\n",
       "  <thead>\n",
       "    <tr style=\"text-align: right;\">\n",
       "      <th></th>\n",
       "      <th>Price</th>\n",
       "    </tr>\n",
       "    <tr>\n",
       "      <th>Date</th>\n",
       "      <th></th>\n",
       "    </tr>\n",
       "  </thead>\n",
       "  <tbody>\n",
       "    <tr>\n",
       "      <th>2013-10-01</th>\n",
       "      <td>123.65499</td>\n",
       "    </tr>\n",
       "    <tr>\n",
       "      <th>2013-10-02</th>\n",
       "      <td>125.45500</td>\n",
       "    </tr>\n",
       "    <tr>\n",
       "      <th>2013-10-03</th>\n",
       "      <td>108.58483</td>\n",
       "    </tr>\n",
       "    <tr>\n",
       "      <th>2013-10-04</th>\n",
       "      <td>118.67466</td>\n",
       "    </tr>\n",
       "    <tr>\n",
       "      <th>2013-10-05</th>\n",
       "      <td>121.33866</td>\n",
       "    </tr>\n",
       "  </tbody>\n",
       "</table>\n",
       "</div>"
      ],
      "text/plain": [
       "                Price\n",
       "Date                 \n",
       "2013-10-01  123.65499\n",
       "2013-10-02  125.45500\n",
       "2013-10-03  108.58483\n",
       "2013-10-04  118.67466\n",
       "2013-10-05  121.33866"
      ]
     },
     "execution_count": 26,
     "metadata": {},
     "output_type": "execute_result"
    }
   ],
   "source": [
    "# get the btc price for each day\n",
    "btc_prices = pd.DataFrame(df[\"Closing Price (USD)\"]).rename(columns={\"Closing Price (USD)\": \"Price\"})\n",
    "btc_prices.head()"
   ]
  },
  {
   "cell_type": "code",
   "execution_count": 27,
   "id": "ef669b55",
   "metadata": {},
   "outputs": [
    {
     "data": {
      "image/png": "[encoded data removed]",
      "text/plain": [
       "<Figure size 720x576 with 1 Axes>"
      ]
     },
     "metadata": {
      "needs_background": "light"
     },
     "output_type": "display_data"
    }
   ],
   "source": [
    "# let's visualize the data...\n",
    "btc_prices.plot(figsize=(10,8))\n",
    "plt.ylabel(\"BTC_Price\")\n",
    "plt.title(\"BTC Price over the years!\")\n",
    "plt.show()"
   ]
  },
  {
   "cell_type": "markdown",
   "id": "ab6b0bb9",
   "metadata": {},
   "source": [
    "## Format the data for training and testing..."
   ]
  },
  {
   "cell_type": "code",
   "execution_count": 28,
   "id": "dd301dc4",
   "metadata": {},
   "outputs": [],
   "source": [
    "prices = btc_prices[\"Price\"].to_numpy()\n",
    "timestamps = btc_prices.index.to_numpy()"
   ]
  },
  {
   "cell_type": "code",
   "execution_count": 29,
   "id": "19e57832",
   "metadata": {},
   "outputs": [
    {
     "data": {
      "text/plain": [
       "(2229, 2229, 558, 558)"
      ]
     },
     "execution_count": 29,
     "metadata": {},
     "output_type": "execute_result"
    }
   ],
   "source": [
    "# create train and test split 80% for training and 20% testing.....\n",
    "split_size = int(0.8 * len(btc_prices))\n",
    "\n",
    "# create train data splits...\n",
    "X_train,y_train = timestamps[:split_size],prices[:split_size]\n",
    "\n",
    "# create test data split....\n",
    "X_test,y_test = timestamps[split_size:],prices[split_size:]\n",
    "\n",
    "len(X_train),len(y_train),len(X_test),len(y_test)"
   ]
  },
  {
   "cell_type": "code",
   "execution_count": 30,
   "id": "4f6312d1",
   "metadata": {},
   "outputs": [],
   "source": [
    "# let's make a plotting function\n",
    "def plot_time_series(timestamps,value,format=\".\",start=0,end=None,label=None):\n",
    "    plt.plot(timestamps[start:end],value[start:end],format,label=label)\n",
    "    plt.xlabel(\"Time\")\n",
    "    plt.ylabel(\"Price\")\n",
    "    if label:\n",
    "        plt.legend(fontsize=10)\n",
    "    plt.grid(True)"
   ]
  },
  {
   "cell_type": "code",
   "execution_count": 31,
   "id": "9ea3b232",
   "metadata": {},
   "outputs": [
    {
     "data": {
      "image/png": "[encoded data removed]",
      "text/plain": [
       "<Figure size 720x576 with 1 Axes>"
      ]
     },
     "metadata": {
      "needs_background": "light"
     },
     "output_type": "display_data"
    }
   ],
   "source": [
    "plt.figure(figsize=(10,8))\n",
    "plot_time_series(X_train,y_train,label=\"training_data\")\n",
    "plot_time_series(X_test,y_test,label=\"testing_data\")"
   ]
  },
  {
   "cell_type": "markdown",
   "id": "2ded9c12",
   "metadata": {},
   "source": [
    "## Modelling Experiments:\n",
    "\n",
    "We're going to build a plenty of models that will predict the bitcoin price using historical data."
   ]
  },
  {
   "cell_type": "markdown",
   "id": "d77be9dc",
   "metadata": {},
   "source": [
    "## Model 0 : Naive Forecast\n",
    "\n",
    "Naive model is one of the most common model for time series probles. It predicts the price by y(pred) = y(t-1)."
   ]
  },
  {
   "cell_type": "code",
   "execution_count": 32,
   "id": "84f7bbec",
   "metadata": {},
   "outputs": [
    {
     "data": {
      "text/plain": [
       "(array([9226.48582088, 8794.35864452, 8798.04205463, 9081.18687849,\n",
       "        8711.53433917, 8760.89271814, 8749.52059102, 8656.97092235,\n",
       "        8500.64355816, 8469.2608989 ]),\n",
       " array([57107.12067189, 58788.20967893, 58102.19142623, 55715.54665129,\n",
       "        56573.5554719 , 52147.82118698, 49764.1320816 , 50032.69313676,\n",
       "        47885.62525472, 45604.61575361]))"
      ]
     },
     "execution_count": 32,
     "metadata": {},
     "output_type": "execute_result"
    }
   ],
   "source": [
    "# create a naive forecast...\n",
    "naive_forecast = y_test[:-1]\n",
    "\n",
    "naive_forecast[:10] , naive_forecast[-10:]"
   ]
  },
  {
   "cell_type": "code",
   "execution_count": 33,
   "id": "dfae74a4",
   "metadata": {},
   "outputs": [
    {
     "data": {
      "image/png": "[encoded data removed]",
      "text/plain": [
       "<Figure size 720x576 with 1 Axes>"
      ]
     },
     "metadata": {
      "needs_background": "light"
     },
     "output_type": "display_data"
    }
   ],
   "source": [
    "# plot naive forecast....\n",
    "plt.figure(figsize=(10,8))\n",
    "plot_time_series(X_train,y_train,label=\"Train_data\")\n",
    "plot_time_series(X_test,y_test,label=\"Test_data\")\n",
    "plot_time_series(X_test[1:],naive_forecast,format=\"-\",label=\"Forecast\")"
   ]
  },
  {
   "cell_type": "markdown",
   "id": "59ac5082",
   "metadata": {},
   "source": [
    "## Evaluate a time series model..."
   ]
  },
  {
   "cell_type": "code",
   "execution_count": 39,
   "id": "f95b2165",
   "metadata": {},
   "outputs": [],
   "source": [
    "def mean_absolute_scaled_error(y_true,y_pred):\n",
    "    \n",
    "    import tensorflow as tf\n",
    "    mae = tf.reduce_mean(tf.abs(y_true - y_pred))\n",
    "    \n",
    "#     find mae for naive forecast\n",
    "    mae_navie_no_season = tf.reduce_mean(tf.abs(y_true[1:] - y_true[:-1]))\n",
    "    return mae / mae_navie_no_season\n",
    "\n",
    "# let's make a function that will evaluate our predictions....\n",
    "\n",
    "def evaluate_preds(y_true,y_pred):\n",
    "#     make sure they're in float 32\n",
    "    import tensorflow as tf\n",
    "    y_true = tf.cast(y_true,dtype=tf.float32)\n",
    "    y_pred = tf.cast(y_pred,dtype=tf.float32)\n",
    "    \n",
    "    \n",
    "#     calculate various metrics....\n",
    "    mae = tf.keras.metrics.mean_absolute_error(y_true,y_pred)\n",
    "    mse = tf.keras.metrics.mean_squared_error(y_true,y_pred)\n",
    "    rmse = tf.sqrt(mse)\n",
    "    mape = tf.keras.metrics.mean_absolute_percentage_error(y_true,y_pred)\n",
    "    mase = mean_absolute_scaled_error(y_true,y_pred)\n",
    "    \n",
    "    results = {\n",
    "        \"MAE\" : mae.numpy(),\n",
    "        \"MSE\" : mse.numpy(),\n",
    "        \"RMSE\" : rmse.numpy(),\n",
    "        \"MAPE\" : mape.numpy(),\n",
    "        \"MASE\" : mase.numpy(),\n",
    "    }\n",
    "    return results"
   ]
  },
  {
   "cell_type": "code",
   "execution_count": 41,
   "id": "75a5387b",
   "metadata": {},
   "outputs": [
    {
     "data": {
      "text/plain": [
       "{'MAE': 567.9803,\n",
       " 'MSE': 1147547.1,\n",
       " 'RMSE': 1071.2362,\n",
       " 'MAPE': 2.516525,\n",
       " 'MASE': 0.99957013}"
      ]
     },
     "execution_count": 41,
     "metadata": {},
     "output_type": "execute_result"
    }
   ],
   "source": [
    "naive_results = evaluate_preds(y_test[1:],naive_forecast)\n",
    "naive_results"
   ]
  },
  {
   "cell_type": "markdown",
   "id": "2338d4cc",
   "metadata": {},
   "source": [
    "## Format Data into window\n",
    "\n",
    "Now we're turning our data into window and horizon. Window is a method to turn time series dataset for machine learning modelling. For example window = 7 and horizon =1 means we're using past 7 days data to predict 1 day btc price. let's see in action"
   ]
  },
  {
   "cell_type": "code",
   "execution_count": 42,
   "id": "6567020c",
   "metadata": {},
   "outputs": [],
   "source": [
    "# setup window and horizon size\n",
    "HORIZON = 1\n",
    "WINDOW = 7 "
   ]
  },
  {
   "cell_type": "code",
   "execution_count": 44,
   "id": "384fd885",
   "metadata": {},
   "outputs": [],
   "source": [
    "def get_label_window(x,horizon):\n",
    "    \n",
    "    return x[:,:-horizon], x[:,-horizon:]"
   ]
  },
  {
   "cell_type": "code",
   "execution_count": 52,
   "id": "38ab3321",
   "metadata": {},
   "outputs": [
    {
     "data": {
      "text/plain": [
       "(array([], shape=(8, 0), dtype=int32),\n",
       " array([[1],\n",
       "        [2],\n",
       "        [3],\n",
       "        [4],\n",
       "        [5],\n",
       "        [6],\n",
       "        [7],\n",
       "        [8]], dtype=int32))"
      ]
     },
     "execution_count": 52,
     "metadata": {},
     "output_type": "execute_result"
    }
   ],
   "source": [
    "# test it out \n",
    "test_window, test_label = get_label_window(tf.expand_dims(tf.range(8)+1,axis=1),1)\n",
    "test_window.numpy(),test_label.numpy()"
   ]
  },
  {
   "cell_type": "code",
   "execution_count": 55,
   "id": "11f5f23b",
   "metadata": {},
   "outputs": [],
   "source": [
    "def make_windows(x,windows = 7,horizon = 1):\n",
    "    \n",
    "    window_step = np.expand_dims(np.arange(windows+horizon),axis=0)\n",
    "    \n",
    "    window_indexes = window_step + np.expand_dims(np.arange(len(x) - (windows+horizon - 1)), axis = 0 ).T\n",
    "    \n",
    "    windowed_array = x[window_indexes]\n",
    "    \n",
    "    windows,label = get_label_window(windowed_array,horizon)\n",
    "    \n",
    "    return windows,label"
   ]
  },
  {
   "cell_type": "code",
   "execution_count": 57,
   "id": "01ef0de5",
   "metadata": {},
   "outputs": [
    {
     "data": {
      "text/plain": [
       "(2780, 2780)"
      ]
     },
     "execution_count": 57,
     "metadata": {},
     "output_type": "execute_result"
    }
   ],
   "source": [
    "# check it out....\n",
    "full_windows,full_labels = make_windows(prices,)\n",
    "len(full_windows),len(full_labels)"
   ]
  },
  {
   "cell_type": "code",
   "execution_count": 58,
   "id": "3d384178",
   "metadata": {},
   "outputs": [
    {
     "name": "stdout",
     "output_type": "stream",
     "text": [
      "[123.65499 125.455   108.58483 118.67466 121.33866 120.65533 121.795  ] [123.033]\n",
      "[125.455   108.58483 118.67466 121.33866 120.65533 121.795   123.033  ] [124.049]\n",
      "[108.58483 118.67466 121.33866 120.65533 121.795   123.033   124.049  ] [125.96116]\n"
     ]
    }
   ],
   "source": [
    "for i in range(3):\n",
    "    print(full_windows[i],full_labels[i])"
   ]
  },
  {
   "cell_type": "code",
   "execution_count": 60,
   "id": "14c4ad4f",
   "metadata": {},
   "outputs": [],
   "source": [
    "# make a function for train and test split\n",
    "def train_test_split(window,label,):\n",
    "    split_size = int(len(window) * 0.8)\n",
    "    train_windows = window[:split_size]\n",
    "    train_labels = label[:split_size]\n",
    "    test_windows = window[split_size:]\n",
    "    test_labels = label[split_size:]\n",
    "    return train_windows,test_windows,train_labels,test_labels"
   ]
  },
  {
   "cell_type": "code",
   "execution_count": 61,
   "id": "03b34387",
   "metadata": {},
   "outputs": [
    {
     "data": {
      "text/plain": [
       "(2224, 2224, 556, 556)"
      ]
     },
     "execution_count": 61,
     "metadata": {},
     "output_type": "execute_result"
    }
   ],
   "source": [
    "train_windows,test_windows,train_labels,test_labels = train_test_split(full_windows,full_labels)\n",
    "len(train_windows),len(train_labels),len(test_windows),len(test_labels)"
   ]
  },
  {
   "cell_type": "code",
   "execution_count": 63,
   "id": "cdc9d610",
   "metadata": {},
   "outputs": [],
   "source": [
    "# make model check point..\n",
    "def create_model_checkpoint(model_name,path=\"model_experiments\"):\n",
    "    data_dir = path + \"/\" + model_name + \"/\" + datetime.datetime.now().strftime(\"%Y%m%d%H%M\")\n",
    "    check_p = TensorBoard(data_dir)\n",
    "    print(f\"Model Saving to : {data_dir}\")\n",
    "    return check_p"
   ]
  },
  {
   "cell_type": "markdown",
   "id": "f0ef68aa",
   "metadata": {},
   "source": [
    "## Model 1 : Dense Model \n",
    "we're going to build our first dense model with window size = 7 and horizon = 1."
   ]
  },
  {
   "cell_type": "code",
   "execution_count": 71,
   "id": "d9d8b2ae",
   "metadata": {},
   "outputs": [
    {
     "name": "stdout",
     "output_type": "stream",
     "text": [
      "Model Saving to : model_experiments/model_1/202208222303\n",
      "Epoch 1/100\n"
     ]
    },
    {
     "name": "stderr",
     "output_type": "stream",
     "text": [
      "2022-08-22 23:03:54.067975: W tensorflow/core/platform/profile_utils/cpu_utils.cc:128] Failed to get CPU frequency: 0 Hz\n",
      "2022-08-22 23:03:54.255656: I tensorflow/core/grappler/optimizers/custom_graph_optimizer_registry.cc:113] Plugin optimizer for device_type GPU is enabled.\n"
     ]
    },
    {
     "name": "stdout",
     "output_type": "stream",
     "text": [
      "18/18 [==============================] - 1s 16ms/step - loss: 780.3450 - mae: 780.3450 - val_loss: 2279.6550 - val_mae: 2279.6550\n",
      "Epoch 2/100\n",
      "18/18 [==============================] - 0s 6ms/step - loss: 247.6752 - mae: 247.6752 - val_loss: 1006.0009 - val_mae: 1006.0009\n",
      "Epoch 3/100\n",
      "14/18 [======================>.......] - ETA: 0s - loss: 192.5418 - mae: 192.5418"
     ]
    },
    {
     "name": "stderr",
     "output_type": "stream",
     "text": [
      "2022-08-22 23:03:54.953085: I tensorflow/core/grappler/optimizers/custom_graph_optimizer_registry.cc:113] Plugin optimizer for device_type GPU is enabled.\n"
     ]
    },
    {
     "name": "stdout",
     "output_type": "stream",
     "text": [
      "18/18 [==============================] - 0s 6ms/step - loss: 188.4117 - mae: 188.4117 - val_loss: 923.2863 - val_mae: 923.2862\n",
      "Epoch 4/100\n",
      "18/18 [==============================] - 0s 6ms/step - loss: 169.4341 - mae: 169.4341 - val_loss: 900.5866 - val_mae: 900.5865\n",
      "Epoch 5/100\n",
      "18/18 [==============================] - 0s 6ms/step - loss: 165.0894 - mae: 165.0894 - val_loss: 895.2215 - val_mae: 895.2215\n",
      "Epoch 6/100\n",
      "18/18 [==============================] - 0s 6ms/step - loss: 158.5210 - mae: 158.5210 - val_loss: 855.1998 - val_mae: 855.1998\n",
      "Epoch 7/100\n",
      "18/18 [==============================] - 0s 6ms/step - loss: 151.3567 - mae: 151.3567 - val_loss: 840.9153 - val_mae: 840.9153\n",
      "Epoch 8/100\n",
      "18/18 [==============================] - 0s 6ms/step - loss: 145.2561 - mae: 145.2561 - val_loss: 803.5953 - val_mae: 803.5953\n",
      "Epoch 9/100\n",
      "18/18 [==============================] - 0s 6ms/step - loss: 144.3546 - mae: 144.3546 - val_loss: 799.5440 - val_mae: 799.5440\n",
      "Epoch 10/100\n",
      "18/18 [==============================] - 0s 5ms/step - loss: 141.2943 - mae: 141.2943 - val_loss: 763.5007 - val_mae: 763.5007\n",
      "Epoch 11/100\n",
      "18/18 [==============================] - 0s 5ms/step - loss: 135.6596 - mae: 135.6596 - val_loss: 771.3337 - val_mae: 771.3337\n",
      "Epoch 12/100\n",
      "18/18 [==============================] - 0s 5ms/step - loss: 134.1700 - mae: 134.1700 - val_loss: 782.8046 - val_mae: 782.8046\n",
      "Epoch 13/100\n",
      "18/18 [==============================] - 0s 5ms/step - loss: 134.6016 - mae: 134.6016 - val_loss: 784.4411 - val_mae: 784.4411\n",
      "Epoch 14/100\n",
      "18/18 [==============================] - 0s 5ms/step - loss: 130.6128 - mae: 130.6128 - val_loss: 751.3199 - val_mae: 751.3199\n",
      "Epoch 15/100\n",
      "18/18 [==============================] - 0s 5ms/step - loss: 128.8347 - mae: 128.8347 - val_loss: 696.5749 - val_mae: 696.5749\n",
      "Epoch 16/100\n",
      "18/18 [==============================] - 0s 5ms/step - loss: 124.7739 - mae: 124.7739 - val_loss: 702.4678 - val_mae: 702.4678\n",
      "Epoch 17/100\n",
      "18/18 [==============================] - 0s 5ms/step - loss: 123.4475 - mae: 123.4475 - val_loss: 704.9214 - val_mae: 704.9214\n",
      "Epoch 18/100\n",
      "18/18 [==============================] - 0s 5ms/step - loss: 122.2105 - mae: 122.2105 - val_loss: 667.9720 - val_mae: 667.9720\n",
      "Epoch 19/100\n",
      "18/18 [==============================] - 0s 5ms/step - loss: 121.7264 - mae: 121.7264 - val_loss: 718.8758 - val_mae: 718.8758\n",
      "Epoch 20/100\n",
      "18/18 [==============================] - 0s 5ms/step - loss: 119.2421 - mae: 119.2421 - val_loss: 657.0656 - val_mae: 657.0656\n",
      "Epoch 21/100\n",
      "18/18 [==============================] - 0s 5ms/step - loss: 121.2275 - mae: 121.2275 - val_loss: 637.0333 - val_mae: 637.0333\n",
      "Epoch 22/100\n",
      "18/18 [==============================] - 0s 5ms/step - loss: 119.9545 - mae: 119.9545 - val_loss: 671.2451 - val_mae: 671.2451\n",
      "Epoch 23/100\n",
      "18/18 [==============================] - 0s 6ms/step - loss: 121.9247 - mae: 121.9247 - val_loss: 633.3578 - val_mae: 633.3578\n",
      "Epoch 24/100\n",
      "18/18 [==============================] - 0s 5ms/step - loss: 116.3666 - mae: 116.3666 - val_loss: 624.4849 - val_mae: 624.4849\n",
      "Epoch 25/100\n",
      "18/18 [==============================] - 0s 6ms/step - loss: 114.6816 - mae: 114.6816 - val_loss: 619.7584 - val_mae: 619.7584\n",
      "Epoch 26/100\n",
      "18/18 [==============================] - 0s 5ms/step - loss: 116.4456 - mae: 116.4456 - val_loss: 615.6362 - val_mae: 615.6362\n",
      "Epoch 27/100\n",
      "18/18 [==============================] - 0s 6ms/step - loss: 116.5867 - mae: 116.5867 - val_loss: 615.9621 - val_mae: 615.9621\n",
      "Epoch 28/100\n",
      "18/18 [==============================] - 0s 5ms/step - loss: 113.4691 - mae: 113.4691 - val_loss: 608.0931 - val_mae: 608.0931\n",
      "Epoch 29/100\n",
      "18/18 [==============================] - 0s 5ms/step - loss: 113.7598 - mae: 113.7598 - val_loss: 621.9286 - val_mae: 621.9286\n",
      "Epoch 30/100\n",
      "18/18 [==============================] - 0s 5ms/step - loss: 116.8613 - mae: 116.8613 - val_loss: 604.4048 - val_mae: 604.4048\n",
      "Epoch 31/100\n",
      "18/18 [==============================] - 0s 5ms/step - loss: 111.9375 - mae: 111.9375 - val_loss: 609.3867 - val_mae: 609.3867\n",
      "Epoch 32/100\n",
      "18/18 [==============================] - 0s 6ms/step - loss: 112.4175 - mae: 112.4175 - val_loss: 603.0577 - val_mae: 603.0577\n",
      "Epoch 33/100\n",
      "18/18 [==============================] - 0s 5ms/step - loss: 112.6697 - mae: 112.6697 - val_loss: 645.6927 - val_mae: 645.6927\n",
      "Epoch 34/100\n",
      "18/18 [==============================] - 0s 5ms/step - loss: 111.9867 - mae: 111.9867 - val_loss: 604.7662 - val_mae: 604.7662\n",
      "Epoch 35/100\n",
      "18/18 [==============================] - 0s 5ms/step - loss: 110.9451 - mae: 110.9451 - val_loss: 593.4645 - val_mae: 593.4645\n",
      "Epoch 36/100\n",
      "18/18 [==============================] - 0s 5ms/step - loss: 114.4816 - mae: 114.4816 - val_loss: 608.0048 - val_mae: 608.0048\n",
      "Epoch 37/100\n",
      "18/18 [==============================] - 0s 5ms/step - loss: 110.2017 - mae: 110.2017 - val_loss: 597.2292 - val_mae: 597.2292\n",
      "Epoch 38/100\n",
      "18/18 [==============================] - 0s 5ms/step - loss: 112.2371 - mae: 112.2371 - val_loss: 637.9846 - val_mae: 637.9846\n",
      "Epoch 39/100\n",
      "18/18 [==============================] - 0s 5ms/step - loss: 115.1290 - mae: 115.1290 - val_loss: 587.4680 - val_mae: 587.4680\n",
      "Epoch 40/100\n",
      "18/18 [==============================] - 0s 5ms/step - loss: 110.0854 - mae: 110.0854 - val_loss: 592.7141 - val_mae: 592.7141\n",
      "Epoch 41/100\n",
      "18/18 [==============================] - 0s 5ms/step - loss: 110.6344 - mae: 110.6344 - val_loss: 593.9023 - val_mae: 593.9023\n",
      "Epoch 42/100\n",
      "18/18 [==============================] - 0s 5ms/step - loss: 113.5763 - mae: 113.5763 - val_loss: 636.3625 - val_mae: 636.3625\n",
      "Epoch 43/100\n",
      "18/18 [==============================] - 0s 5ms/step - loss: 116.2284 - mae: 116.2284 - val_loss: 662.9321 - val_mae: 662.9321\n",
      "Epoch 44/100\n",
      "18/18 [==============================] - 0s 5ms/step - loss: 120.0193 - mae: 120.0193 - val_loss: 635.6417 - val_mae: 635.6417\n",
      "Epoch 45/100\n",
      "18/18 [==============================] - 0s 5ms/step - loss: 110.9676 - mae: 110.9676 - val_loss: 601.9896 - val_mae: 601.9896\n",
      "Epoch 46/100\n",
      "18/18 [==============================] - 0s 5ms/step - loss: 111.6012 - mae: 111.6012 - val_loss: 593.3563 - val_mae: 593.3563\n",
      "Epoch 47/100\n",
      "18/18 [==============================] - 0s 5ms/step - loss: 109.6161 - mae: 109.6161 - val_loss: 636.9967 - val_mae: 636.9967\n",
      "Epoch 48/100\n",
      "18/18 [==============================] - 0s 5ms/step - loss: 109.1367 - mae: 109.1367 - val_loss: 598.4169 - val_mae: 598.4169\n",
      "Epoch 49/100\n",
      "18/18 [==============================] - 0s 5ms/step - loss: 112.4355 - mae: 112.4355 - val_loss: 579.7043 - val_mae: 579.7043\n",
      "Epoch 50/100\n",
      "18/18 [==============================] - 0s 5ms/step - loss: 110.2108 - mae: 110.2108 - val_loss: 639.2374 - val_mae: 639.2374\n",
      "Epoch 51/100\n",
      "18/18 [==============================] - 0s 5ms/step - loss: 111.0959 - mae: 111.0959 - val_loss: 597.3546 - val_mae: 597.3546\n",
      "Epoch 52/100\n",
      "18/18 [==============================] - 0s 5ms/step - loss: 110.7352 - mae: 110.7352 - val_loss: 580.7245 - val_mae: 580.7245\n",
      "Epoch 53/100\n",
      "18/18 [==============================] - 0s 5ms/step - loss: 111.1785 - mae: 111.1785 - val_loss: 648.3535 - val_mae: 648.3535\n",
      "Epoch 54/100\n",
      "18/18 [==============================] - 0s 5ms/step - loss: 114.0830 - mae: 114.0830 - val_loss: 593.1980 - val_mae: 593.1980\n",
      "Epoch 55/100\n",
      "18/18 [==============================] - 0s 5ms/step - loss: 110.4910 - mae: 110.4910 - val_loss: 579.5082 - val_mae: 579.5082\n",
      "Epoch 56/100\n",
      "18/18 [==============================] - 0s 5ms/step - loss: 108.0488 - mae: 108.0488 - val_loss: 807.3919 - val_mae: 807.3919\n",
      "Epoch 57/100\n",
      "18/18 [==============================] - 0s 6ms/step - loss: 125.0613 - mae: 125.0613 - val_loss: 674.1707 - val_mae: 674.1707\n",
      "Epoch 58/100\n",
      "18/18 [==============================] - 0s 5ms/step - loss: 115.4340 - mae: 115.4340 - val_loss: 582.2684 - val_mae: 582.2684\n",
      "Epoch 59/100\n",
      "18/18 [==============================] - 0s 5ms/step - loss: 110.0880 - mae: 110.0880 - val_loss: 606.7674 - val_mae: 606.7674\n",
      "Epoch 60/100\n",
      "18/18 [==============================] - 0s 5ms/step - loss: 108.7157 - mae: 108.7157 - val_loss: 602.3076 - val_mae: 602.3076\n",
      "Epoch 61/100\n"
     ]
    },
    {
     "name": "stdout",
     "output_type": "stream",
     "text": [
      "18/18 [==============================] - 0s 5ms/step - loss: 108.1524 - mae: 108.1524 - val_loss: 573.9989 - val_mae: 573.9989\n",
      "Epoch 62/100\n",
      "18/18 [==============================] - 0s 5ms/step - loss: 107.3727 - mae: 107.3727 - val_loss: 581.7037 - val_mae: 581.7037\n",
      "Epoch 63/100\n",
      "18/18 [==============================] - 0s 5ms/step - loss: 110.7667 - mae: 110.7667 - val_loss: 637.5209 - val_mae: 637.5209\n",
      "Epoch 64/100\n",
      "18/18 [==============================] - 0s 5ms/step - loss: 110.1539 - mae: 110.1539 - val_loss: 586.6582 - val_mae: 586.6582\n",
      "Epoch 65/100\n",
      "18/18 [==============================] - 0s 5ms/step - loss: 108.2324 - mae: 108.2324 - val_loss: 573.5630 - val_mae: 573.5630\n",
      "Epoch 66/100\n",
      "18/18 [==============================] - 0s 5ms/step - loss: 108.6826 - mae: 108.6826 - val_loss: 572.2212 - val_mae: 572.2212\n",
      "Epoch 67/100\n",
      "18/18 [==============================] - 0s 5ms/step - loss: 106.6343 - mae: 106.6343 - val_loss: 647.4645 - val_mae: 647.4645\n",
      "Epoch 68/100\n",
      "18/18 [==============================] - 0s 5ms/step - loss: 114.2956 - mae: 114.2956 - val_loss: 689.2582 - val_mae: 689.2582\n",
      "Epoch 69/100\n",
      "18/18 [==============================] - 0s 5ms/step - loss: 124.8882 - mae: 124.8882 - val_loss: 664.9310 - val_mae: 664.9310\n",
      "Epoch 70/100\n",
      "18/18 [==============================] - 0s 5ms/step - loss: 125.0143 - mae: 125.0143 - val_loss: 618.4305 - val_mae: 618.4305\n",
      "Epoch 71/100\n",
      "18/18 [==============================] - 0s 5ms/step - loss: 109.6281 - mae: 109.6281 - val_loss: 584.4574 - val_mae: 584.4574\n",
      "Epoch 72/100\n",
      "18/18 [==============================] - 0s 5ms/step - loss: 108.4591 - mae: 108.4591 - val_loss: 573.9260 - val_mae: 573.9260\n",
      "Epoch 73/100\n",
      "18/18 [==============================] - 0s 5ms/step - loss: 110.1845 - mae: 110.1845 - val_loss: 609.8442 - val_mae: 609.8442\n",
      "Epoch 74/100\n",
      "18/18 [==============================] - 0s 5ms/step - loss: 106.8209 - mae: 106.8209 - val_loss: 575.5916 - val_mae: 575.5916\n",
      "Epoch 75/100\n",
      "18/18 [==============================] - 0s 5ms/step - loss: 107.4159 - mae: 107.4159 - val_loss: 590.8853 - val_mae: 590.8853\n",
      "Epoch 76/100\n",
      "18/18 [==============================] - 0s 5ms/step - loss: 109.1644 - mae: 109.1644 - val_loss: 600.3297 - val_mae: 600.3297\n",
      "Epoch 77/100\n",
      "18/18 [==============================] - 0s 5ms/step - loss: 107.3339 - mae: 107.3339 - val_loss: 572.3529 - val_mae: 572.3529\n",
      "Epoch 78/100\n",
      "18/18 [==============================] - 0s 5ms/step - loss: 108.1691 - mae: 108.1691 - val_loss: 575.2716 - val_mae: 575.2716\n",
      "Epoch 79/100\n",
      "18/18 [==============================] - 0s 5ms/step - loss: 107.1006 - mae: 107.1006 - val_loss: 606.5524 - val_mae: 606.5523\n",
      "Epoch 80/100\n",
      "18/18 [==============================] - 0s 5ms/step - loss: 108.7341 - mae: 108.7341 - val_loss: 573.4880 - val_mae: 573.4880\n",
      "Epoch 81/100\n",
      "18/18 [==============================] - 0s 5ms/step - loss: 105.7251 - mae: 105.7251 - val_loss: 571.0026 - val_mae: 571.0026\n",
      "Epoch 82/100\n",
      "18/18 [==============================] - 0s 5ms/step - loss: 115.6700 - mae: 115.6700 - val_loss: 572.5710 - val_mae: 572.5710\n",
      "Epoch 83/100\n",
      "18/18 [==============================] - 0s 5ms/step - loss: 111.3230 - mae: 111.3230 - val_loss: 649.7844 - val_mae: 649.7844\n",
      "Epoch 84/100\n",
      "18/18 [==============================] - 0s 5ms/step - loss: 111.5547 - mae: 111.5547 - val_loss: 577.4987 - val_mae: 577.4987\n",
      "Epoch 85/100\n",
      "18/18 [==============================] - 0s 5ms/step - loss: 107.0080 - mae: 107.0080 - val_loss: 587.9792 - val_mae: 587.9792\n",
      "Epoch 86/100\n",
      "18/18 [==============================] - 0s 5ms/step - loss: 109.6056 - mae: 109.6056 - val_loss: 600.9603 - val_mae: 600.9603\n",
      "Epoch 87/100\n",
      "18/18 [==============================] - 0s 5ms/step - loss: 106.2095 - mae: 106.2095 - val_loss: 591.7929 - val_mae: 591.7929\n",
      "Epoch 88/100\n",
      "18/18 [==============================] - 0s 5ms/step - loss: 108.1315 - mae: 108.1315 - val_loss: 572.4072 - val_mae: 572.4072\n",
      "Epoch 89/100\n",
      "18/18 [==============================] - 0s 6ms/step - loss: 107.9393 - mae: 107.9393 - val_loss: 570.7312 - val_mae: 570.7312\n",
      "Epoch 90/100\n",
      "18/18 [==============================] - 0s 5ms/step - loss: 105.3661 - mae: 105.3661 - val_loss: 587.2082 - val_mae: 587.2082\n",
      "Epoch 91/100\n",
      "18/18 [==============================] - 0s 5ms/step - loss: 108.8479 - mae: 108.8479 - val_loss: 586.2095 - val_mae: 586.2095\n",
      "Epoch 92/100\n",
      "18/18 [==============================] - 0s 5ms/step - loss: 109.6205 - mae: 109.6205 - val_loss: 572.0212 - val_mae: 572.0212\n",
      "Epoch 93/100\n",
      "18/18 [==============================] - 0s 5ms/step - loss: 113.8106 - mae: 113.8106 - val_loss: 610.9279 - val_mae: 610.9279\n",
      "Epoch 94/100\n",
      "18/18 [==============================] - 0s 5ms/step - loss: 111.0650 - mae: 111.0650 - val_loss: 593.5231 - val_mae: 593.5231\n",
      "Epoch 95/100\n",
      "18/18 [==============================] - 0s 5ms/step - loss: 105.8460 - mae: 105.8460 - val_loss: 568.5737 - val_mae: 568.5737\n",
      "Epoch 96/100\n",
      "18/18 [==============================] - 0s 5ms/step - loss: 112.4036 - mae: 112.4036 - val_loss: 689.5345 - val_mae: 689.5345\n",
      "Epoch 97/100\n",
      "18/18 [==============================] - 0s 5ms/step - loss: 111.1533 - mae: 111.1533 - val_loss: 578.8859 - val_mae: 578.8859\n",
      "Epoch 98/100\n",
      "18/18 [==============================] - 0s 5ms/step - loss: 109.7159 - mae: 109.7159 - val_loss: 584.3619 - val_mae: 584.3619\n",
      "Epoch 99/100\n",
      "18/18 [==============================] - 0s 5ms/step - loss: 109.0405 - mae: 109.0405 - val_loss: 568.4771 - val_mae: 568.4771\n",
      "Epoch 100/100\n",
      "18/18 [==============================] - 0s 5ms/step - loss: 106.4398 - mae: 106.4398 - val_loss: 589.9119 - val_mae: 589.9119\n"
     ]
    }
   ],
   "source": [
    "# let's build dense model...\n",
    "tf.random.set_seed(42)\n",
    "\n",
    "# construct model \n",
    "model_1 = Sequential(name=\"model_1\")\n",
    "model_1.add(layers.Dense(128,activation=\"relu\"))\n",
    "model_1.add(layers.Dense(HORIZON,activation=\"linear\"))\n",
    "\n",
    "# compile the model\n",
    "model_1.compile(loss=\"mae\",\n",
    "               optimizer=tf.keras.optimizers.Adam(),\n",
    "               metrics=[\"mae\"])\n",
    "\n",
    "# fit the model\n",
    "history_1 = model_1.fit(train_windows,train_labels,epochs=100,batch_size=128,\n",
    "                       validation_data=(test_windows,test_labels),\n",
    "                       callbacks=[create_model_checkpoint(\"model_1\")])"
   ]
  },
  {
   "cell_type": "code",
   "execution_count": 73,
   "id": "65006ccc",
   "metadata": {},
   "outputs": [
    {
     "name": "stdout",
     "output_type": "stream",
     "text": [
      "18/18 [==============================] - 0s 9ms/step - loss: 589.9119 - mae: 589.9119\n"
     ]
    },
    {
     "data": {
      "text/plain": [
       "[589.911865234375, 589.911865234375]"
      ]
     },
     "execution_count": 73,
     "metadata": {},
     "output_type": "execute_result"
    }
   ],
   "source": [
    "# evalute our model\n",
    "model_1.evaluate(test_windows,test_labels)"
   ]
  },
  {
   "cell_type": "code",
   "execution_count": 74,
   "id": "06cdf8e4",
   "metadata": {},
   "outputs": [],
   "source": [
    "# make a function for prediction\n",
    "def make_preds(model,data):\n",
    "    pred = model.predict(data)\n",
    "    return tf.squeeze(pred)"
   ]
  },
  {
   "cell_type": "code",
   "execution_count": 75,
   "id": "dde24b61",
   "metadata": {},
   "outputs": [
    {
     "name": "stdout",
     "output_type": "stream",
     "text": [
      "18/18 [==============================] - 0s 2ms/step\n"
     ]
    },
    {
     "name": "stderr",
     "output_type": "stream",
     "text": [
      "2022-08-22 23:14:47.312605: I tensorflow/core/grappler/optimizers/custom_graph_optimizer_registry.cc:113] Plugin optimizer for device_type GPU is enabled.\n"
     ]
    },
    {
     "data": {
      "text/plain": [
       "<tf.Tensor: shape=(556,), dtype=float32, numpy=\n",
       "array([ 8794.223 ,  8706.797 ,  8961.296 ,  8741.508 ,  8663.25  ,\n",
       "        8666.623 ,  8632.853 ,  8444.614 ,  8397.16  ,  8460.887 ,\n",
       "        8199.932 ,  8051.6123,  7999.487 ,  7637.419 ,  7229.345 ,\n",
       "        7206.5957,  7050.6855,  7131.563 ,  7095.811 ,  7423.9907,\n",
       "        7355.9688,  7653.485 ,  7524.2783,  7384.0645,  7269.0825,\n",
       "        7273.947 ,  7177.659 ,  7304.6973,  7442.3003,  7489.825 ,\n",
       "        7496.807 ,  7323.1533,  7201.231 ,  7139.8906,  7142.9316,\n",
       "        7172.9194,  7055.815 ,  7049.6147,  6859.538 ,  6577.152 ,\n",
       "        7228.3027,  7192.351 ,  7105.659 ,  7184.599 ,  7250.824 ,\n",
       "        7127.5674,  7165.8867,  7173.975 ,  7138.9487,  7162.9443,\n",
       "        7253.562 ,  7330.251 ,  7223.555 ,  7138.939 ,  7120.764 ,\n",
       "        6943.0176,  7177.119 ,  7281.7793,  7313.2725,  7605.075 ,\n",
       "        7982.7344,  8056.524 ,  7812.53  ,  8013.463 ,  8052.0117,\n",
       "        8103.3623,  8052.0215,  8614.301 ,  8803.383 ,  8714.823 ,\n",
       "        8840.703 ,  8922.908 ,  8644.164 ,  8569.584 ,  8636.731 ,\n",
       "        8601.293 ,  8346.618 ,  8362.477 ,  8300.845 ,  8472.695 ,\n",
       "        8766.404 ,  9064.416 ,  9261.381 ,  9492.356 ,  9393.576 ,\n",
       "        9329.992 ,  9325.831 ,  9235.506 ,  9116.763 ,  9486.109 ,\n",
       "        9625.392 ,  9732.053 ,  9846.844 , 10079.915 ,  9836.829 ,\n",
       "       10121.705 , 10293.018 , 10207.255 , 10262.291 ,  9935.174 ,\n",
       "        9812.203 ,  9573.159 , 10040.117 ,  9718.156 ,  9567.302 ,\n",
       "        9554.006 ,  9650.339 ,  9807.157 ,  9616.375 ,  9357.846 ,\n",
       "        8781.716 ,  8701.403 ,  8699.163 ,  8634.594 ,  8479.525 ,\n",
       "        8791.834 ,  8766.557 ,  8703.088 ,  8960.423 ,  9094.572 ,\n",
       "        8904.702 ,  8194.244 ,  7834.199 ,  7861.841 ,  7940.59  ,\n",
       "        6203.784 ,  5627.714 ,  5494.841 ,  5607.119 ,  5132.662 ,\n",
       "        5401.8057,  5351.393 ,  6139.056 ,  6175.565 ,  6218.305 ,\n",
       "        5899.986 ,  6382.2573,  6715.102 ,  6721.885 ,  6674.953 ,\n",
       "        6675.8833,  6272.587 ,  5901.154 ,  6325.2544,  6457.147 ,\n",
       "        6499.8037,  6741.7544,  6793.7476,  6819.441 ,  6772.795 ,\n",
       "        7192.861 ,  7160.343 ,  7317.4375,  7282.8228,  6914.8457,\n",
       "        6800.571 ,  6958.0933,  6894.3   ,  6818.5664,  6678.3105,\n",
       "        7061.7725,  7041.315 ,  7214.7363,  7144.67  ,  6884.1084,\n",
       "        6829.713 ,  7037.3584,  7465.885 ,  7472.0103,  7507.851 ,\n",
       "        7580.2183,  7743.858 ,  7724.702 ,  8591.639 ,  8770.512 ,\n",
       "        8852.519 ,  8904.453 ,  8931.127 ,  8847.271 ,  8906.488 ,\n",
       "        9268.767 ,  9788.389 ,  9898.07  ,  9630.841 ,  8855.197 ,\n",
       "        8555.654 ,  8702.08  ,  9239.004 ,  9659.596 ,  9390.098 ,\n",
       "        9366.782 ,  9607.984 ,  9701.5625,  9648.326 ,  9498.139 ,\n",
       "        9136.882 ,  9097.29  ,  9144.4375,  9027.065 ,  8835.091 ,\n",
       "        8762.656 ,  9004.314 ,  9390.051 ,  9393.167 ,  9602.239 ,\n",
       "        9425.324 , 10119.193 ,  9581.129 ,  9596.369 ,  9683.598 ,\n",
       "        9679.975 ,  9578.532 ,  9653.185 ,  9731.116 ,  9715.817 ,\n",
       "        9796.352 ,  9287.242 ,  9349.824 ,  9374.869 ,  9336.542 ,\n",
       "        9324.109 ,  9437.662 ,  9408.39  ,  9334.086 ,  9228.184 ,\n",
       "        9273.987 ,  9230.577 ,  9558.283 ,  9558.82  ,  9303.913 ,\n",
       "        9175.778 ,  9122.599 ,  8986.773 ,  9003.511 ,  9103.51  ,\n",
       "        9096.101 ,  9151.957 ,  9057.181 ,  9035.294 ,  9047.779 ,\n",
       "        9007.989 ,  9175.151 ,  9188.848 ,  9388.955 ,  9208.135 ,\n",
       "        9192.097 ,  9156.77  ,  9226.674 ,  9174.219 ,  9189.614 ,\n",
       "        9150.235 ,  9080.77  ,  9083.238 ,  9106.92  ,  9123.287 ,\n",
       "        9105.611 ,  9301.634 ,  9458.884 ,  9559.6045,  9521.148 ,\n",
       "        9642.349 ,  9858.819 , 10977.378 , 10977.9375, 11230.592 ,\n",
       "       11097.589 , 11362.045 , 11645.02  , 11193.1   , 11153.521 ,\n",
       "       11142.619 , 11549.121 , 11686.086 , 11607.205 , 11653.163 ,\n",
       "       11627.081 , 11746.446 , 11326.592 , 11429.396 , 11624.727 ,\n",
       "       11733.604 , 11780.891 , 11829.266 , 12273.603 , 12060.164 ,\n",
       "       11727.132 , 11711.449 , 11558.295 , 11573.656 , 11559.035 ,\n",
       "       11656.953 , 11340.404 , 11355.451 , 11230.13  , 11382.873 ,\n",
       "       11413.082 , 11566.945 , 11594.609 , 11863.877 , 11436.639 ,\n",
       "       10726.392 , 10446.345 , 10048.343 , 10102.389 , 10277.786 ,\n",
       "       10073.526 , 10122.617 , 10256.129 , 10330.977 , 10343.221 ,\n",
       "       10271.894 , 10565.132 , 10751.039 , 10962.243 , 10887.248 ,\n",
       "       10889.3955, 10969.557 , 10822.193 , 10489.824 , 10427.122 ,\n",
       "       10225.377 , 10527.53  , 10644.008 , 10683.896 , 10664.262 ,\n",
       "       10799.185 , 10717.751 , 10671.584 , 10561.051 , 10499.578 ,\n",
       "       10470.23  , 10565.571 , 10665.031 , 10540.736 , 10559.615 ,\n",
       "       10790.827 , 10978.055 , 11255.13  , 11286.289 , 11579.26  ,\n",
       "       11424.794 , 11352.599 , 11401.059 , 11316.98  , 11268.395 ,\n",
       "       11361.572 , 11666.619 , 11845.744 , 12889.583 , 13130.145 ,\n",
       "       12968.723 , 12991.301 , 13007.019 , 12962.416 , 13523.269 ,\n",
       "       13288.968 , 13363.628 , 13456.96  , 13813.96  , 13657.987 ,\n",
       "       13566.238 , 13709.952 , 14049.84  , 15180.051 , 15500.707 ,\n",
       "       14875.014 , 15309.277 , 15292.329 , 15311.953 , 15601.322 ,\n",
       "       16148.898 , 16266.0205, 15960.471 , 15839.291 , 16544.287 ,\n",
       "       17413.363 , 17752.97  , 17878.635 , 18486.598 , 18580.143 ,\n",
       "       18562.443 , 18378.91  , 18881.271 , 18681.898 , 17303.764 ,\n",
       "       16821.086 , 17533.023 , 18060.387 , 19064.957 , 18968.908 ,\n",
       "       19134.424 , 19327.562 , 18877.666 , 18857.959 , 18955.396 ,\n",
       "       19017.166 , 18579.688 , 18412.906 , 18233.586 , 18040.107 ,\n",
       "       18604.445 , 18921.152 , 19125.688 , 19291.559 , 20998.725 ,\n",
       "       22681.37  , 23058.564 , 23734.592 , 23641.756 , 23241.229 ,\n",
       "       23240.486 , 23139.02  , 23400.846 , 24268.006 , 26054.842 ,\n",
       "       26357.365 , 26638.627 , 26864.424 , 28517.723 , 29008.674 ,\n",
       "       29254.17  , 31648.12  , 32967.332 , 31684.6   , 33824.07  ,\n",
       "       36068.56  , 39247.61  , 40305.605 , 40488.703 , 38976.125 ,\n",
       "       34977.2   , 33808.984 , 36236.996 , 38378.72  , 36894.207 ,\n",
       "       35793.254 , 36148.598 , 36228.484 , 36274.04  , 34943.527 ,\n",
       "       30965.63  , 32514.312 , 32173.63  , 32263.49  , 31951.477 ,\n",
       "       32294.16  , 30554.088 , 32703.658 , 34480.723 , 34653.926 ,\n",
       "       33027.316 , 33406.715 , 35214.21  , 37050.918 , 37132.473 ,\n",
       "       37648.367 , 39906.336 , 38737.25  , 43585.402 , 46400.715 ,\n",
       "       45754.64  , 46852.19  , 47967.035 , 47157.586 , 48467.008 ,\n",
       "       48114.703 , 48530.105 , 51327.465 , 51757.445 , 54956.24  ,\n",
       "       54793.79  , 56834.277 , 54300.562 , 48835.367 , 47890.7   ,\n",
       "       48065.594 , 46171.758 , 45901.645 , 45064.19  , 48291.336 ,\n",
       "       47829.527 , 50224.684 , 48260.336 , 48960.934 , 48470.02  ,\n",
       "       50215.7   , 50975.664 , 53872.32  , 56445.58  , 57590.06  ,\n",
       "       57261.14  , 60160.52  , 60229.98  , 56643.734 , 55986.812 ,\n",
       "       57936.73  , 57940.06  , 57828.055 , 58132.41  , 57655.875 ,\n",
       "       54388.44  , 54145.56  , 52643.34  , 51946.45  , 53505.016 ,\n",
       "       55799.316 , 55200.25  , 56940.098 , 58421.086 , 58651.348 ,\n",
       "       58588.145 , 58597.16  , 57394.297 , 57625.36  , 58318.855 ,\n",
       "       57835.336 , 56221.438 , 57205.824 , 57775.01  , 58793.48  ,\n",
       "       59301.97  , 59592.656 , 62443.63  , 62785.438 , 63082.26  ,\n",
       "       61750.832 , 60506.01  , 56878.39  , 55734.055 , 55999.047 ,\n",
       "       54361.414 , 51750.51  , 50257.734 , 50330.984 , 48574.5   ,\n",
       "       52279.355 , 54669.43  , 54627.082 , 53022.88  , 56629.79  ,\n",
       "       57544.01  , 56416.484 , 56643.94  , 53965.508 , 56319.13  ,\n",
       "       56244.508 , 56857.008 , 57949.105 , 58081.844 , 55695.84  ,\n",
       "       55945.715 , 52471.727 , 49657.92  , 49223.984 , 48139.48  ,\n",
       "       45579.38  ], dtype=float32)>"
      ]
     },
     "execution_count": 75,
     "metadata": {},
     "output_type": "execute_result"
    }
   ],
   "source": [
    "# make prediction...\n",
    "model_1_pred = make_preds(model_1,test_windows)\n",
    "model_1_pred"
   ]
  },
  {
   "cell_type": "code",
   "execution_count": 77,
   "id": "ef6df9df",
   "metadata": {},
   "outputs": [
    {
     "data": {
      "text/plain": [
       "{'MAE': 589.91187,\n",
       " 'MSE': 1204430.1,\n",
       " 'RMSE': 1097.4653,\n",
       " 'MAPE': 2.6385434,\n",
       " 'MASE': 1.0363115}"
      ]
     },
     "execution_count": 77,
     "metadata": {},
     "output_type": "execute_result"
    }
   ],
   "source": [
    "# let's evaluate our model\n",
    "model_1_results = evaluate_preds(tf.squeeze(test_labels),model_1_pred)\n",
    "model_1_results"
   ]
  },
  {
   "cell_type": "code",
   "execution_count": 78,
   "id": "53279724",
   "metadata": {},
   "outputs": [
    {
     "data": {
      "text/plain": [
       "{'MAE': 567.9803,\n",
       " 'MSE': 1147547.1,\n",
       " 'RMSE': 1071.2362,\n",
       " 'MAPE': 2.516525,\n",
       " 'MASE': 0.99957013}"
      ]
     },
     "execution_count": 78,
     "metadata": {},
     "output_type": "execute_result"
    }
   ],
   "source": [
    "# did it beat the naive model\n",
    "naive_results"
   ]
  },
  {
   "cell_type": "markdown",
   "id": "1a0d0185",
   "metadata": {},
   "source": [
    "## Model 2 : Dense\n",
    "\n",
    "Let's build our 2nd dense model with window size = 30 and horizon = 1. means we're using monthly data to predict one bitcoin price."
   ]
  },
  {
   "cell_type": "code",
   "execution_count": 80,
   "id": "c8f49e0c",
   "metadata": {},
   "outputs": [
    {
     "data": {
      "text/plain": [
       "(2205, 2205, 552, 552)"
      ]
     },
     "execution_count": 80,
     "metadata": {},
     "output_type": "execute_result"
    }
   ],
   "source": [
    "HORIZON = 1\n",
    "WINDOW = 30\n",
    "\n",
    "# make data sets...\n",
    "full_windows,full_labels  = make_windows(prices,WINDOW,HORIZON)\n",
    "train_windows,test_windows,train_labels,test_labels = train_test_split(full_windows,full_labels)\n",
    "len(train_windows),len(train_labels),len(test_windows),len(test_labels)"
   ]
  },
  {
   "cell_type": "code",
   "execution_count": 81,
   "id": "0848c77b",
   "metadata": {},
   "outputs": [
    {
     "name": "stdout",
     "output_type": "stream",
     "text": [
      "Model Saving to : model_experiments/model_2_dense/202208222324\n",
      "Epoch 1/100\n",
      "15/18 [========================>.....] - ETA: 0s - loss: 1139.7314 - mae: 1139.7314"
     ]
    },
    {
     "name": "stderr",
     "output_type": "stream",
     "text": [
      "2022-08-22 23:24:19.193328: I tensorflow/core/grappler/optimizers/custom_graph_optimizer_registry.cc:113] Plugin optimizer for device_type GPU is enabled.\n"
     ]
    },
    {
     "name": "stdout",
     "output_type": "stream",
     "text": [
      "18/18 [==============================] - 0s 13ms/step - loss: 1097.0399 - mae: 1097.0399 - val_loss: 3900.2065 - val_mae: 3900.2065\n",
      "Epoch 2/100\n",
      "18/18 [==============================] - 0s 5ms/step - loss: 428.0732 - mae: 428.0732 - val_loss: 1587.0874 - val_mae: 1587.0874\n",
      "Epoch 3/100\n",
      "10/18 [===============>..............] - ETA: 0s - loss: 302.3531 - mae: 302.3531"
     ]
    },
    {
     "name": "stderr",
     "output_type": "stream",
     "text": [
      "2022-08-22 23:24:19.505127: I tensorflow/core/grappler/optimizers/custom_graph_optimizer_registry.cc:113] Plugin optimizer for device_type GPU is enabled.\n"
     ]
    },
    {
     "name": "stdout",
     "output_type": "stream",
     "text": [
      "18/18 [==============================] - 0s 6ms/step - loss: 279.7657 - mae: 279.7657 - val_loss: 1220.6958 - val_mae: 1220.6958\n",
      "Epoch 4/100\n",
      "18/18 [==============================] - 0s 5ms/step - loss: 224.3639 - mae: 224.3639 - val_loss: 1160.1470 - val_mae: 1160.1470\n",
      "Epoch 5/100\n",
      "18/18 [==============================] - 0s 6ms/step - loss: 187.9680 - mae: 187.9680 - val_loss: 1007.6438 - val_mae: 1007.6438\n",
      "Epoch 6/100\n",
      "18/18 [==============================] - 0s 5ms/step - loss: 182.9174 - mae: 182.9174 - val_loss: 1019.5895 - val_mae: 1019.5895\n",
      "Epoch 7/100\n",
      "18/18 [==============================] - 0s 6ms/step - loss: 187.7610 - mae: 187.7610 - val_loss: 1145.1880 - val_mae: 1145.1880\n",
      "Epoch 8/100\n",
      "18/18 [==============================] - 0s 6ms/step - loss: 192.2205 - mae: 192.2205 - val_loss: 967.7980 - val_mae: 967.7980\n",
      "Epoch 9/100\n",
      "18/18 [==============================] - 0s 5ms/step - loss: 167.4042 - mae: 167.4042 - val_loss: 896.5208 - val_mae: 896.5208\n",
      "Epoch 10/100\n",
      "18/18 [==============================] - 0s 6ms/step - loss: 161.6689 - mae: 161.6689 - val_loss: 881.9183 - val_mae: 881.9183\n",
      "Epoch 11/100\n",
      "18/18 [==============================] - 0s 6ms/step - loss: 162.2630 - mae: 162.2630 - val_loss: 862.7040 - val_mae: 862.7040\n",
      "Epoch 12/100\n",
      "18/18 [==============================] - 0s 6ms/step - loss: 157.5803 - mae: 157.5803 - val_loss: 854.5486 - val_mae: 854.5486\n",
      "Epoch 13/100\n",
      "18/18 [==============================] - 0s 6ms/step - loss: 161.8847 - mae: 161.8847 - val_loss: 896.9510 - val_mae: 896.9510\n",
      "Epoch 14/100\n",
      "18/18 [==============================] - 0s 7ms/step - loss: 151.4931 - mae: 151.4931 - val_loss: 831.5538 - val_mae: 831.5538\n",
      "Epoch 15/100\n",
      "18/18 [==============================] - 0s 6ms/step - loss: 173.4638 - mae: 173.4638 - val_loss: 1162.3771 - val_mae: 1162.3771\n",
      "Epoch 16/100\n",
      "18/18 [==============================] - 0s 6ms/step - loss: 189.4202 - mae: 189.4202 - val_loss: 1001.4175 - val_mae: 1001.4175\n",
      "Epoch 17/100\n",
      "18/18 [==============================] - 0s 6ms/step - loss: 162.2181 - mae: 162.2181 - val_loss: 850.3946 - val_mae: 850.3946\n",
      "Epoch 18/100\n",
      "18/18 [==============================] - 0s 6ms/step - loss: 148.0055 - mae: 148.0055 - val_loss: 806.9550 - val_mae: 806.9550\n",
      "Epoch 19/100\n",
      "18/18 [==============================] - 0s 7ms/step - loss: 150.0042 - mae: 150.0042 - val_loss: 1353.2933 - val_mae: 1353.2933\n",
      "Epoch 20/100\n",
      "18/18 [==============================] - 0s 6ms/step - loss: 165.2349 - mae: 165.2349 - val_loss: 836.8514 - val_mae: 836.8514\n",
      "Epoch 21/100\n",
      "18/18 [==============================] - 0s 7ms/step - loss: 152.7955 - mae: 152.7955 - val_loss: 987.7731 - val_mae: 987.7731\n",
      "Epoch 22/100\n",
      "18/18 [==============================] - 0s 6ms/step - loss: 158.1595 - mae: 158.1595 - val_loss: 776.8551 - val_mae: 776.8551\n",
      "Epoch 23/100\n",
      "18/18 [==============================] - 0s 6ms/step - loss: 143.1846 - mae: 143.1846 - val_loss: 931.6522 - val_mae: 931.6522\n",
      "Epoch 24/100\n",
      "18/18 [==============================] - 0s 6ms/step - loss: 156.9475 - mae: 156.9475 - val_loss: 843.3629 - val_mae: 843.3629\n",
      "Epoch 25/100\n",
      "18/18 [==============================] - 0s 6ms/step - loss: 145.3662 - mae: 145.3662 - val_loss: 817.6201 - val_mae: 817.6201\n",
      "Epoch 26/100\n",
      "18/18 [==============================] - 0s 7ms/step - loss: 144.4370 - mae: 144.4370 - val_loss: 1058.8870 - val_mae: 1058.8870\n",
      "Epoch 27/100\n",
      "18/18 [==============================] - 0s 6ms/step - loss: 165.3620 - mae: 165.3620 - val_loss: 749.7731 - val_mae: 749.7731\n",
      "Epoch 28/100\n",
      "18/18 [==============================] - 0s 6ms/step - loss: 141.2543 - mae: 141.2543 - val_loss: 975.9736 - val_mae: 975.9736\n",
      "Epoch 29/100\n",
      "18/18 [==============================] - 0s 6ms/step - loss: 147.7540 - mae: 147.7540 - val_loss: 826.3310 - val_mae: 826.3310\n",
      "Epoch 30/100\n",
      "18/18 [==============================] - 0s 6ms/step - loss: 159.1261 - mae: 159.1261 - val_loss: 1057.5129 - val_mae: 1057.5129\n",
      "Epoch 31/100\n",
      "18/18 [==============================] - 0s 6ms/step - loss: 147.7520 - mae: 147.7520 - val_loss: 881.7708 - val_mae: 881.7708\n",
      "Epoch 32/100\n",
      "18/18 [==============================] - 0s 6ms/step - loss: 140.3813 - mae: 140.3813 - val_loss: 897.1979 - val_mae: 897.1979\n",
      "Epoch 33/100\n",
      "18/18 [==============================] - 0s 6ms/step - loss: 143.2535 - mae: 143.2535 - val_loss: 734.1003 - val_mae: 734.1003\n",
      "Epoch 34/100\n",
      "18/18 [==============================] - 0s 5ms/step - loss: 133.1353 - mae: 133.1353 - val_loss: 728.0350 - val_mae: 728.0350\n",
      "Epoch 35/100\n",
      "18/18 [==============================] - 0s 6ms/step - loss: 134.0757 - mae: 134.0757 - val_loss: 708.9816 - val_mae: 708.9816\n",
      "Epoch 36/100\n",
      "18/18 [==============================] - 0s 6ms/step - loss: 144.0191 - mae: 144.0191 - val_loss: 825.2448 - val_mae: 825.2448\n",
      "Epoch 37/100\n",
      "18/18 [==============================] - 0s 6ms/step - loss: 144.0109 - mae: 144.0109 - val_loss: 748.0826 - val_mae: 748.0826\n",
      "Epoch 38/100\n",
      "18/18 [==============================] - 0s 5ms/step - loss: 135.7089 - mae: 135.7089 - val_loss: 945.9768 - val_mae: 945.9768\n",
      "Epoch 39/100\n",
      "18/18 [==============================] - 0s 6ms/step - loss: 140.0538 - mae: 140.0538 - val_loss: 1027.0144 - val_mae: 1027.0144\n",
      "Epoch 40/100\n",
      "18/18 [==============================] - 0s 6ms/step - loss: 157.7097 - mae: 157.7097 - val_loss: 1261.0549 - val_mae: 1261.0549\n",
      "Epoch 41/100\n",
      "18/18 [==============================] - 0s 6ms/step - loss: 142.1159 - mae: 142.1159 - val_loss: 733.5767 - val_mae: 733.5767\n",
      "Epoch 42/100\n",
      "18/18 [==============================] - 0s 6ms/step - loss: 137.9253 - mae: 137.9253 - val_loss: 821.5327 - val_mae: 821.5327\n",
      "Epoch 43/100\n",
      "18/18 [==============================] - 0s 6ms/step - loss: 134.2044 - mae: 134.2044 - val_loss: 841.4893 - val_mae: 841.4893\n",
      "Epoch 44/100\n",
      "18/18 [==============================] - 0s 6ms/step - loss: 141.0524 - mae: 141.0524 - val_loss: 680.3043 - val_mae: 680.3043\n",
      "Epoch 45/100\n",
      "18/18 [==============================] - 0s 6ms/step - loss: 126.0286 - mae: 126.0286 - val_loss: 694.2222 - val_mae: 694.2222\n",
      "Epoch 46/100\n",
      "18/18 [==============================] - 0s 6ms/step - loss: 127.9722 - mae: 127.9722 - val_loss: 672.9131 - val_mae: 672.9131\n",
      "Epoch 47/100\n",
      "18/18 [==============================] - 0s 6ms/step - loss: 128.5828 - mae: 128.5828 - val_loss: 669.3988 - val_mae: 669.3988\n",
      "Epoch 48/100\n",
      "18/18 [==============================] - 0s 6ms/step - loss: 129.6976 - mae: 129.6976 - val_loss: 1142.9547 - val_mae: 1142.9547\n",
      "Epoch 49/100\n",
      "18/18 [==============================] - 0s 6ms/step - loss: 163.5252 - mae: 163.5252 - val_loss: 971.6528 - val_mae: 971.6528\n",
      "Epoch 50/100\n",
      "18/18 [==============================] - 0s 6ms/step - loss: 160.9363 - mae: 160.9363 - val_loss: 1062.3400 - val_mae: 1062.3400\n",
      "Epoch 51/100\n",
      "18/18 [==============================] - 0s 6ms/step - loss: 149.8798 - mae: 149.8798 - val_loss: 1145.4478 - val_mae: 1145.4478\n",
      "Epoch 52/100\n",
      "18/18 [==============================] - 0s 5ms/step - loss: 153.2551 - mae: 153.2551 - val_loss: 954.3561 - val_mae: 954.3561\n",
      "Epoch 53/100\n",
      "18/18 [==============================] - 0s 6ms/step - loss: 145.4137 - mae: 145.4137 - val_loss: 750.9464 - val_mae: 750.9464\n",
      "Epoch 54/100\n",
      "18/18 [==============================] - 0s 6ms/step - loss: 139.3661 - mae: 139.3661 - val_loss: 1084.1819 - val_mae: 1084.1818\n",
      "Epoch 55/100\n",
      "18/18 [==============================] - 0s 5ms/step - loss: 168.9181 - mae: 168.9181 - val_loss: 721.3152 - val_mae: 721.3152\n",
      "Epoch 56/100\n",
      "18/18 [==============================] - 0s 5ms/step - loss: 159.2253 - mae: 159.2253 - val_loss: 655.4064 - val_mae: 655.4064\n",
      "Epoch 57/100\n",
      "18/18 [==============================] - 0s 5ms/step - loss: 130.2783 - mae: 130.2783 - val_loss: 706.0716 - val_mae: 706.0716\n",
      "Epoch 58/100\n",
      "18/18 [==============================] - 0s 5ms/step - loss: 131.9645 - mae: 131.9645 - val_loss: 748.5616 - val_mae: 748.5616\n",
      "Epoch 59/100\n",
      "18/18 [==============================] - 0s 5ms/step - loss: 160.0636 - mae: 160.0636 - val_loss: 712.2473 - val_mae: 712.2473\n",
      "Epoch 60/100\n",
      "18/18 [==============================] - 0s 5ms/step - loss: 121.8793 - mae: 121.8793 - val_loss: 693.2806 - val_mae: 693.2806\n",
      "Epoch 61/100\n"
     ]
    },
    {
     "name": "stdout",
     "output_type": "stream",
     "text": [
      "18/18 [==============================] - 0s 5ms/step - loss: 126.1348 - mae: 126.1348 - val_loss: 672.2117 - val_mae: 672.2117\n",
      "Epoch 62/100\n",
      "18/18 [==============================] - 0s 5ms/step - loss: 130.4214 - mae: 130.4214 - val_loss: 801.4264 - val_mae: 801.4264\n",
      "Epoch 63/100\n",
      "18/18 [==============================] - 0s 5ms/step - loss: 127.6032 - mae: 127.6032 - val_loss: 639.7857 - val_mae: 639.7857\n",
      "Epoch 64/100\n",
      "18/18 [==============================] - 0s 5ms/step - loss: 124.4576 - mae: 124.4576 - val_loss: 737.6666 - val_mae: 737.6666\n",
      "Epoch 65/100\n",
      "18/18 [==============================] - 0s 5ms/step - loss: 127.4750 - mae: 127.4750 - val_loss: 634.6021 - val_mae: 634.6021\n",
      "Epoch 66/100\n",
      "18/18 [==============================] - 0s 5ms/step - loss: 121.9509 - mae: 121.9509 - val_loss: 632.6848 - val_mae: 632.6848\n",
      "Epoch 67/100\n",
      "18/18 [==============================] - 0s 5ms/step - loss: 122.7524 - mae: 122.7524 - val_loss: 642.1250 - val_mae: 642.1250\n",
      "Epoch 68/100\n",
      "18/18 [==============================] - 0s 5ms/step - loss: 134.2489 - mae: 134.2489 - val_loss: 652.5214 - val_mae: 652.5214\n",
      "Epoch 69/100\n",
      "18/18 [==============================] - 0s 5ms/step - loss: 128.6462 - mae: 128.6462 - val_loss: 1061.7277 - val_mae: 1061.7277\n",
      "Epoch 70/100\n",
      "18/18 [==============================] - 0s 5ms/step - loss: 144.8774 - mae: 144.8774 - val_loss: 924.6721 - val_mae: 924.6721\n",
      "Epoch 71/100\n",
      "18/18 [==============================] - 0s 5ms/step - loss: 128.8812 - mae: 128.8812 - val_loss: 651.3107 - val_mae: 651.3107\n",
      "Epoch 72/100\n",
      "18/18 [==============================] - 0s 5ms/step - loss: 127.6703 - mae: 127.6703 - val_loss: 631.4880 - val_mae: 631.4880\n",
      "Epoch 73/100\n",
      "18/18 [==============================] - 0s 5ms/step - loss: 127.0399 - mae: 127.0399 - val_loss: 657.5282 - val_mae: 657.5282\n",
      "Epoch 74/100\n",
      "18/18 [==============================] - 0s 5ms/step - loss: 127.4615 - mae: 127.4615 - val_loss: 627.1454 - val_mae: 627.1454\n",
      "Epoch 75/100\n",
      "18/18 [==============================] - 0s 5ms/step - loss: 117.4669 - mae: 117.4669 - val_loss: 629.8739 - val_mae: 629.8739\n",
      "Epoch 76/100\n",
      "18/18 [==============================] - 0s 5ms/step - loss: 118.0121 - mae: 118.0121 - val_loss: 835.3373 - val_mae: 835.3373\n",
      "Epoch 77/100\n",
      "18/18 [==============================] - 0s 5ms/step - loss: 127.7308 - mae: 127.7308 - val_loss: 647.6653 - val_mae: 647.6653\n",
      "Epoch 78/100\n",
      "18/18 [==============================] - 0s 5ms/step - loss: 120.8357 - mae: 120.8357 - val_loss: 744.2256 - val_mae: 744.2256\n",
      "Epoch 79/100\n",
      "18/18 [==============================] - 0s 6ms/step - loss: 129.9678 - mae: 129.9678 - val_loss: 618.6533 - val_mae: 618.6533\n",
      "Epoch 80/100\n",
      "18/18 [==============================] - 0s 5ms/step - loss: 122.1593 - mae: 122.1593 - val_loss: 675.8226 - val_mae: 675.8226\n",
      "Epoch 81/100\n",
      "18/18 [==============================] - 0s 5ms/step - loss: 117.1629 - mae: 117.1629 - val_loss: 661.2444 - val_mae: 661.2444\n",
      "Epoch 82/100\n",
      "18/18 [==============================] - 0s 5ms/step - loss: 121.9568 - mae: 121.9568 - val_loss: 940.2650 - val_mae: 940.2650\n",
      "Epoch 83/100\n",
      "18/18 [==============================] - 0s 5ms/step - loss: 133.8742 - mae: 133.8742 - val_loss: 638.9193 - val_mae: 638.9193\n",
      "Epoch 84/100\n",
      "18/18 [==============================] - 0s 5ms/step - loss: 144.2085 - mae: 144.2085 - val_loss: 1053.6968 - val_mae: 1053.6968\n",
      "Epoch 85/100\n",
      "18/18 [==============================] - 0s 5ms/step - loss: 184.6717 - mae: 184.6717 - val_loss: 805.6271 - val_mae: 805.6271\n",
      "Epoch 86/100\n",
      "18/18 [==============================] - 0s 5ms/step - loss: 149.1033 - mae: 149.1033 - val_loss: 756.4615 - val_mae: 756.4615\n",
      "Epoch 87/100\n",
      "18/18 [==============================] - 0s 5ms/step - loss: 120.3843 - mae: 120.3843 - val_loss: 632.7646 - val_mae: 632.7646\n",
      "Epoch 88/100\n",
      "18/18 [==============================] - 0s 5ms/step - loss: 116.4006 - mae: 116.4006 - val_loss: 714.5154 - val_mae: 714.5154\n",
      "Epoch 89/100\n",
      "18/18 [==============================] - 0s 5ms/step - loss: 129.5234 - mae: 129.5234 - val_loss: 623.0493 - val_mae: 623.0493\n",
      "Epoch 90/100\n",
      "18/18 [==============================] - 0s 5ms/step - loss: 120.8546 - mae: 120.8546 - val_loss: 662.2240 - val_mae: 662.2240\n",
      "Epoch 91/100\n",
      "18/18 [==============================] - 0s 5ms/step - loss: 117.2077 - mae: 117.2077 - val_loss: 680.6512 - val_mae: 680.6512\n",
      "Epoch 92/100\n",
      "18/18 [==============================] - 0s 5ms/step - loss: 117.8611 - mae: 117.8611 - val_loss: 659.5493 - val_mae: 659.5493\n",
      "Epoch 93/100\n",
      "18/18 [==============================] - 0s 5ms/step - loss: 117.3842 - mae: 117.3842 - val_loss: 659.4946 - val_mae: 659.4946\n",
      "Epoch 94/100\n",
      "18/18 [==============================] - 0s 5ms/step - loss: 115.4049 - mae: 115.4049 - val_loss: 690.3852 - val_mae: 690.3852\n",
      "Epoch 95/100\n",
      "18/18 [==============================] - 0s 5ms/step - loss: 143.5157 - mae: 143.5157 - val_loss: 604.0017 - val_mae: 604.0017\n",
      "Epoch 96/100\n",
      "18/18 [==============================] - 0s 5ms/step - loss: 130.1441 - mae: 130.1441 - val_loss: 751.5865 - val_mae: 751.5865\n",
      "Epoch 97/100\n",
      "18/18 [==============================] - 0s 5ms/step - loss: 128.4721 - mae: 128.4721 - val_loss: 902.8633 - val_mae: 902.8633\n",
      "Epoch 98/100\n",
      "18/18 [==============================] - 0s 5ms/step - loss: 141.8205 - mae: 141.8205 - val_loss: 620.7676 - val_mae: 620.7676\n",
      "Epoch 99/100\n",
      "18/18 [==============================] - 0s 5ms/step - loss: 117.4638 - mae: 117.4638 - val_loss: 844.2040 - val_mae: 844.2040\n",
      "Epoch 100/100\n",
      "18/18 [==============================] - 0s 5ms/step - loss: 121.9345 - mae: 121.9345 - val_loss: 605.8130 - val_mae: 605.8130\n"
     ]
    }
   ],
   "source": [
    "# let's construct the model\n",
    "# setup the random seed\n",
    "tf.random.set_seed(42)\n",
    "\n",
    "# construct the model\n",
    "model_2 = Sequential(name=\"model_2\")\n",
    "model_2.add(layers.Dense(128,activation=\"relu\"))\n",
    "model_2.add(layers.Dense(HORIZON,activation=\"linear\"))\n",
    "\n",
    "# compile the model\n",
    "model_2.compile(loss=\"mae\",\n",
    "               optimizer=tf.keras.optimizers.Adam(),\n",
    "               metrics=[\"mae\"])\n",
    "\n",
    "# fit the model\n",
    "history_2 = model_2.fit(train_windows,train_labels,epochs=100,batch_size=128,\n",
    "                       validation_data=(test_windows,test_labels),\n",
    "                       callbacks=[create_model_checkpoint(\"model_2_dense\")])"
   ]
  },
  {
   "cell_type": "code",
   "execution_count": 82,
   "id": "8ad5d4e1",
   "metadata": {},
   "outputs": [
    {
     "name": "stdout",
     "output_type": "stream",
     "text": [
      "18/18 [==============================] - 0s 8ms/step - loss: 605.8130 - mae: 605.8130\n"
     ]
    },
    {
     "data": {
      "text/plain": [
       "[605.81298828125, 605.81298828125]"
      ]
     },
     "execution_count": 82,
     "metadata": {},
     "output_type": "execute_result"
    }
   ],
   "source": [
    "# let's evaluate our model....\n",
    "model_2.evaluate(test_windows,test_labels)"
   ]
  },
  {
   "cell_type": "code",
   "execution_count": 84,
   "id": "0fd033e1",
   "metadata": {},
   "outputs": [
    {
     "name": "stdout",
     "output_type": "stream",
     "text": [
      "18/18 [==============================] - 0s 2ms/step\n"
     ]
    },
    {
     "name": "stderr",
     "output_type": "stream",
     "text": [
      "2022-08-22 23:25:31.789674: I tensorflow/core/grappler/optimizers/custom_graph_optimizer_registry.cc:113] Plugin optimizer for device_type GPU is enabled.\n"
     ]
    },
    {
     "data": {
      "text/plain": [
       "<tf.Tensor: shape=(10,), dtype=float32, numpy=\n",
       "array([8873.3545, 8892.45  , 8752.066 , 8544.906 , 8408.22  , 8308.76  ,\n",
       "       8239.076 , 8113.9067, 8159.001 , 7775.4316], dtype=float32)>"
      ]
     },
     "execution_count": 84,
     "metadata": {},
     "output_type": "execute_result"
    }
   ],
   "source": [
    "# let's make predictions...\n",
    "model_2_pred = make_preds(model_2,test_windows)\n",
    "model_2_pred[:10]"
   ]
  },
  {
   "cell_type": "code",
   "execution_count": 86,
   "id": "499c4463",
   "metadata": {},
   "outputs": [
    {
     "data": {
      "text/plain": [
       "{'MAE': 605.813,\n",
       " 'MSE': 1265319.5,\n",
       " 'RMSE': 1124.8641,\n",
       " 'MAPE': 2.7242374,\n",
       " 'MASE': 1.058967}"
      ]
     },
     "execution_count": 86,
     "metadata": {},
     "output_type": "execute_result"
    }
   ],
   "source": [
    "# calculate the results....\n",
    "model_2_results = evaluate_preds(tf.squeeze(test_labels),model_2_pred)\n",
    "model_2_results"
   ]
  },
  {
   "cell_type": "code",
   "execution_count": null,
   "id": "2c4ae449",
   "metadata": {},
   "outputs": [],
   "source": []
  }
 ],
 "metadata": {
  "kernelspec": {
   "display_name": "Python 3 (ipykernel)",
   "language": "python",
   "name": "python3"
  },
  "language_info": {
   "codemirror_mode": {
    "name": "ipython",
    "version": 3
   },
   "file_extension": ".py",
   "mimetype": "text/x-python",
   "name": "python",
   "nbconvert_exporter": "python",
   "pygments_lexer": "ipython3",
   "version": "3.8.13"
  }
 },
 "nbformat": 4,
 "nbformat_minor": 5
}
